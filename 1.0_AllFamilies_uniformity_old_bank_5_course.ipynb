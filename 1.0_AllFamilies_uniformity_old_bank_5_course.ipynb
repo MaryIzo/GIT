{
 "cells": [
  {
   "cell_type": "markdown",
   "metadata": {},
   "source": [
    "1 этап работы.  \n",
    "Результаты 5 курса.  \n",
    "В этом файле содержится предобработка данных и сравнение распределений в экспериментальных и модельных даннных.  \n",
    "Условие однородности необходимо проверить для того, чтобы мы могли утверждать, что выбранный алгоритм кластеризации на модельных данных подходит для кластеризации экспериментальных данных.  "
   ]
  },
  {
   "cell_type": "code",
   "execution_count": 1,
   "metadata": {},
   "outputs": [],
   "source": [
    "import pandas\n",
    "import numpy as np\n",
    "import scipy\n",
    "import matplotlib as mpl\n",
    "from scipy import stats\n",
    "from matplotlib import pyplot as plt\n",
    "import seaborn as sns\n",
    "mpl.use('TkAgg')\n",
    "import math\n",
    "from scipy import stats\n",
    "from statsmodels.distributions.empirical_distribution import ECDF\n",
    "import warnings \n",
    "#warnings.filterwarnings(\"ignore\",category=FutureWarning)"
   ]
  },
  {
   "cell_type": "code",
   "execution_count": 2,
   "metadata": {},
   "outputs": [
    {
     "name": "stdout",
     "output_type": "stream",
     "text": [
      "3.3.2\n",
      "0.11.0\n"
     ]
    }
   ],
   "source": [
    "# ГРАФИКА\n",
    "large = 22; med = 16; small = 12\n",
    "params = {'axes.titlesize': large,\n",
    "          'legend.fontsize': med,\n",
    "          'figure.figsize': (16, 10),\n",
    "          'axes.labelsize': med,\n",
    "          'axes.titlesize': med,\n",
    "          'xtick.labelsize': med,\n",
    "          'ytick.labelsize': med,\n",
    "          'figure.titlesize': large}\n",
    "plt.rcParams.update(params)\n",
    "plt.style.use('seaborn-whitegrid')\n",
    "sns.set_style(\"white\")\n",
    "%matplotlib inline\n",
    "sns.set(style=\"whitegrid\")\n",
    "# Version\n",
    "print(mpl.__version__)  #> 3.0.0\n",
    "print(sns.__version__) "
   ]
  },
  {
   "cell_type": "markdown",
   "metadata": {},
   "source": [
    "Считывание файлов с данными.  "
   ]
  },
  {
   "cell_type": "code",
   "execution_count": 3,
   "metadata": {},
   "outputs": [],
   "source": [
    "data1 = pandas.read_csv('data/AllExp.csv')\n",
    "AllExp = data1.loc[data1[' num_of_fam']<=910].copy()\n",
    "AllExp = AllExp[AllExp['E(J)']<999]\n",
    "ColExp = AllExp.columns"
   ]
  },
  {
   "cell_type": "code",
   "execution_count": 4,
   "metadata": {},
   "outputs": [],
   "source": [
    "AllMc0 = pandas.read_csv('data/AllMc0.csv')\n",
    "AllMc0 = AllMc0[AllMc0['E(J)']<999]\n",
    "AllMc0 = AllMc0.loc[AllMc0[' num_of_family']<1299].copy()"
   ]
  },
  {
   "cell_type": "code",
   "execution_count": 8,
   "metadata": {},
   "outputs": [],
   "source": [
    "# Содержит информацию об A0\n",
    "data1 = pandas.read_csv('data/mc0_A0.txt', sep=' ')\n",
    "data1 = data1.loc[data1['num_of_family']<1299].copy()"
   ]
  },
  {
   "cell_type": "code",
   "execution_count": 9,
   "metadata": {},
   "outputs": [],
   "source": [
    "# Вычисляем расстояние до энергитического центра\n",
    "def Create_Distance(X, Y):\n",
    "    R = (X*X+Y*Y)**0.5\n",
    "    return R"
   ]
  },
  {
   "cell_type": "code",
   "execution_count": 10,
   "metadata": {},
   "outputs": [],
   "source": [
    "#Добавляем расстояние в ДатаФрейм\n",
    "AllExp['R'] = Create_Distance(AllExp['X(J)'].values, AllExp['Y(J)'].values)\n",
    "AllMc0['R'] = Create_Distance(AllMc0['X(J)'].values, AllMc0['Y(J)'].values)\n",
    "AllExp = AllExp[AllExp['R']<15].copy()\n",
    "AllMc0 = AllMc0[AllMc0['R']<15].copy()"
   ]
  },
  {
   "cell_type": "code",
   "execution_count": 11,
   "metadata": {},
   "outputs": [],
   "source": [
    "# Удаление семейств, где количество частиц меньше или равно 3\n",
    "def Amount(df, name):\n",
    "    # Group values for Series and add 'cnt' column with count\n",
    "    df['cnt'] = df.groupby([name])[name].transform('count')\n",
    "    # Drop indexes for count value == 1, and dropping 'cnt' column\n",
    "    df = df.drop(df[df.cnt<=2].index)\n",
    "    return df"
   ]
  },
  {
   "cell_type": "code",
   "execution_count": 12,
   "metadata": {},
   "outputs": [],
   "source": [
    "AllExp = Amount(AllExp, ' num_of_fam').copy()\n",
    "AllMc0 = Amount(AllMc0, ' num_of_family').copy()"
   ]
  },
  {
   "cell_type": "code",
   "execution_count": 13,
   "metadata": {},
   "outputs": [],
   "source": [
    "AllExp['ER']=AllExp['E(J)']*AllExp['R']\n",
    "AllMc0['ER']=AllMc0['E(J)']*AllMc0['R']"
   ]
  },
  {
   "cell_type": "markdown",
   "metadata": {},
   "source": [
    "1. Проверка данных на нормальность распределений."
   ]
  },
  {
   "cell_type": "code",
   "execution_count": 3,
   "metadata": {},
   "outputs": [],
   "source": [
    "# AllExp = pandas.read_csv('datachanged/AllExpC')\n",
    "# AllMc0 = pandas.read_csv('datachanged/AllMc0C')"
   ]
  },
  {
   "cell_type": "code",
   "execution_count": 16,
   "metadata": {},
   "outputs": [],
   "source": [
    "def Normal_function(dataS, Some, label):\n",
    "    alpha = 0.05\n",
    "    \n",
    "    stat, p = stats.shapiro(dataS)\n",
    "    print('Shapiro Statistics = %.3f, p = %e' % (stat, p))\n",
    "    if p > alpha:\n",
    "        print('Является нормальным (принять H0)')\n",
    "    else:\n",
    "        print('Не является нормальным (отклонить H0)')\n",
    "        \n",
    "    print()\n",
    "    \n",
    "    #sns.distplot(dataS, kde = 0, axlabel= f'values {Some} in {label} ')\n",
    "    #plt.savefig(f'images/norm/norm_{Some}_{label}.png')"
   ]
  },
  {
   "cell_type": "code",
   "execution_count": 19,
   "metadata": {},
   "outputs": [
    {
     "name": "stdout",
     "output_type": "stream",
     "text": [
      "Shapiro Statistics = 0.759, p = 0.000000e+00\n",
      "Не является нормальным (отклонить H0)\n",
      "\n"
     ]
    }
   ],
   "source": [
    "Normal_function(AllExp['R'], 'R', 'exp')"
   ]
  },
  {
   "cell_type": "code",
   "execution_count": 20,
   "metadata": {},
   "outputs": [
    {
     "name": "stdout",
     "output_type": "stream",
     "text": [
      "Shapiro Statistics = 0.308, p = 0.000000e+00\n",
      "Не является нормальным (отклонить H0)\n",
      "\n"
     ]
    }
   ],
   "source": [
    "Normal_function(AllExp['E(J)'], 'E(J)', 'exp')"
   ]
  },
  {
   "cell_type": "code",
   "execution_count": 23,
   "metadata": {},
   "outputs": [
    {
     "name": "stdout",
     "output_type": "stream",
     "text": [
      "Shapiro Statistics = 0.739, p = 0.000000e+00\n",
      "Не является нормальным (отклонить H0)\n",
      "\n"
     ]
    }
   ],
   "source": [
    "Normal_function(AllMc0['R'], 'R', 'mc0')"
   ]
  },
  {
   "cell_type": "code",
   "execution_count": 24,
   "metadata": {},
   "outputs": [
    {
     "name": "stdout",
     "output_type": "stream",
     "text": [
      "Shapiro Statistics = 0.327, p = 0.000000e+00\n",
      "Не является нормальным (отклонить H0)\n",
      "\n"
     ]
    }
   ],
   "source": [
    "Normal_function(AllMc0['E(J)'], 'E(J)', 'mc0')"
   ]
  },
  {
   "cell_type": "markdown",
   "metadata": {},
   "source": [
    "2. Проверка на логнормальность."
   ]
  },
  {
   "cell_type": "code",
   "execution_count": 25,
   "metadata": {},
   "outputs": [
    {
     "name": "stdout",
     "output_type": "stream",
     "text": [
      "Shapiro Statistics = 0.895, p = 0.000000e+00\n",
      "Не является нормальным (отклонить H0)\n",
      "\n"
     ]
    }
   ],
   "source": [
    "# Распределение по всем энергиям в эксперименте не является логнормальным\n",
    "Normal_function(np.log(AllExp['E(J)']), 'ln_E', len(AllExp['E(J)']))"
   ]
  },
  {
   "cell_type": "markdown",
   "metadata": {},
   "source": [
    "3. Подсчет суммарных энергий в датасете по семействам."
   ]
  },
  {
   "cell_type": "code",
   "execution_count": 26,
   "metadata": {},
   "outputs": [],
   "source": [
    "# Функция считает сумму энергий для всех частиц на пленке \n",
    "# Печатает номер семейства, в котором суммарная энергия меньше 100, такие мы не рассматриваем\n",
    "def Mean_of_Some(data, Some, name):\n",
    "    \n",
    "    Sum_of_E = []\n",
    "    Sum_of_E_New = []\n",
    "    \n",
    "    Num = set(data[name])\n",
    "\n",
    "    \n",
    "    \n",
    "    for i in Num: \n",
    "        OneFamily = pandas.DataFrame( data.loc[lambda data: data[name] == i, :] ).copy()\n",
    "        s = OneFamily[Some].sum()\n",
    "        \n",
    "        for j in range(len(OneFamily)):\n",
    "            Sum_of_E_New.append( s ) \n",
    "        if s < 100:\n",
    "            print(i)\n",
    "        \n",
    "        Sum_of_E.append( OneFamily[Some].sum() )\n",
    "        #Mean_of_E.append( OneFamily[Some].mean() )\n",
    "    \n",
    "    \n",
    "    return Sum_of_E, Sum_of_E_New"
   ]
  },
  {
   "cell_type": "code",
   "execution_count": 27,
   "metadata": {},
   "outputs": [
    {
     "name": "stdout",
     "output_type": "stream",
     "text": [
      "40\n",
      "100\n",
      "104\n",
      "322\n",
      "343\n",
      "494\n",
      "554\n"
     ]
    }
   ],
   "source": [
    "# Посчитаем распределения по суммам энергий и расстояний для эксперимента и модели\n",
    "Sum_EE,  Sum_of_EE_New  = Mean_of_Some(AllExp, 'E(J)', ' num_of_fam')"
   ]
  },
  {
   "cell_type": "code",
   "execution_count": 28,
   "metadata": {},
   "outputs": [
    {
     "name": "stdout",
     "output_type": "stream",
     "text": [
      "52\n",
      "55\n",
      "70\n",
      "95\n",
      "113\n",
      "214\n",
      "226\n",
      "239\n",
      "263\n",
      "308\n",
      "309\n",
      "312\n",
      "323\n",
      "349\n",
      "434\n",
      "492\n",
      "539\n",
      "554\n",
      "564\n",
      "573\n",
      "667\n",
      "675\n",
      "704\n",
      "754\n",
      "762\n",
      "772\n",
      "782\n",
      "784\n",
      "831\n",
      "893\n",
      "988\n",
      "1016\n",
      "1114\n",
      "1157\n",
      "1160\n",
      "1166\n",
      "1193\n",
      "1229\n",
      "1240\n",
      "1250\n",
      "1259\n",
      "1288\n",
      "1289\n"
     ]
    }
   ],
   "source": [
    "Sum_EM,  Sum_of_EM_New = Mean_of_Some(AllMc0, 'E(J)', ' num_of_family')"
   ]
  },
  {
   "cell_type": "code",
   "execution_count": 29,
   "metadata": {},
   "outputs": [],
   "source": [
    "AllExp['sum_energy'] = Sum_of_EE_New\n",
    "AllExp = AllExp[AllExp['sum_energy']>100].copy()"
   ]
  },
  {
   "cell_type": "code",
   "execution_count": 30,
   "metadata": {},
   "outputs": [],
   "source": [
    "AllMc0['sum_energy'] = Sum_of_EM_New\n",
    "AllMc0 = AllMc0[AllMc0['sum_energy']>100].copy()"
   ]
  },
  {
   "cell_type": "code",
   "execution_count": 31,
   "metadata": {},
   "outputs": [],
   "source": [
    "AllExp['lg_r'] = np.log10(AllExp['R'].values)\n",
    "AllExp['lg_e_r'] = np.log10(AllExp['ER'].values)"
   ]
  },
  {
   "cell_type": "code",
   "execution_count": 32,
   "metadata": {},
   "outputs": [],
   "source": [
    "AllMc0['lg_r'] = np.log10(AllMc0['R'].values)\n",
    "AllMc0['lg_e_r'] = np.log10(AllMc0['ER'].values)"
   ]
  },
  {
   "cell_type": "code",
   "execution_count": 246,
   "metadata": {},
   "outputs": [],
   "source": [
    "# Сохранение обработанных файлов в папку datachanged\n",
    "#AllExp.to_csv('datachanged/AllExpC')\n",
    "#AllMc0.to_csv('datachanged/AllMc0C')"
   ]
  },
  {
   "cell_type": "markdown",
   "metadata": {},
   "source": [
    "4. Проверка нормальности и логнормальности распределений по суммам энергий "
   ]
  },
  {
   "cell_type": "code",
   "execution_count": 3,
   "metadata": {},
   "outputs": [],
   "source": [
    "AllExp = pandas.read_csv('datachanged/AllExpC')\n",
    "AllMc0 = pandas.read_csv('datachanged/AllMc0C')"
   ]
  },
  {
   "cell_type": "code",
   "execution_count": 33,
   "metadata": {},
   "outputs": [
    {
     "name": "stdout",
     "output_type": "stream",
     "text": [
      "Shapiro Statistics = 0.424, p = 0.000000e+00\n",
      "Не является нормальным (отклонить H0)\n",
      "\n"
     ]
    }
   ],
   "source": [
    "# Распределение по суммам энергий для эксперимента не является нормальным\n",
    "Normal_function( Sum_EE, 'Sum_EE', len(Sum_EE))"
   ]
  },
  {
   "cell_type": "code",
   "execution_count": 34,
   "metadata": {},
   "outputs": [
    {
     "name": "stdout",
     "output_type": "stream",
     "text": [
      "Shapiro Statistics = 0.888, p = 4.018882e-25\n",
      "Не является нормальным (отклонить H0)\n",
      "\n"
     ]
    }
   ],
   "source": [
    "# Распределение по суммам энергий для эксперимента не является логнормальным\n",
    "Normal_function( np.log(Sum_EE), 'Sum_EE', len(Sum_EE))"
   ]
  },
  {
   "cell_type": "code",
   "execution_count": 35,
   "metadata": {},
   "outputs": [
    {
     "name": "stdout",
     "output_type": "stream",
     "text": [
      "Shapiro Statistics = 0.627, p = 0.000000e+00\n",
      "Не является нормальным (отклонить H0)\n",
      "\n"
     ]
    }
   ],
   "source": [
    "# Распределение по суммам средних расстояний для эксперимента не является нормальным\n",
    "Normal_function( Sum_EM, 'Sum_EM', len(Sum_EM))"
   ]
  },
  {
   "cell_type": "code",
   "execution_count": 37,
   "metadata": {},
   "outputs": [
    {
     "name": "stdout",
     "output_type": "stream",
     "text": [
      "Shapiro Statistics = 0.908, p = 3.425586e-27\n",
      "Не является нормальным (отклонить H0)\n",
      "\n"
     ]
    }
   ],
   "source": [
    "# Распределение по суммам средних расстояний для эксперимента не является логнормальным\n",
    "Normal_function( np.log(Sum_EM), 'Sum_EM', len(Sum_EE))"
   ]
  },
  {
   "cell_type": "markdown",
   "metadata": {},
   "source": [
    "3. Посмотрим корреляцию между признаками отдельно в эксперименте и в модели."
   ]
  },
  {
   "cell_type": "code",
   "execution_count": 38,
   "metadata": {},
   "outputs": [],
   "source": [
    "def CorrelationBetween(dataS1, dataS2, Some1, Some2):\n",
    "    alpha = 0.05\n",
    "    N = len(dataS1)\n",
    "    stat, p = stats.spearmanr(dataS1[:N], dataS2[:N])\n",
    "    print('Spearmanr correlation = %.3f, p = %.3f' % (stat, p))\n",
    "    \n",
    "    if p > alpha:\n",
    "        print('Нет корреляции')\n",
    "    else:\n",
    "        print('Есть корреляция')\n",
    "        if stat < 0:\n",
    "            print (f'С увеличением {Some1} уменьшается {Some2}')\n",
    "        else:\n",
    "            print (f'С увеличением {Some1} увеличивается {Some2}')"
   ]
  },
  {
   "cell_type": "code",
   "execution_count": 39,
   "metadata": {},
   "outputs": [
    {
     "name": "stdout",
     "output_type": "stream",
     "text": [
      "Spearmanr correlation = -0.258, p = 0.000\n",
      "Есть корреляция\n",
      "С увеличением R уменьшается E\n"
     ]
    }
   ],
   "source": [
    "# Исследование зависимости между распределением расстояния R и энергией пятна.\n",
    "# p < 0.05 => есть корреляция между R и E\n",
    "# С увеличением R уменьшается E, так как отрицательная корреляция\n",
    "CorrelationBetween(AllExp['R'], AllExp['E(J)'],'R', 'E')"
   ]
  },
  {
   "cell_type": "code",
   "execution_count": 40,
   "metadata": {},
   "outputs": [
    {
     "name": "stdout",
     "output_type": "stream",
     "text": [
      "Spearmanr correlation = -0.109, p = 0.000\n",
      "Есть корреляция\n",
      "С увеличением R уменьшается E\n"
     ]
    }
   ],
   "source": [
    "# Исследование зависимости между распределением расстояния R и энергией пятна.\n",
    "# p < 0.05 => есть корреляция между R и E\n",
    "# С увеличением R уменьшается E, так как отрицательная корреляция\n",
    "CorrelationBetween(AllMc0['R'], AllMc0['E(J)'],'R', 'E')"
   ]
  },
  {
   "cell_type": "markdown",
   "metadata": {},
   "source": [
    "5. Теперь нужно проверить однородность данных в Эксперименте и в модели.  "
   ]
  },
  {
   "cell_type": "code",
   "execution_count": 5,
   "metadata": {},
   "outputs": [],
   "source": [
    "AllExp = pandas.read_csv('datachanged/AllExpC')\n",
    "AllMc0 = pandas.read_csv('datachanged/AllMc0C')"
   ]
  },
  {
   "cell_type": "code",
   "execution_count": 116,
   "metadata": {},
   "outputs": [],
   "source": [
    "# Построение нормированных графиков\n",
    "def TwoGraphics_Norm( dataS1, dataS2, L, R, title, w):\n",
    "        \n",
    "    bins = np.linspace(L, R, 50)\n",
    "    \n",
    "    box_1 = {'facecolor':'white',    #  цвет области\n",
    "       'edgecolor': 'red',     #  цвет крайней линии\n",
    "       'boxstyle': 'round'}\n",
    "    \n",
    "    box_str = f'{title}_mean: exp = {round(np.mean(dataS1), 2)} mc0 = {round(np.mean(dataS2), 2)} '\n",
    "    \n",
    "    fig, ax = plt.subplots()\n",
    "    \n",
    "    plt.rcParams['font.size'] = '16'\n",
    "    for label in (ax.get_xticklabels() + ax.get_yticklabels()):\n",
    "        label.set_fontsize(16)\n",
    "    \n",
    "    \n",
    "    bins = np.linspace(L, R, 30)\n",
    "    plt.hist([dataS1, dataS2], bins,density = True, label=[f'exp_{title}', f'mc0_{title}'], color = [\"green\" , \"orange\"])\n",
    "    plt.title(title, fontsize=16)\n",
    "    plt.legend(loc='upper right')\n",
    "    \n",
    "    plt.xlabel(box_str, size = 13)\n",
    "    plt.tight_layout()\n",
    "    #plt.savefig(f'images/hist_unif/3/{title}.jpg')\n",
    "    #plt.clf()\n",
    "    plt.show()"
   ]
  },
  {
   "cell_type": "code",
   "execution_count": 117,
   "metadata": {
    "scrolled": true
   },
   "outputs": [
    {
     "data": {
      "image/png": "[encoded data removed]",
      "text/plain": [
       "<Figure size 432x288 with 1 Axes>"
      ]
     },
     "metadata": {},
     "output_type": "display_data"
    }
   ],
   "source": [
    "n = 'E(J)'\n",
    "l = min( list(AllExp[n].values)+ list(AllMc0[n].values) )\n",
    "r = 100\n",
    "TwoGraphics_Norm(AllExp[n],AllMc0[n],l, r,'E', 'barstacked')"
   ]
  },
  {
   "cell_type": "code",
   "execution_count": 118,
   "metadata": {},
   "outputs": [
    {
     "data": {
      "image/png": "[encoded data removed]",
      "text/plain": [
       "<Figure size 432x288 with 1 Axes>"
      ]
     },
     "metadata": {},
     "output_type": "display_data"
    }
   ],
   "source": [
    "n = 'ER'\n",
    "l = min( list(AllExp[n].values)+ list(AllMc0[n].values) )\n",
    "r = 100\n",
    "TwoGraphics_Norm(AllExp[n],AllMc0[n],l, r, 'ER', 'barstacked')"
   ]
  },
  {
   "cell_type": "code",
   "execution_count": 119,
   "metadata": {},
   "outputs": [
    {
     "data": {
      "image/png": "[encoded data removed]",
      "text/plain": [
       "<Figure size 432x288 with 1 Axes>"
      ]
     },
     "metadata": {},
     "output_type": "display_data"
    }
   ],
   "source": [
    "file_name = 'R'\n",
    "n = 'R'\n",
    "l = min( list(AllExp[n].values)+ list(AllMc0[n].values) )\n",
    "r = 15\n",
    "TwoGraphics_Norm(AllExp[n],AllMc0[n],l, r, 'R', 'barstacked')"
   ]
  },
  {
   "cell_type": "markdown",
   "metadata": {},
   "source": [
    "0) Координаты X и Y"
   ]
  },
  {
   "cell_type": "markdown",
   "metadata": {},
   "source": [
    "2) \tЭнергетические спектры (распределение по энергии частиц Eγ)  : E , sum_E"
   ]
  },
  {
   "cell_type": "markdown",
   "metadata": {},
   "source": [
    "5)\tРаспределение по радиусам частиц по R по новому признаку E*R"
   ]
  },
  {
   "cell_type": "code",
   "execution_count": 8,
   "metadata": {},
   "outputs": [],
   "source": [
    "def Choice(dataS, left, right):\n",
    "    if right == None:\n",
    "        d = dataS.loc[ dataS['sum_energy'] > left ].copy()\n",
    "    else:\n",
    "        d = dataS.loc[ (dataS['sum_energy'] >=left) & (dataS['sum_energy'] <= right)].copy() \n",
    "    return d"
   ]
  },
  {
   "cell_type": "code",
   "execution_count": 11,
   "metadata": {},
   "outputs": [],
   "source": [
    "def Save_hist_1(df1, df2, L, R):\n",
    "    dfE1 = Choice(df1, L, R)\n",
    "    dfE2 = Choice(df2, L, R)\n",
    "    \n",
    "    params = ['X(J)', 'Y(J)', 'E(J)', 'R', 'lg_r', 'ER', 'lg_e_r']\n",
    "    \n",
    "    for n in params:\n",
    "        x = list(dfE1[n].values)+ list(dfE2[n].values) \n",
    "        l = min( x )\n",
    "        r = max( x )\n",
    "        TwoGraphics_Normalized(dfE1[n],dfE2[n],l, r, f'{n}_{L}_{R}', 'barstacked')\n",
    "            \n",
    "    \n",
    "#     n = 'sum_energy'\n",
    "#     Sum_EE =  dfE1[n].drop_duplicates().values\n",
    "#     Sum_EM = dfE2[n].drop_duplicates().values\n",
    "    \n",
    "#     TwoGraphics_Normalized( Sum_EE, Sum_EM, 100, 200,  f'{n} in Exp', f'{n} in Mc0', 'EM:',  'barstacked')"
   ]
  },
  {
   "cell_type": "code",
   "execution_count": 17,
   "metadata": {},
   "outputs": [
    {
     "data": {
      "text/plain": [
       "<Figure size 432x288 with 0 Axes>"
      ]
     },
     "metadata": {},
     "output_type": "display_data"
    }
   ],
   "source": [
    "# Добавляем в общую папку гистограммы по другим распределениям\n",
    "Save_hist_1(AllExp, AllMc0, 100, 200)\n",
    "Save_hist_1(AllExp, AllMc0, 200, 400)\n",
    "Save_hist_1(AllExp, AllMc0, 400, 700)\n",
    "Save_hist_1(AllExp, AllMc0, 700, None)\n",
    "Save_hist_1(AllExp, AllMc0, 100,  None)"
   ]
  },
  {
   "cell_type": "markdown",
   "metadata": {},
   "source": [
    "Создадим новый датафрейм с оставшимися признаками  \n",
    "4)\tРаспределение по множественности   \n",
    "6)\tРаспределение по средним радиусам семейств "
   ]
  },
  {
   "cell_type": "code",
   "execution_count": 55,
   "metadata": {},
   "outputs": [],
   "source": [
    "def New_dataFrame(data, name):\n",
    "    \n",
    "    Num_of_fam = []\n",
    "    Sum_of_E = []\n",
    "    plurality = []\n",
    "    R_mean = []\n",
    "    lg_R_mean = []\n",
    "    ER_mean = []\n",
    "    lg_ER_mean = []\n",
    "    \n",
    "    Num = set(data[name])\n",
    "\n",
    "    \n",
    "    for i in Num: \n",
    "        OneFamily = pandas.DataFrame( data.loc[lambda data: data[name] == i, :] ).copy()\n",
    "        s = OneFamily['E(J)'].sum()\n",
    "        r = OneFamily['R'].mean()\n",
    "        r_lg = np.log10(OneFamily['R']).mean()\n",
    "        er = OneFamily['ER'].mean()\n",
    "        er_lg = np.log10(OneFamily['ER']).mean()\n",
    "        p = len(OneFamily)\n",
    "        \n",
    "        Num_of_fam.append(i)\n",
    "        Sum_of_E.append( s )\n",
    "        R_mean.append(r)\n",
    "        lg_R_mean.append(r_lg)\n",
    "        ER_mean.append(er)\n",
    "        lg_ER_mean.append(er_lg)\n",
    "        plurality.append( p )\n",
    "    \n",
    "    col = [name, 'sum_energy', 'mean_r', 'mean_e_r', 'lg_mean_r', 'lg_mean_er', 'n_gamma']\n",
    "    \n",
    "    df = pandas.DataFrame({f'{name}': Num_of_fam, \n",
    "                           'sum_energy': Sum_of_E, \n",
    "                           'mean_r': R_mean,\n",
    "                           'mean_e_r':ER_mean,\n",
    "                           'lg_mean_r': lg_R_mean,\n",
    "                           'lg_mean_er': lg_ER_mean,\n",
    "                           'n_gamma': plurality,\n",
    "                          }, columns = col )\n",
    "    return df"
   ]
  },
  {
   "cell_type": "code",
   "execution_count": 56,
   "metadata": {},
   "outputs": [
    {
     "name": "stdout",
     "output_type": "stream",
     "text": [
      "Wall time: 4.01 s\n"
     ]
    }
   ],
   "source": [
    "%%time\n",
    "AllExpNew = New_dataFrame(AllExp, ' num_of_fam')\n",
    "AllMc0New = New_dataFrame(AllMc0, ' num_of_family')"
   ]
  },
  {
   "cell_type": "code",
   "execution_count": 57,
   "metadata": {},
   "outputs": [
    {
     "data": {
      "text/html": [
       "<div>\n",
       "<style scoped>\n",
       "    .dataframe tbody tr th:only-of-type {\n",
       "        vertical-align: middle;\n",
       "    }\n",
       "\n",
       "    .dataframe tbody tr th {\n",
       "        vertical-align: top;\n",
       "    }\n",
       "\n",
       "    .dataframe thead th {\n",
       "        text-align: right;\n",
       "    }\n",
       "</style>\n",
       "<table border=\"1\" class=\"dataframe\">\n",
       "  <thead>\n",
       "    <tr style=\"text-align: right;\">\n",
       "      <th></th>\n",
       "      <th>num_of_fam</th>\n",
       "      <th>sum_energy</th>\n",
       "      <th>mean_r</th>\n",
       "      <th>mean_e_r</th>\n",
       "      <th>lg_mean_r</th>\n",
       "      <th>lg_mean_er</th>\n",
       "      <th>n_gamma</th>\n",
       "    </tr>\n",
       "  </thead>\n",
       "  <tbody>\n",
       "    <tr>\n",
       "      <th>0</th>\n",
       "      <td>1</td>\n",
       "      <td>145.800</td>\n",
       "      <td>1.025121</td>\n",
       "      <td>12.896953</td>\n",
       "      <td>-0.001034</td>\n",
       "      <td>0.971715</td>\n",
       "      <td>13</td>\n",
       "    </tr>\n",
       "    <tr>\n",
       "      <th>1</th>\n",
       "      <td>2</td>\n",
       "      <td>200.964</td>\n",
       "      <td>1.113121</td>\n",
       "      <td>12.534493</td>\n",
       "      <td>-0.059553</td>\n",
       "      <td>1.028002</td>\n",
       "      <td>13</td>\n",
       "    </tr>\n",
       "    <tr>\n",
       "      <th>2</th>\n",
       "      <td>3</td>\n",
       "      <td>642.961</td>\n",
       "      <td>1.696953</td>\n",
       "      <td>19.468334</td>\n",
       "      <td>-0.003690</td>\n",
       "      <td>1.035357</td>\n",
       "      <td>34</td>\n",
       "    </tr>\n",
       "    <tr>\n",
       "      <th>3</th>\n",
       "      <td>4</td>\n",
       "      <td>117.368</td>\n",
       "      <td>4.342415</td>\n",
       "      <td>29.669540</td>\n",
       "      <td>0.582342</td>\n",
       "      <td>1.396778</td>\n",
       "      <td>17</td>\n",
       "    </tr>\n",
       "    <tr>\n",
       "      <th>4</th>\n",
       "      <td>5</td>\n",
       "      <td>200.957</td>\n",
       "      <td>2.246727</td>\n",
       "      <td>16.972735</td>\n",
       "      <td>0.138317</td>\n",
       "      <td>1.096241</td>\n",
       "      <td>17</td>\n",
       "    </tr>\n",
       "  </tbody>\n",
       "</table>\n",
       "</div>"
      ],
      "text/plain": [
       "    num_of_fam  sum_energy    mean_r   mean_e_r  lg_mean_r  lg_mean_er  \\\n",
       "0            1     145.800  1.025121  12.896953  -0.001034    0.971715   \n",
       "1            2     200.964  1.113121  12.534493  -0.059553    1.028002   \n",
       "2            3     642.961  1.696953  19.468334  -0.003690    1.035357   \n",
       "3            4     117.368  4.342415  29.669540   0.582342    1.396778   \n",
       "4            5     200.957  2.246727  16.972735   0.138317    1.096241   \n",
       "\n",
       "   n_gamma  \n",
       "0       13  \n",
       "1       13  \n",
       "2       34  \n",
       "3       17  \n",
       "4       17  "
      ]
     },
     "execution_count": 57,
     "metadata": {},
     "output_type": "execute_result"
    }
   ],
   "source": [
    "AllExpNew.head()"
   ]
  },
  {
   "cell_type": "code",
   "execution_count": 58,
   "metadata": {},
   "outputs": [
    {
     "data": {
      "text/html": [
       "<div>\n",
       "<style scoped>\n",
       "    .dataframe tbody tr th:only-of-type {\n",
       "        vertical-align: middle;\n",
       "    }\n",
       "\n",
       "    .dataframe tbody tr th {\n",
       "        vertical-align: top;\n",
       "    }\n",
       "\n",
       "    .dataframe thead th {\n",
       "        text-align: right;\n",
       "    }\n",
       "</style>\n",
       "<table border=\"1\" class=\"dataframe\">\n",
       "  <thead>\n",
       "    <tr style=\"text-align: right;\">\n",
       "      <th></th>\n",
       "      <th>num_of_family</th>\n",
       "      <th>sum_energy</th>\n",
       "      <th>mean_r</th>\n",
       "      <th>mean_e_r</th>\n",
       "      <th>lg_mean_r</th>\n",
       "      <th>lg_mean_er</th>\n",
       "      <th>n_gamma</th>\n",
       "    </tr>\n",
       "  </thead>\n",
       "  <tbody>\n",
       "    <tr>\n",
       "      <th>0</th>\n",
       "      <td>1</td>\n",
       "      <td>370.199507</td>\n",
       "      <td>1.869099</td>\n",
       "      <td>16.955191</td>\n",
       "      <td>0.085734</td>\n",
       "      <td>0.949441</td>\n",
       "      <td>26</td>\n",
       "    </tr>\n",
       "    <tr>\n",
       "      <th>1</th>\n",
       "      <td>2</td>\n",
       "      <td>182.664647</td>\n",
       "      <td>2.279623</td>\n",
       "      <td>29.659015</td>\n",
       "      <td>0.266237</td>\n",
       "      <td>1.244146</td>\n",
       "      <td>14</td>\n",
       "    </tr>\n",
       "    <tr>\n",
       "      <th>2</th>\n",
       "      <td>3</td>\n",
       "      <td>154.801665</td>\n",
       "      <td>4.262225</td>\n",
       "      <td>27.025077</td>\n",
       "      <td>0.280974</td>\n",
       "      <td>1.122003</td>\n",
       "      <td>21</td>\n",
       "    </tr>\n",
       "    <tr>\n",
       "      <th>3</th>\n",
       "      <td>4</td>\n",
       "      <td>450.820101</td>\n",
       "      <td>1.945030</td>\n",
       "      <td>22.188736</td>\n",
       "      <td>0.173969</td>\n",
       "      <td>1.119088</td>\n",
       "      <td>40</td>\n",
       "    </tr>\n",
       "    <tr>\n",
       "      <th>4</th>\n",
       "      <td>5</td>\n",
       "      <td>299.830038</td>\n",
       "      <td>1.786180</td>\n",
       "      <td>30.642564</td>\n",
       "      <td>0.134789</td>\n",
       "      <td>1.072857</td>\n",
       "      <td>11</td>\n",
       "    </tr>\n",
       "  </tbody>\n",
       "</table>\n",
       "</div>"
      ],
      "text/plain": [
       "    num_of_family  sum_energy    mean_r   mean_e_r  lg_mean_r  lg_mean_er  \\\n",
       "0               1  370.199507  1.869099  16.955191   0.085734    0.949441   \n",
       "1               2  182.664647  2.279623  29.659015   0.266237    1.244146   \n",
       "2               3  154.801665  4.262225  27.025077   0.280974    1.122003   \n",
       "3               4  450.820101  1.945030  22.188736   0.173969    1.119088   \n",
       "4               5  299.830038  1.786180  30.642564   0.134789    1.072857   \n",
       "\n",
       "   n_gamma  \n",
       "0       26  \n",
       "1       14  \n",
       "2       21  \n",
       "3       40  \n",
       "4       11  "
      ]
     },
     "execution_count": 58,
     "metadata": {},
     "output_type": "execute_result"
    }
   ],
   "source": [
    "AllMc0New.head()"
   ]
  },
  {
   "cell_type": "markdown",
   "metadata": {},
   "source": [
    "1) Распределение числа γ-семейств по ∑Eγ (при абсолютном пороге Ec = 4 ТэВ) и ∑E′γ (при относительном пороге fс=0.04)"
   ]
  },
  {
   "cell_type": "code",
   "execution_count": 59,
   "metadata": {},
   "outputs": [],
   "source": [
    "def treshold(data, name):\n",
    "    \n",
    "    #thrdata = []\n",
    "    newE = []\n",
    "    newN = []\n",
    "    Num = set(data[name])\n",
    "\n",
    "    for i in Num: \n",
    "        OneFamily = pandas.DataFrame( data.loc[lambda data: data[name] == i, :] ).copy()\n",
    "\n",
    "        OneFamily['new'] = [float(0)]*len(OneFamily)\n",
    "        \n",
    "        s = 0.04 \n",
    "        X = OneFamily['E(J)'].sort_values(ascending = False).copy()\n",
    "        \n",
    "        for i in range(len(X)):\n",
    "            x = X[i:i+1]/(X[:i+1].sum())\n",
    "            val = round(list(x)[0],3)\n",
    "            if (val<0.04):\n",
    "                break\n",
    "            else:\n",
    "                OneFamily['new'].at[x.index[0]] = val \n",
    "        \n",
    "        Interest = OneFamily['E(J)'][OneFamily['new']>s]\n",
    "        E = round(Interest.sum())\n",
    "        N = len(Interest)\n",
    "        newE.append(E)\n",
    "        newN.append(N)\n",
    "        #thrdata.append( OneFamily[OneFamily['new']>0.04] )\n",
    "    \n",
    "    return newN, newE"
   ]
  },
  {
   "cell_type": "code",
   "execution_count": 60,
   "metadata": {},
   "outputs": [],
   "source": [
    "AllExpNew['n_gamma_thr'], AllExpNew['sum_energy_thr'] = treshold(AllExp, ' num_of_fam')\n",
    "AllMc0New['n_gamma_thr'], AllMc0New['sum_energy_thr'] = treshold(AllMc0, ' num_of_family')"
   ]
  },
  {
   "cell_type": "code",
   "execution_count": 114,
   "metadata": {},
   "outputs": [],
   "source": [
    "# Сохраняем окончательный вариант датафрейма со всеми распределениями.\n",
    "#AllExpNew.to_csv('datachanged/AllExpNewL')\n",
    "#AllMc0New.to_csv('datachanged/AllMc0NewL')"
   ]
  },
  {
   "cell_type": "markdown",
   "metadata": {},
   "source": [
    "Сделали датафрейм с этими признаками, теперь им всем можно построить графики"
   ]
  },
  {
   "cell_type": "code",
   "execution_count": 9,
   "metadata": {},
   "outputs": [],
   "source": [
    "AllExpNew = pandas.read_csv('datachanged/AllExpNewL')\n",
    "AllMc0New = pandas.read_csv('datachanged/AllMc0NewL')"
   ]
  },
  {
   "cell_type": "code",
   "execution_count": 120,
   "metadata": {},
   "outputs": [
    {
     "data": {
      "image/png": "[encoded data removed]",
      "text/plain": [
       "<Figure size 432x288 with 1 Axes>"
      ]
     },
     "metadata": {},
     "output_type": "display_data"
    }
   ],
   "source": [
    "n = 'mean_e_r'\n",
    "l = min( list(AllExpNew[n].values)+ list(AllMc0New[n].values) )\n",
    "r = 100\n",
    "TwoGraphics_Norm(AllExpNew[n],AllMc0New[n],l, r,'mean ER', 'barstacked')"
   ]
  },
  {
   "cell_type": "code",
   "execution_count": 121,
   "metadata": {},
   "outputs": [
    {
     "data": {
      "image/png": "[encoded data removed]",
      "text/plain": [
       "<Figure size 432x288 with 1 Axes>"
      ]
     },
     "metadata": {},
     "output_type": "display_data"
    }
   ],
   "source": [
    "n = 'mean_r'\n",
    "l = min( list(AllExpNew[n].values)+ list(AllMc0New[n].values) )\n",
    "r = 10\n",
    "TwoGraphics_Norm(AllExpNew[n],AllMc0New[n],l, r, 'mean R', 'barstacked')"
   ]
  },
  {
   "cell_type": "code",
   "execution_count": 122,
   "metadata": {},
   "outputs": [
    {
     "data": {
      "image/png": "[encoded data removed]",
      "text/plain": [
       "<Figure size 432x288 with 1 Axes>"
      ]
     },
     "metadata": {},
     "output_type": "display_data"
    }
   ],
   "source": [
    "n = 'sum_energy'\n",
    "l = min( list(AllExpNew[n].values)+ list(AllMc0New[n].values) )\n",
    "r = 1000\n",
    "TwoGraphics_Norm(AllExpNew[n],AllMc0New[n],l, r, 'Sum E', 'barstacked')"
   ]
  },
  {
   "cell_type": "code",
   "execution_count": 123,
   "metadata": {},
   "outputs": [
    {
     "data": {
      "image/png": "[encoded data removed]",
      "text/plain": [
       "<Figure size 432x288 with 1 Axes>"
      ]
     },
     "metadata": {},
     "output_type": "display_data"
    }
   ],
   "source": [
    "n = 'sum_energy_thr'\n",
    "l = min( list(AllExpNew[n].values)+ list(AllMc0New[n].values) )\n",
    "r = 800\n",
    "TwoGraphics_Norm(AllExpNew[n],AllMc0New[n],l, r,  'Sum E', 'barstacked')"
   ]
  },
  {
   "cell_type": "code",
   "execution_count": 124,
   "metadata": {},
   "outputs": [
    {
     "data": {
      "image/png": "[encoded data removed]",
      "text/plain": [
       "<Figure size 432x288 with 1 Axes>"
      ]
     },
     "metadata": {},
     "output_type": "display_data"
    }
   ],
   "source": [
    "n = 'n_gamma_thr'\n",
    "l = min( list(AllExpNew[n].values)+ list(AllMc0New[n].values) )\n",
    "r = 10\n",
    "TwoGraphics_Norm(AllExpNew[n],AllMc0New[n],l, r, 'Sum E', 'barstacked')"
   ]
  },
  {
   "cell_type": "code",
   "execution_count": 20,
   "metadata": {},
   "outputs": [],
   "source": [
    "def Choice(dataS, left, right):\n",
    "    if right == None:\n",
    "        d = dataS.loc[ dataS['sum_energy'] > left ].copy()\n",
    "    else:\n",
    "        d = dataS.loc[ (dataS['sum_energy'] >=left) & (dataS['sum_energy'] <= right)].copy() \n",
    "    return d"
   ]
  },
  {
   "cell_type": "code",
   "execution_count": 21,
   "metadata": {},
   "outputs": [],
   "source": [
    "def Save_hist_2(df1, df2, L, R):\n",
    "    dfE1 = Choice(df1, L, R)\n",
    "    dfE2 = Choice(df2, L, R)\n",
    "    \n",
    "    params = ['sum_energy', 'mean_r', 'mean_e_r', 'lg_mean_r', 'lg_mean_er', 'n_gamma', 'n_gamma_thr', 'sum_energy_thr']\n",
    "    \n",
    "    for n in params:\n",
    "        x = list(dfE1[n].values)+ list(dfE2[n].values)\n",
    "        l = min( x )\n",
    "        r = max( x )\n",
    "        TwoGraphics_Normalized(dfE1[n],dfE2[n],l, r, f'{L}_{R}', 'barstacked')"
   ]
  },
  {
   "cell_type": "code",
   "execution_count": 22,
   "metadata": {},
   "outputs": [
    {
     "data": {
      "text/plain": [
       "<Figure size 432x288 with 0 Axes>"
      ]
     },
     "metadata": {},
     "output_type": "display_data"
    }
   ],
   "source": [
    "# Сохраняем графики в общую папку\n",
    "Save_hist_2(AllExpNew, AllMc0New, 100, 200)\n",
    "Save_hist_2(AllExpNew, AllMc0New, 200, 400)\n",
    "Save_hist_2(AllExpNew, AllMc0New, 400, 700)\n",
    "Save_hist_2(AllExpNew, AllMc0New, 700, None)\n",
    "Save_hist_2(AllExpNew, AllMc0New, 100,  None)"
   ]
  },
  {
   "cell_type": "markdown",
   "metadata": {},
   "source": [
    "8. Рассмотрим новое распределение взаимных расстояний"
   ]
  },
  {
   "cell_type": "code",
   "execution_count": 105,
   "metadata": {},
   "outputs": [],
   "source": [
    "# Функция вычисления матрицы расстояния для одного датафрейма, возвращает датафрейм расстояний\n",
    "# Можно выбрать коэффициент домножения\n",
    "def Matrix_of_Distance(X, Y, E, label):\n",
    "    Distance =[]\n",
    "    for i in range(len(X)):\n",
    "        Distance.append([])\n",
    "        for j in range(len(Y)):\n",
    "            \n",
    "            if label == 1:\n",
    "                Coef = 1\n",
    "            elif label==2:\n",
    "                Coef = math.sqrt(E[i]*E[j])\n",
    "            elif label ==3:\n",
    "                Coef=( E[i]*E[j])/(E[i] + E[j])\n",
    "            \n",
    "            r = Coef*(math.sqrt( math.pow((X[i]-X[j]),2) + math.pow((Y[i]-Y[j]),2) )  )\n",
    "            #r = abs( (E[i]**2)*(X[i]**2 + Y[i]**2) -  (E[j]**2)*(X[j]**2 + Y[j]**2))\n",
    "            Distance[i].append(r)\n",
    "    \n",
    "    return pandas.DataFrame(Distance)"
   ]
  },
  {
   "cell_type": "code",
   "execution_count": 106,
   "metadata": {},
   "outputs": [],
   "source": [
    "#from scipy.spatial import distance_matrix\n",
    "\n",
    "def NewR(data, name, label):\n",
    "    \n",
    "    #thrdata = []\n",
    "    new = []\n",
    "    Num = set(data[name])\n",
    "\n",
    "    \n",
    "    for i in Num: \n",
    "        OneFamily = pandas.DataFrame( data.loc[lambda data: data[name] == i, :] ).copy()\n",
    "        #q = (OneFamily[['X(J)', 'Y(J)']].values)\n",
    "        \n",
    "        #df = pandas.DataFrame(distance_matrix(q, q))\n",
    "        df = Matrix_of_Distance(OneFamily['X(J)'].values, OneFamily['Y(J)'].values, OneFamily['E(J)'].values, label)\n",
    "        \n",
    "        i, j = np.indices(df.shape)\n",
    "        tmp = list(df.values[~(i <= j)] )\n",
    "        \n",
    "        new = new + tmp\n",
    "    return new"
   ]
  },
  {
   "cell_type": "code",
   "execution_count": 108,
   "metadata": {},
   "outputs": [
    {
     "name": "stdout",
     "output_type": "stream",
     "text": [
      "Wall time: 21.4 s\n"
     ]
    }
   ],
   "source": [
    "%%time\n",
    "ExpR = NewR(AllExp, ' num_of_fam', 2)\n",
    "Mc0R = NewR(AllMc0, ' num_of_family', 2)"
   ]
  },
  {
   "cell_type": "code",
   "execution_count": 126,
   "metadata": {},
   "outputs": [
    {
     "data": {
      "image/png": "[encoded data removed]",
      "text/plain": [
       "<Figure size 432x288 with 1 Axes>"
      ]
     },
     "metadata": {},
     "output_type": "display_data"
    }
   ],
   "source": [
    "n = 'newR'\n",
    "TwoGraphics_Norm( ExpR, Mc0R, 3, 50, 'newR',  'barstacked')"
   ]
  },
  {
   "cell_type": "markdown",
   "metadata": {},
   "source": [
    "9. Критерий Колмогорова-Смирнова через гистограмму  \n",
    "для alpha = 0.05, 1 - alpha = 0.95, y_0.95 = 1,36"
   ]
  },
  {
   "cell_type": "markdown",
   "metadata": {},
   "source": [
    "Первое число - значение статистики, второе - значение С альфа, критическое значение  \n",
    "Eсли статистика < С альфа выборки однородные  "
   ]
  },
  {
   "cell_type": "code",
   "execution_count": 80,
   "metadata": {},
   "outputs": [],
   "source": [
    "def KS(dataS1, dataS2, Some, alpha): \n",
    "    n1 = len(dataS1)\n",
    "    n2 = len(dataS2)\n",
    "    #print(n1)\n",
    "    #print(n2)\n",
    "    \n",
    "    ExpEcdf = ECDF(dataS1)\n",
    "    Mx, My = ECDF(dataS2).x, ECDF(dataS2).y\n",
    "    \n",
    "    sup = max(abs(np.array(ExpEcdf(Mx)) - np.array(My)))\n",
    "    \n",
    "    K = np.sqrt(n1*n2/(n1+n2))*sup\n",
    "    \n",
    "    if alpha == 0.05:\n",
    "        Calpha = 1.36\n",
    "    elif alpha == 0.01:\n",
    "        Calpha = 1.63\n",
    "        \n",
    "    Dalpha = np.sqrt((n1+n2)/(n1*n2))*Calpha\n",
    "    \n",
    "#     if(sup<Dalpha):\n",
    "#         print('Accept H0')\n",
    "#     else:\n",
    "#         print('Reject H0')\n",
    "            \n",
    "#     print(f'{Some}, statistic K = ', K)\n",
    "#     print(f'{Some}, statistic D = ', sup)\n",
    "#     print(f'{Some}, value C =  ', Dalpha )\n",
    "    \n",
    "    return sup, Dalpha"
   ]
  },
  {
   "cell_type": "code",
   "execution_count": 82,
   "metadata": {},
   "outputs": [
    {
     "data": {
      "text/plain": [
       "(0.1203290982342046, 0.05946338629893082)"
      ]
     },
     "execution_count": 82,
     "metadata": {},
     "output_type": "execute_result"
    }
   ],
   "source": [
    "n = 'mean_e_r'\n",
    "KS(AllExpNew[n], AllMc0New[n], n, 0.05)"
   ]
  },
  {
   "cell_type": "code",
   "execution_count": 85,
   "metadata": {},
   "outputs": [
    {
     "name": "stdout",
     "output_type": "stream",
     "text": [
      "(0.02146128765292782, 0.015502714019364655)\n",
      "(0.16372635612395497, 0.015502714019364655)\n"
     ]
    }
   ],
   "source": [
    "# Первое число - значение статистики, второе - значение С альфа, критическое значение\n",
    "# Если статистика < С альфа выборки однородные\n",
    "print(KS(AllExp['R'], AllMc0['R'], 'R', 0.01))\n",
    "print(KS(AllExp['E(J)'], AllMc0['E(J)'], 'E(J)', 0.01))\n",
    "# Неоднородные"
   ]
  },
  {
   "cell_type": "code",
   "execution_count": 86,
   "metadata": {},
   "outputs": [
    {
     "name": "stdout",
     "output_type": "stream",
     "text": [
      "KstestResult(statistic=0.021498110571512352, pvalue=7.187497571102511e-05)\n",
      "KstestResult(statistic=0.021498110571512352, pvalue=7.187497571102511e-05)\n"
     ]
    }
   ],
   "source": [
    "# Встроенная функция критерия Колмогорова, где считается эмпирическая функция распределение и р значение\n",
    "# alpha = 0.0001\n",
    "# Двусторонний\n",
    "print(stats.ks_2samp(AllExp['R'],AllMc0['R']))\n",
    "print(stats.kstest(AllExp['R'],AllMc0['R']))\n",
    "# Односторонний\n",
    "#print(stats.kstest(AllExp['E(J)'],AllMc0['E(J)'], alternative='greater'))"
   ]
  },
  {
   "cell_type": "code",
   "execution_count": 90,
   "metadata": {},
   "outputs": [
    {
     "name": "stdout",
     "output_type": "stream",
     "text": [
      "0.6050374341178183\n"
     ]
    }
   ],
   "source": [
    "# Критерий равенства средних.\n",
    "print(stats.ttest_ind(AllExp['R'], AllMc0['R'], equal_var = False).pvalue)\n",
    "# Гипотеза принята"
   ]
  },
  {
   "cell_type": "code",
   "execution_count": 87,
   "metadata": {},
   "outputs": [
    {
     "name": "stdout",
     "output_type": "stream",
     "text": [
      "2.0278979162451273e-06\n"
     ]
    }
   ],
   "source": [
    "from scipy.stats import bartlett\n",
    "# Критерий равенства дисперсий.\n",
    "print(bartlett(AllExp['R'], AllMc0['R']).pvalue)\n",
    "# Гипотеза отклонена"
   ]
  },
  {
   "cell_type": "code",
   "execution_count": 88,
   "metadata": {},
   "outputs": [
    {
     "name": "stdout",
     "output_type": "stream",
     "text": [
      "0.7174408692440017\n"
     ]
    }
   ],
   "source": [
    "from scipy.stats import levene\n",
    "# Критерий равенства дисперсий отклоняется. Должен быть менее чувствителен к отклонениям от нормальности. \n",
    "print(levene(AllExp['R'], AllMc0['R']).pvalue)"
   ]
  },
  {
   "cell_type": "code",
   "execution_count": 89,
   "metadata": {},
   "outputs": [
    {
     "name": "stdout",
     "output_type": "stream",
     "text": [
      "0.46066056305836883\n"
     ]
    }
   ],
   "source": [
    "# Гипотеза принята. Выборки похожи. \n",
    "print(stats.mannwhitneyu(AllExp['R'], AllMc0['R']).pvalue)"
   ]
  },
  {
   "cell_type": "markdown",
   "metadata": {},
   "source": [
    "Эмпирическая функция распреления"
   ]
  },
  {
   "cell_type": "code",
   "execution_count": null,
   "metadata": {},
   "outputs": [],
   "source": [
    "def ecdf(x):\n",
    "    xs = np.sort(x)\n",
    "    ys = np.arange(1, len(xs)+1)/float(len(xs))\n",
    "    return xs, ys"
   ]
  },
  {
   "cell_type": "code",
   "execution_count": 83,
   "metadata": {},
   "outputs": [
    {
     "data": {
      "image/png": "[encoded data removed]",
      "text/plain": [
       "<Figure size 432x288 with 1 Axes>"
      ]
     },
     "metadata": {},
     "output_type": "display_data"
    }
   ],
   "source": [
    "n = 'mean_e_r'\n",
    "ExpEcdf = ECDF(AllExpNew[n])\n",
    "Mx, My = ECDF(AllMc0New[n]).x, ECDF(AllMc0New[n]).y\n",
    "x = Mx\n",
    "y = ExpEcdf(Mx)\n",
    "plt.plot(x, y, label=\"experiment\")\n",
    "plt.plot(Mx, My, label=\"model\")\n",
    "plt.legend()\n",
    "plt.show()"
   ]
  },
  {
   "cell_type": "code",
   "execution_count": 84,
   "metadata": {},
   "outputs": [
    {
     "data": {
      "image/png": "[encoded data removed]",
      "text/plain": [
       "<Figure size 432x288 with 1 Axes>"
      ]
     },
     "metadata": {},
     "output_type": "display_data"
    }
   ],
   "source": [
    "xs, ys = ecdf(AllExp['E(J)'])\n",
    "plt.plot(xs, ys, label=\"handwritten\")\n",
    "cdf = ECDF(AllMc0['E(J)'])\n",
    "plt.plot(cdf.x, cdf.y, label=\"statmodels\")\n",
    "plt.legend()\n",
    "plt.show()"
   ]
  },
  {
   "cell_type": "code",
   "execution_count": 77,
   "metadata": {},
   "outputs": [],
   "source": [
    "def Empirical_1(df1, df2):\n",
    "    \n",
    "    \n",
    "    params = ['X(J)', 'Y(J)', 'E(J)', 'R', 'lg_r', 'ER', 'lg_e_r']\n",
    "    \n",
    "    for n in params:\n",
    "        dfE1 = ECDF(df1[n])\n",
    "        dfE2 = ECDF(df2[n])\n",
    "        tit = f'Empiric_f_{n}'\n",
    "        \n",
    "        plt.rcParams['font.size'] = '16'\n",
    "        for label in (ax.get_xticklabels() + ax.get_yticklabels()):\n",
    "            label.set_fontsize(16)\n",
    "            \n",
    "        plt.figure(figsize=(10,5))\n",
    "        plt.plot(dfE1.x, dfE1.y, label='exp')\n",
    "        plt.plot(dfE2.x, dfE2.y, label='mc0')\n",
    "        plt.legend(loc='lower right')\n",
    "        plt.xlabel(n, size = 16)\n",
    "        #plt.savefig(f'images/empirical_unif/{tit}.png', dpi=100)\n",
    "        plt.clf()"
   ]
  },
  {
   "cell_type": "code",
   "execution_count": 78,
   "metadata": {},
   "outputs": [],
   "source": [
    "def Empirical_2(df1, df2):\n",
    "    \n",
    "    params = ['sum_energy', 'mean_r', 'mean_e_r', 'lg_mean_r', 'lg_mean_er', 'n_gamma', 'n_gamma_thr', 'sum_energy_thr']\n",
    "    \n",
    "    for n in params:\n",
    "        dfE1 = ECDF(df1[n])\n",
    "        dfE2 = ECDF(df2[n])\n",
    "        tit = f'Empiric_f_{n}'\n",
    "        fig, ax = plt.subplots()\n",
    "        \n",
    "        plt.rcParams['font.size'] = '16'\n",
    "        for label in (ax.get_xticklabels() + ax.get_yticklabels()):\n",
    "            label.set_fontsize(16)\n",
    "            \n",
    "        plt.plot(dfE1.x, dfE1.y, label='exp')\n",
    "        plt.plot(dfE2.x, dfE2.y, label='mc0')\n",
    "        plt.legend(loc='lower right')\n",
    "        plt.xlabel(n, size = 16)\n",
    "        #plt.show()\n",
    "        #plt.savefig(f'images/empirical_unif/{tit}.png', dpi=100)\n",
    "        plt.clf()"
   ]
  },
  {
   "cell_type": "code",
   "execution_count": 79,
   "metadata": {},
   "outputs": [
    {
     "data": {
      "text/plain": [
       "<Figure size 720x360 with 0 Axes>"
      ]
     },
     "metadata": {},
     "output_type": "display_data"
    },
    {
     "data": {
      "text/plain": [
       "<Figure size 720x360 with 0 Axes>"
      ]
     },
     "metadata": {},
     "output_type": "display_data"
    },
    {
     "data": {
      "text/plain": [
       "<Figure size 720x360 with 0 Axes>"
      ]
     },
     "metadata": {},
     "output_type": "display_data"
    },
    {
     "data": {
      "text/plain": [
       "<Figure size 720x360 with 0 Axes>"
      ]
     },
     "metadata": {},
     "output_type": "display_data"
    },
    {
     "data": {
      "text/plain": [
       "<Figure size 720x360 with 0 Axes>"
      ]
     },
     "metadata": {},
     "output_type": "display_data"
    },
    {
     "data": {
      "text/plain": [
       "<Figure size 720x360 with 0 Axes>"
      ]
     },
     "metadata": {},
     "output_type": "display_data"
    },
    {
     "data": {
      "text/plain": [
       "<Figure size 720x360 with 0 Axes>"
      ]
     },
     "metadata": {},
     "output_type": "display_data"
    },
    {
     "data": {
      "text/plain": [
       "<Figure size 432x288 with 0 Axes>"
      ]
     },
     "metadata": {},
     "output_type": "display_data"
    },
    {
     "data": {
      "text/plain": [
       "<Figure size 432x288 with 0 Axes>"
      ]
     },
     "metadata": {},
     "output_type": "display_data"
    },
    {
     "data": {
      "text/plain": [
       "<Figure size 432x288 with 0 Axes>"
      ]
     },
     "metadata": {},
     "output_type": "display_data"
    },
    {
     "data": {
      "text/plain": [
       "<Figure size 432x288 with 0 Axes>"
      ]
     },
     "metadata": {},
     "output_type": "display_data"
    },
    {
     "data": {
      "text/plain": [
       "<Figure size 432x288 with 0 Axes>"
      ]
     },
     "metadata": {},
     "output_type": "display_data"
    },
    {
     "data": {
      "text/plain": [
       "<Figure size 432x288 with 0 Axes>"
      ]
     },
     "metadata": {},
     "output_type": "display_data"
    },
    {
     "data": {
      "text/plain": [
       "<Figure size 432x288 with 0 Axes>"
      ]
     },
     "metadata": {},
     "output_type": "display_data"
    },
    {
     "data": {
      "text/plain": [
       "<Figure size 432x288 with 0 Axes>"
      ]
     },
     "metadata": {},
     "output_type": "display_data"
    }
   ],
   "source": [
    "# Сохраняем эмпирические функции распределения в папку empirical_unif\n",
    "Empirical_1(AllExp, AllMc0)\n",
    "Empirical_2(AllExpNew, AllMc0New)"
   ]
  },
  {
   "cell_type": "markdown",
   "metadata": {},
   "source": [
    "9. Подсчет среднего, дисперсии, ассиметрии, эксцесса."
   ]
  },
  {
   "cell_type": "code",
   "execution_count": 91,
   "metadata": {},
   "outputs": [],
   "source": [
    "def get_entropy(x):\n",
    "    entropy = 0  \n",
    "    p = np.unique(x, return_counts = True)[1]/len(x)\n",
    "    entropy = (-p*np.log10(p)).sum()\n",
    "    return entropy"
   ]
  },
  {
   "cell_type": "code",
   "execution_count": 92,
   "metadata": {},
   "outputs": [],
   "source": [
    "from scipy.stats import entropy\n",
    "def entropy1(labels, base=None):\n",
    "    value,counts = np.unique(labels, return_counts=True)\n",
    "    return entropy(counts, base=base)"
   ]
  },
  {
   "cell_type": "code",
   "execution_count": 93,
   "metadata": {},
   "outputs": [],
   "source": [
    "from math import log, e\n",
    "\n",
    "def entropy2(labels, base=None):\n",
    "    \"\"\" Computes entropy of label distribution. \"\"\"\n",
    "    n_labels = len(labels)\n",
    "    if n_labels <= 1:\n",
    "        return 0\n",
    "    \n",
    "    value,counts = np.unique(labels, return_counts=True)\n",
    "    probs = counts / n_labels\n",
    "    n_classes = np.count_nonzero(probs)\n",
    "    \n",
    "    if n_classes <= 1:\n",
    "        return 0\n",
    "    \n",
    "    ent = 0.\n",
    "    \n",
    "    # Compute entropy\n",
    "    base = e if base is None else base\n",
    "    for i in probs:\n",
    "        ent -= i * log(i, base)\n",
    "    \n",
    "    return ent"
   ]
  },
  {
   "cell_type": "code",
   "execution_count": 94,
   "metadata": {},
   "outputs": [],
   "source": [
    "def entropy4(labels, base=None):\n",
    "    value,counts = np.unique(labels, return_counts=True)\n",
    "    norm_counts = counts / counts.sum()\n",
    "    base = e if base is None else base\n",
    "    return -(norm_counts * np.log(norm_counts)/np.log(base)).sum()"
   ]
  },
  {
   "cell_type": "code",
   "execution_count": 95,
   "metadata": {},
   "outputs": [
    {
     "name": "stdout",
     "output_type": "stream",
     "text": [
      "0.5785580060704263\n",
      "0.5785580060704263\n"
     ]
    }
   ],
   "source": [
    "from scipy.stats import entropy\n",
    "x = [1, 2, 2, 3, 4]\n",
    "print(entropy1(x, base = 10))\n",
    "print(entropy4(x, 10))\n",
    "#print(np.unique(x, return_counts = True)[1])"
   ]
  },
  {
   "cell_type": "markdown",
   "metadata": {},
   "source": [
    "Общая функция для сравнения однородности модели и эксперимента. В ней сохраняются все статистические оценки и значения критериев."
   ]
  },
  {
   "cell_type": "code",
   "execution_count": 97,
   "metadata": {},
   "outputs": [],
   "source": [
    "from scipy.stats import kurtosis\n",
    "from scipy.stats import skew\n",
    "from scipy.stats import entropy\n",
    "from scipy.stats import levene\n",
    "import random\n",
    "\n",
    "\n",
    "# Теперь сравним распределения в модели и в эксперименте\n",
    "#  Средние, дисперсии (var), ассиметрия (skew) эксцесс(kurtosis)\n",
    "def Calculate_csv (dataS2, dataS1, Some, interval):\n",
    "    col_new = ['Name', 'mean', 'var', 'skew', 'kurtosis', 'sampling error', 'relative error', \n",
    "               'ks D_a C_a a = 0.05', 'ks D_a C_a a = 0.01', 'ks-pvalue abs', 'ks-pvalue greater', 'mannwhitneyu', 't-test st p-value', 'levene st p-value', 'entropy' ]\n",
    "    \n",
    "    x, y = KS(dataS1, dataS2, Some, 0.05)\n",
    "    x1, y1 = KS(dataS1, dataS2, Some, 0.01)\n",
    "    \n",
    "    st, p = stats.kstest(dataS1,dataS2, alternative='two-sided')\n",
    "    \n",
    "    st0, p0 = stats.kstest(dataS1,dataS2, alternative='greater')\n",
    "    \n",
    "    st1, p1 = stats.mannwhitneyu(dataS1, dataS2)\n",
    "    \n",
    "    st2, p2 = stats.ttest_ind(dataS1, dataS2, equal_var = False)\n",
    "    \n",
    "    st3, p3 = levene(dataS1, dataS2)\n",
    "    \n",
    "    \n",
    "    Exp = [f'{Some} Mc0 in {interval}', \n",
    "           round(np.mean(dataS1), 3), \n",
    "           round(np.var(dataS1), 3), \n",
    "           round(skew(dataS1), 3), \n",
    "           round(kurtosis(dataS1), 3),\n",
    "           round(np.abs(np.sqrt(np.var(dataS1)/len(dataS1)) ),3),\n",
    "           round(np.abs((np.mean(dataS1) - np.mean(dataS2) ) /np.mean(dataS2)), 3),\n",
    "           round(x, 3),\n",
    "           round(x1, 3),\n",
    "           '',\n",
    "           '',\n",
    "           '',\n",
    "           '',\n",
    "           '',\n",
    "           round(entropy4(dataS1),3)\n",
    "          ] \n",
    "    \n",
    "    Mc0 = [f'{Some} Exp in {interval}', \n",
    "           round(np.mean(dataS2), 3), \n",
    "           round(np.var(dataS2), 3), \n",
    "           round(skew(dataS2), 3), \n",
    "           round(kurtosis(dataS2), 3),\n",
    "           round(np.abs(np.sqrt(np.var(dataS2)/len(dataS2) )),3),\n",
    "           round(np.abs((np.mean(dataS2) - np.mean(dataS1))/np.mean(dataS1)), 3),\n",
    "           round(y, 3),\n",
    "           round(y1, 3),\n",
    "           round(p, 3),\n",
    "           round(p0, 3),\n",
    "           round(p1, 3),\n",
    "           round(p2, 3),\n",
    "           round(p3, 3),\n",
    "           round(entropy4(dataS2),3)\n",
    "          ]\n",
    "    \n",
    "    data = [Exp, Mc0]\n",
    "    \n",
    "    \n",
    "    df = pandas.DataFrame(data, columns = col_new)\n",
    "    return df\n",
    "    \n",
    "    \n",
    "def Choice(dataS, left, right):\n",
    "    if right == None:\n",
    "        d = dataS.loc[ dataS['sum_energy'] > left ].copy()\n",
    "    else:\n",
    "        d = dataS.loc[ (dataS['sum_energy'] >=left) & (dataS['sum_energy'] <= right)].copy() \n",
    "    return d\n",
    "\n",
    "def Cal_S(dataS1, dataS2, L, R, col):\n",
    "    if R == None:\n",
    "        interval = f'( >{L})'\n",
    "    else:      \n",
    "        interval = f'({L}, {R})'\n",
    "        \n",
    "    x = Choice(dataS1, L, R)\n",
    "    y = Choice(dataS2, L, R)\n",
    "    \n",
    "    col_new = ['Name', 'mean', 'var', 'skew', 'kurtosis', 'sampling error', 'relative error', \n",
    "               'ks D_a C_a a = 0.05', 'ks D_a C_a a = 0.01', 'ks-pvalue abs', 'ks-pvalue greater', 'mannwhitneyu', 't-test st p-value', \n",
    "               'levene st p-value', 'entropy']\n",
    "    df_col = pandas.DataFrame(columns = col_new)\n",
    "    \n",
    "    data_new = []\n",
    "    \n",
    "    for u in col:\n",
    "        df_new = Calculate_csv(x[u], y[u], u, interval)\n",
    "        data_new.append(df_new)\n",
    "        \n",
    "\n",
    "    return pandas.concat(data_new)"
   ]
  },
  {
   "cell_type": "code",
   "execution_count": 98,
   "metadata": {},
   "outputs": [],
   "source": [
    "def R_datafr(L, R, name, label):\n",
    "    if R == None:\n",
    "        interval = f'( >{L})'\n",
    "    else:      \n",
    "        interval = f'({L}, {R})'\n",
    "    \n",
    "    E = NewR(Choice(AllExp, L, R), ' num_of_fam', label)\n",
    "    M = NewR(Choice(AllMc0, L, R), ' num_of_family', label)\n",
    "    \n",
    "    #TwoGraphics_Norm( E, M, l , r,  n, n , f'{L}-{R}_EM',  'barstacked')\n",
    "    \n",
    "    dfR = Calculate_csv(E, M, f'{name}', interval)\n",
    "    return dfR    "
   ]
  },
  {
   "cell_type": "code",
   "execution_count": 101,
   "metadata": {},
   "outputs": [
    {
     "name": "stdout",
     "output_type": "stream",
     "text": [
      "Wall time: 17.7 s\n"
     ]
    }
   ],
   "source": [
    "%%time\n",
    "columns = ['X(J)', 'Y(J)', 'E(J)', 'R', 'ER', 'lg_r', 'lg_e_r']\n",
    "d1 = Cal_S(AllExp, AllMc0, 100, 200, columns)\n",
    "d2 = Cal_S(AllExp, AllMc0, 200, 400, columns)\n",
    "d3 = Cal_S(AllExp, AllMc0, 400, 700, columns)\n",
    "d4 = Cal_S(AllExp, AllMc0, 700, None, columns)\n",
    "d5 = Cal_S(AllExp, AllMc0, 100, None, columns)\n",
    "d6 = Cal_S(AllExp, AllMc0, 100, 700, columns)"
   ]
  },
  {
   "cell_type": "code",
   "execution_count": 127,
   "metadata": {},
   "outputs": [
    {
     "name": "stdout",
     "output_type": "stream",
     "text": [
      "Wall time: 48 s\n"
     ]
    }
   ],
   "source": [
    "%%time\n",
    "name = 'd1'\n",
    "dfd11 = R_datafr(100, 200, name, 1)\n",
    "dfd12 = R_datafr(200, 400, name, 1)\n",
    "dfd13 = R_datafr(400, 700, name, 1)\n",
    "dfd14 = R_datafr(700, None, name, 1)\n",
    "dfd15 = R_datafr(100, None, name, 1)\n",
    "dfd16 = R_datafr(100, 700, name, 1)"
   ]
  },
  {
   "cell_type": "code",
   "execution_count": 128,
   "metadata": {},
   "outputs": [
    {
     "name": "stdout",
     "output_type": "stream",
     "text": [
      "Wall time: 50.7 s\n"
     ]
    }
   ],
   "source": [
    "%%time\n",
    "name = 'd2'\n",
    "dfd21 = R_datafr(100, 200, name, 2)\n",
    "dfd22 = R_datafr(200, 400, name, 2)\n",
    "dfd23 = R_datafr(400, 700, name, 2)\n",
    "dfd24 = R_datafr(700, None, name, 2)\n",
    "dfd25 = R_datafr(100, None, name, 2)\n",
    "dfd26 = R_datafr(100, 700, name, 2)"
   ]
  },
  {
   "cell_type": "code",
   "execution_count": 129,
   "metadata": {},
   "outputs": [
    {
     "name": "stdout",
     "output_type": "stream",
     "text": [
      "Wall time: 51.4 s\n"
     ]
    }
   ],
   "source": [
    "%%time\n",
    "name = 'd3'\n",
    "dfd31 = R_datafr(100, 200, name, 3)\n",
    "dfd32 = R_datafr(200, 400, name, 3)\n",
    "dfd33 = R_datafr(400, 700, name, 3)\n",
    "dfd34 = R_datafr(700, None, name, 3)\n",
    "dfd35 = R_datafr(100, None, name, 3)\n",
    "dfd36 = R_datafr(100, 700, name, 3)"
   ]
  },
  {
   "cell_type": "code",
   "execution_count": 66,
   "metadata": {},
   "outputs": [],
   "source": [
    "#AllExpNew = pandas.read_csv('datachanged/AllExpNewL')\n",
    "#AllMc0New = pandas.read_csv('datachanged/AllMc0NewL')"
   ]
  },
  {
   "cell_type": "code",
   "execution_count": 132,
   "metadata": {},
   "outputs": [
    {
     "name": "stdout",
     "output_type": "stream",
     "text": [
      "Wall time: 17.1 s\n"
     ]
    }
   ],
   "source": [
    "%%time\n",
    "columns = ['mean_r', 'mean_e_r', 'lg_mean_r', 'lg_mean_er', 'n_gamma', 'n_gamma_thr', 'sum_energy_thr']\n",
    "dd1 = Cal_S(AllExpNew, AllMc0New, 100, 200, columns)\n",
    "dd2 = Cal_S(AllExpNew, AllMc0New, 200, 400, columns)\n",
    "dd3 = Cal_S(AllExpNew, AllMc0New, 400, 700, columns)\n",
    "dd4 = Cal_S(AllExpNew, AllMc0New, 700, None, columns)\n",
    "dd5 = Cal_S(AllExpNew, AllMc0New, 100, None, columns)\n",
    "dd6 = Cal_S(AllExpNew, AllMc0New, 100, 700, columns)"
   ]
  },
  {
   "cell_type": "code",
   "execution_count": 135,
   "metadata": {},
   "outputs": [
    {
     "name": "stdout",
     "output_type": "stream",
     "text": [
      "Wall time: 23.9 ms\n"
     ]
    }
   ],
   "source": [
    "%%time\n",
    "part1 = pandas.concat([dd1, d1, dfd11, dfd21, dfd31])\n",
    "part2 = pandas.concat([dd2, d2, dfd12, dfd22, dfd32])\n",
    "part3 = pandas.concat([dd3, d3, dfd13, dfd23, dfd33])\n",
    "part4 = pandas.concat([dd4, d4, dfd14, dfd24, dfd34])\n",
    "part5 = pandas.concat([dd5, d5, dfd15, dfd25, dfd35])\n",
    "part6 = pandas.concat([dd6, d6, dfd16, dfd26, dfd36])"
   ]
  },
  {
   "cell_type": "markdown",
   "metadata": {},
   "source": [
    "Общее сравнение векторов энтропий по всему интервалу энергии, не по интервалам энергий."
   ]
  },
  {
   "cell_type": "code",
   "execution_count": 136,
   "metadata": {},
   "outputs": [],
   "source": [
    "entropy_mc0 = part5['entropy'][0].values\n",
    "entropy_exp = part5['entropy'][1].values"
   ]
  },
  {
   "cell_type": "code",
   "execution_count": 137,
   "metadata": {},
   "outputs": [],
   "source": [
    "ks, pks = KS(entropy_exp, entropy_mc0, 'entropy', 0.05)\n",
    "ks1, pks1 = KS(entropy_exp, entropy_mc0, 'entropy', 0.01)\n",
    "k, pk = stats.kstest(entropy_exp,entropy_mc0, alternative = 'two-sided')\n",
    "\n",
    "m, pm = stats.mannwhitneyu(entropy_exp, entropy_mc0)\n",
    "t, pt = stats.ttest_ind(entropy_exp, entropy_mc0, equal_var = False)\n",
    "l, pl = levene(entropy_mc0,entropy_exp)"
   ]
  },
  {
   "cell_type": "code",
   "execution_count": 138,
   "metadata": {},
   "outputs": [],
   "source": [
    "col = ['name', 'statistic', 'p-value']\n",
    "part7 = pandas.DataFrame({ 'name': ['ks D_a C_a a = 0.05', 'ks D_a C_a a = 0.01', 'ks-pvalue abs', 'mannwhitneyu', 't-test st p-value', 'levene st p-value'] , \n",
    "                          'statistic': [round(ks, 3), round(ks1, 3), round(k, 3), round(m, 3), round(t, 3), round(l, 3)], \n",
    "                           'p-value': [round(pks, 3), round(pks1, 3), round(pk, 3), round(pm, 3), round(pt, 3), round(pl, 3)]\n",
    "                          }, columns = col )"
   ]
  },
  {
   "cell_type": "code",
   "execution_count": 140,
   "metadata": {},
   "outputs": [],
   "source": [
    "#import XlsxWriter\n",
    "writer = pandas.ExcelWriter('UniformityOldBank.xlsx', engine='xlsxwriter')\n",
    "part1.to_excel(writer, '100-200')\n",
    "part2.to_excel(writer, '200-400')\n",
    "part3.to_excel(writer, '400-700')\n",
    "part4.to_excel(writer, '>700')\n",
    "part5.to_excel(writer, '>100')\n",
    "part6.to_excel(writer, '100-700')\n",
    "part7.to_excel(writer, 'entropy')\n",
    "writer.save()"
   ]
  },
  {
   "cell_type": "code",
   "execution_count": 139,
   "metadata": {},
   "outputs": [
    {
     "data": {
      "text/html": [
       "<div>\n",
       "<style scoped>\n",
       "    .dataframe tbody tr th:only-of-type {\n",
       "        vertical-align: middle;\n",
       "    }\n",
       "\n",
       "    .dataframe tbody tr th {\n",
       "        vertical-align: top;\n",
       "    }\n",
       "\n",
       "    .dataframe thead th {\n",
       "        text-align: right;\n",
       "    }\n",
       "</style>\n",
       "<table border=\"1\" class=\"dataframe\">\n",
       "  <thead>\n",
       "    <tr style=\"text-align: right;\">\n",
       "      <th></th>\n",
       "      <th>name</th>\n",
       "      <th>statistic</th>\n",
       "      <th>p-value</th>\n",
       "    </tr>\n",
       "  </thead>\n",
       "  <tbody>\n",
       "    <tr>\n",
       "      <th>0</th>\n",
       "      <td>ks D_a C_a a = 0.05</td>\n",
       "      <td>0.353</td>\n",
       "      <td>0.466</td>\n",
       "    </tr>\n",
       "    <tr>\n",
       "      <th>1</th>\n",
       "      <td>ks D_a C_a a = 0.01</td>\n",
       "      <td>0.353</td>\n",
       "      <td>0.559</td>\n",
       "    </tr>\n",
       "    <tr>\n",
       "      <th>2</th>\n",
       "      <td>ks-pvalue abs</td>\n",
       "      <td>0.412</td>\n",
       "      <td>0.112</td>\n",
       "    </tr>\n",
       "    <tr>\n",
       "      <th>3</th>\n",
       "      <td>mannwhitneyu</td>\n",
       "      <td>107.000</td>\n",
       "      <td>0.100</td>\n",
       "    </tr>\n",
       "    <tr>\n",
       "      <th>4</th>\n",
       "      <td>t-test st p-value</td>\n",
       "      <td>-0.357</td>\n",
       "      <td>0.724</td>\n",
       "    </tr>\n",
       "    <tr>\n",
       "      <th>5</th>\n",
       "      <td>levene st p-value</td>\n",
       "      <td>0.004</td>\n",
       "      <td>0.950</td>\n",
       "    </tr>\n",
       "  </tbody>\n",
       "</table>\n",
       "</div>"
      ],
      "text/plain": [
       "                  name  statistic  p-value\n",
       "0  ks D_a C_a a = 0.05      0.353    0.466\n",
       "1  ks D_a C_a a = 0.01      0.353    0.559\n",
       "2        ks-pvalue abs      0.412    0.112\n",
       "3         mannwhitneyu    107.000    0.100\n",
       "4    t-test st p-value     -0.357    0.724\n",
       "5    levene st p-value      0.004    0.950"
      ]
     },
     "execution_count": 139,
     "metadata": {},
     "output_type": "execute_result"
    }
   ],
   "source": [
    "part7"
   ]
  },
  {
   "cell_type": "code",
   "execution_count": null,
   "metadata": {},
   "outputs": [],
   "source": []
  },
  {
   "cell_type": "markdown",
   "metadata": {},
   "source": [
    "Эта часть не входит в работу.  \n",
    "Интересный факт заключается в том, что для четырёх высокоэнергичных частиц наблюдается принадлежность к одной прямой.  "
   ]
  },
  {
   "cell_type": "code",
   "execution_count": 141,
   "metadata": {},
   "outputs": [],
   "source": [
    "# Теперь поищем корреляцию (линейную) межу X Y для 4рех самых энергитичных частиц в семействах ЭКСПЕРИМЕНТА\n",
    "\n",
    "def LinearCorrelationParticle(dataS1, dataS2, Some1, Some2):\n",
    "    alpha = 0.05\n",
    "    if (len(dataS1) < 2):\n",
    "        return False\n",
    "    stat, p = stats.pearsonr(dataS1, dataS2)\n",
    "    #print('Корреляция Пирсона = %.3f, p = %.3f' % (stat, p))\n",
    "    \n",
    "    if p > alpha:\n",
    "        #print('Нет корреляции')\n",
    "        return 0\n",
    "    else:\n",
    "        #print('Есть корреляция')\n",
    "        #sns.jointplot(dataS1, dataS2, kind='scatter')\n",
    "        #if stat < 0:\n",
    "        #    print (f'С увеличением {Some1} уменьшается {Some2}')\n",
    "        #else:\n",
    "        #    print (f'С увеличением {Some1} увеличивается {Some2}')\n",
    "        return stat"
   ]
  },
  {
   "cell_type": "code",
   "execution_count": 257,
   "metadata": {},
   "outputs": [],
   "source": [
    "def Four_Points(name, dataS):\n",
    "    \n",
    "    N_num = dataS[name].unique() # Число пленок.\n",
    "    List_of_Max_Frames = []\n",
    "    List_of_num_fam = []\n",
    "    List_of_inform = []\n",
    "    \n",
    "    for i in N_num: \n",
    "        \n",
    "        OneFamily = dataS[dataS[name] == i].copy()\n",
    "        OneFamily = OneFamily.reset_index(drop = True)\n",
    "        dataSum = OneFamily['sum_energy'][0]\n",
    "        \n",
    "        # Если в семействе меньше четырёх точек, то берём меньше\n",
    "        if len(OneFamily)>=4:\n",
    "            d = 4 \n",
    "        else:\n",
    "            d = len(OneFamily)\n",
    "        \n",
    "         # Находим четыре максимума по энергии\n",
    "        FourMax = []\n",
    "        for k in range(d):\n",
    "            idxmax = OneFamily['E(J)'].idxmax()\n",
    "            OneFamilyMax =  OneFamily[OneFamily.index==idxmax]\n",
    "            FourMax.append(OneFamilyMax)\n",
    "            OneFamily = OneFamily.drop(idxmax) \n",
    "        \n",
    "        FourMaxData = pandas.concat(FourMax)\n",
    "        \n",
    "        # Считаем коэффициент корреляции Пирсона\n",
    "        cor = LinearCorrelationParticle(FourMaxData['X(J)'], FourMaxData['Y(J)'], 'X(J)', 'Y(J)')\n",
    "        \n",
    "        List_of_inform.append([i, round(dataSum,3), round(cor,3)])\n",
    "        List_of_num_fam.append(i)\n",
    "        List_of_Max_Frames.append(FourMaxData)\n",
    "    \n",
    "    New_Frame = pandas.DataFrame(data = List_of_inform, columns = [name, 'Sum_EE', 'cor' ])\n",
    "    return  New_Frame, List_of_Max_Frames \n",
    "# 100-200 200-400 400-700 >700 доля для кот >0.99"
   ]
  },
  {
   "cell_type": "code",
   "execution_count": 258,
   "metadata": {},
   "outputs": [],
   "source": [
    "W, R = Four_Points(' num_of_fam', AllExp)"
   ]
  },
  {
   "cell_type": "code",
   "execution_count": 263,
   "metadata": {},
   "outputs": [
    {
     "data": {
      "text/plain": [
       "(899, 3)"
      ]
     },
     "execution_count": 263,
     "metadata": {},
     "output_type": "execute_result"
    }
   ],
   "source": [
    "W.shape"
   ]
  },
  {
   "cell_type": "code",
   "execution_count": 262,
   "metadata": {},
   "outputs": [
    {
     "data": {
      "text/plain": [
       "(153, 3)"
      ]
     },
     "execution_count": 262,
     "metadata": {},
     "output_type": "execute_result"
    }
   ],
   "source": [
    "W.loc[(W['cor'] > 0.9)].shape"
   ]
  },
  {
   "cell_type": "code",
   "execution_count": 264,
   "metadata": {},
   "outputs": [
    {
     "name": "stderr",
     "output_type": "stream",
     "text": [
      "D:\\Anaconda\\envs\\myenv\\lib\\site-packages\\seaborn\\_decorators.py:43: FutureWarning: Pass the following variables as keyword args: x, y. From version 0.12, the only valid positional argument will be `data`, and passing other arguments without an explicit keyword will result in an error or misinterpretation.\n",
      "  FutureWarning\n"
     ]
    },
    {
     "data": {
      "text/plain": [
       "<seaborn.axisgrid.JointGrid at 0x1db9aaed808>"
      ]
     },
     "execution_count": 264,
     "metadata": {},
     "output_type": "execute_result"
    },
    {
     "data": {
      "image/png": "[encoded data removed]",
      "text/plain": [
       "<Figure size 432x432 with 3 Axes>"
      ]
     },
     "metadata": {},
     "output_type": "display_data"
    }
   ],
   "source": [
    "sns.jointplot(R[17]['X(J)'], R[17]['Y(J)'], kind='scatter')"
   ]
  },
  {
   "cell_type": "code",
   "execution_count": null,
   "metadata": {},
   "outputs": [],
   "source": []
  },
  {
   "cell_type": "code",
   "execution_count": null,
   "metadata": {},
   "outputs": [],
   "source": []
  }
 ],
 "metadata": {
  "kernelspec": {
   "display_name": "Python 3",
   "language": "python",
   "name": "python3"
  },
  "language_info": {
   "codemirror_mode": {
    "name": "ipython",
    "version": 3
   },
   "file_extension": ".py",
   "mimetype": "text/x-python",
   "name": "python",
   "nbconvert_exporter": "python",
   "pygments_lexer": "ipython3",
   "version": "3.7.9"
  }
 },
 "nbformat": 4,
 "nbformat_minor": 2
}
