{
 "cells": [
  {
   "cell_type": "markdown",
   "metadata": {},
   "source": [
    "Log 4, 10000 тэв в E0  \n",
    "Выбросить высокоэнергетичные события из старого банка и низкоэнергичные из нового банка.  \n",
    "Определить точное положение для объединения банков.    \n",
    "Построить суммарную энергию для объединённых данных.  \n",
    "Построить в объединённом банке распределение по высотам. По двум высотам: общим и доминирующим (доминирует хотя бы в одном кластерам).  \n",
    "Из них можно сказать, что события образовались от сильных взаимодействий по тем высотам, которые мы смотрим. dn/dh h - высота частицы.   \n",
    "Если после сравнения нового согласия распределений, мы можем считать что в эксперименте такое же распределение высот.   \n",
    "  \n",
    "Построить корреляцию число ni последних сильных взаимодействий - число разных индивидуальных высот, nc число построенных кластеров. Для каждого события, построить коэффициент корреляции и гистограмму.  \n",
    "  \n",
    "Число доминирующих взаимодействий   \n",
    "n_i^d и число nc. Доминирующее взаимодействие - доминирует при образовании одного кластера.  \n",
    "  \n",
    "Выделение чистых событий. Частица попадает в атмосферу. Получаем продукты ядерно электромагнитного каскада. Каскад подвержен флуктуациям, они достаточно сильны, если мы рассматриваем самые энергичные частицы. С достаточно высокой долей порядка 1 % реализуется случай, когда падающая частица вообще не взаимодействовала. Пролетела просто так. \n",
    "А есть каскады, в которых только одно взаимодействие 7-10% - это чистые события. Они очень хорошие, потому что дают изучать отдельные сильные взаимодействия.  \n",
    "Распределение dn/di по числу взаимодействий в формировании события. Самое вероятное 3-4 взаимодействия.  \n",
    "  \n",
    "Найти материалы по быстротным интервалам.  \n",
    "  \n",
    "Распределения по r_c - расстояние между энергетически взвешенным центром кластера до частицы в кластере.   \n",
    "R_c от центра события до частицы.  \n",
    "Построить по модели и по эксперименту, чтобы сравнить.  "
   ]
  },
  {
   "cell_type": "code",
   "execution_count": 12,
   "metadata": {},
   "outputs": [],
   "source": [
    "import pandas as pd\n",
    "import numpy as np\n",
    "from matplotlib import pyplot as plt\n",
    "import matplotlib as mpl\n",
    "import seaborn as sns\n",
    "import numpy as np\n",
    "from scipy import stats\n",
    "from statsmodels.distributions.empirical_distribution import ECDF"
   ]
  },
  {
   "cell_type": "code",
   "execution_count": 13,
   "metadata": {},
   "outputs": [],
   "source": [
    "from sklearn.preprocessing import LabelEncoder\n",
    "from sklearn.cluster import DBSCAN\n",
    "from sklearn.cluster import AgglomerativeClustering"
   ]
  },
  {
   "cell_type": "code",
   "execution_count": 14,
   "metadata": {},
   "outputs": [],
   "source": [
    "# ГРАФИКА\n",
    "large = 22; med = 18; small = 16\n",
    "params = {'axes.titlesize': large,\n",
    "          'legend.fontsize': med,\n",
    "          'figure.figsize': (16, 10),\n",
    "          'axes.labelsize': med,\n",
    "          'axes.titlesize': med,\n",
    "          'xtick.labelsize': med,\n",
    "          'ytick.labelsize': med,\n",
    "          'figure.titlesize': large}\n",
    "plt.rcParams.update(params)\n",
    "plt.style.use('seaborn-whitegrid')\n",
    "sns.set_style(\"white\")\n",
    "%matplotlib inline\n",
    "sns.set(style=\"whitegrid\")"
   ]
  },
  {
   "cell_type": "markdown",
   "metadata": {},
   "source": [
    "### Загрузка данных о первичных энергиях смоделированных частиц"
   ]
  },
  {
   "cell_type": "code",
   "execution_count": 4,
   "metadata": {},
   "outputs": [],
   "source": [
    "# Первичная энергия событий в старой базе\n",
    "oldE = pd.read_csv('newdata/E0_BCR.txt')\n",
    "oldE = oldE.loc[oldE[' num_of_family']<1299].copy() # убираем дубли\n",
    "oldE['log_E0'] = np.log10(oldE[' E0'])\n",
    "\n",
    "# Первичная энергия событий в новой базе\n",
    "newE = pd.read_csv('newdata/E0_7_BCR.txt')\n",
    "newE['log_E0'] = np.log10(newE[' E0'])"
   ]
  },
  {
   "cell_type": "code",
   "execution_count": 5,
   "metadata": {},
   "outputs": [
    {
     "data": {
      "text/html": [
       "<div>\n",
       "<style scoped>\n",
       "    .dataframe tbody tr th:only-of-type {\n",
       "        vertical-align: middle;\n",
       "    }\n",
       "\n",
       "    .dataframe tbody tr th {\n",
       "        vertical-align: top;\n",
       "    }\n",
       "\n",
       "    .dataframe thead th {\n",
       "        text-align: right;\n",
       "    }\n",
       "</style>\n",
       "<table border=\"1\" class=\"dataframe\">\n",
       "  <thead>\n",
       "    <tr style=\"text-align: right;\">\n",
       "      <th></th>\n",
       "      <th>num_of_family</th>\n",
       "      <th>E0</th>\n",
       "      <th>A0</th>\n",
       "      <th>log_E0</th>\n",
       "    </tr>\n",
       "  </thead>\n",
       "  <tbody>\n",
       "    <tr>\n",
       "      <th>0</th>\n",
       "      <td>1</td>\n",
       "      <td>3366.712</td>\n",
       "      <td>1</td>\n",
       "      <td>3.527206</td>\n",
       "    </tr>\n",
       "    <tr>\n",
       "      <th>1</th>\n",
       "      <td>2</td>\n",
       "      <td>2096.696</td>\n",
       "      <td>1</td>\n",
       "      <td>3.321535</td>\n",
       "    </tr>\n",
       "    <tr>\n",
       "      <th>2</th>\n",
       "      <td>3</td>\n",
       "      <td>19011.010</td>\n",
       "      <td>1</td>\n",
       "      <td>4.279005</td>\n",
       "    </tr>\n",
       "    <tr>\n",
       "      <th>3</th>\n",
       "      <td>4</td>\n",
       "      <td>3188.047</td>\n",
       "      <td>1</td>\n",
       "      <td>3.503525</td>\n",
       "    </tr>\n",
       "    <tr>\n",
       "      <th>4</th>\n",
       "      <td>5</td>\n",
       "      <td>3345.026</td>\n",
       "      <td>1</td>\n",
       "      <td>3.524399</td>\n",
       "    </tr>\n",
       "  </tbody>\n",
       "</table>\n",
       "</div>"
      ],
      "text/plain": [
       "    num_of_family         E0   A0    log_E0\n",
       "0               1   3366.712    1  3.527206\n",
       "1               2   2096.696    1  3.321535\n",
       "2               3  19011.010    1  4.279005\n",
       "3               4   3188.047    1  3.503525\n",
       "4               5   3345.026    1  3.524399"
      ]
     },
     "execution_count": 5,
     "metadata": {},
     "output_type": "execute_result"
    }
   ],
   "source": [
    "oldE.head()"
   ]
  },
  {
   "cell_type": "code",
   "execution_count": 6,
   "metadata": {},
   "outputs": [
    {
     "data": {
      "text/plain": [
       "5.908713311976288"
      ]
     },
     "execution_count": 6,
     "metadata": {},
     "output_type": "execute_result"
    }
   ],
   "source": [
    "oldE['log_E0'].max()"
   ]
  },
  {
   "cell_type": "code",
   "execution_count": 7,
   "metadata": {},
   "outputs": [
    {
     "data": {
      "text/html": [
       "<div>\n",
       "<style scoped>\n",
       "    .dataframe tbody tr th:only-of-type {\n",
       "        vertical-align: middle;\n",
       "    }\n",
       "\n",
       "    .dataframe tbody tr th {\n",
       "        vertical-align: top;\n",
       "    }\n",
       "\n",
       "    .dataframe thead th {\n",
       "        text-align: right;\n",
       "    }\n",
       "</style>\n",
       "<table border=\"1\" class=\"dataframe\">\n",
       "  <thead>\n",
       "    <tr style=\"text-align: right;\">\n",
       "      <th></th>\n",
       "      <th>num_of_family</th>\n",
       "      <th>E0</th>\n",
       "      <th>A0</th>\n",
       "      <th>log_E0</th>\n",
       "    </tr>\n",
       "  </thead>\n",
       "  <tbody>\n",
       "    <tr>\n",
       "      <th>0</th>\n",
       "      <td>1</td>\n",
       "      <td>24297.69</td>\n",
       "      <td>9</td>\n",
       "      <td>4.385565</td>\n",
       "    </tr>\n",
       "    <tr>\n",
       "      <th>1</th>\n",
       "      <td>2</td>\n",
       "      <td>40165.46</td>\n",
       "      <td>2</td>\n",
       "      <td>4.603853</td>\n",
       "    </tr>\n",
       "    <tr>\n",
       "      <th>2</th>\n",
       "      <td>3</td>\n",
       "      <td>60512.43</td>\n",
       "      <td>9</td>\n",
       "      <td>4.781845</td>\n",
       "    </tr>\n",
       "    <tr>\n",
       "      <th>3</th>\n",
       "      <td>4</td>\n",
       "      <td>21890.88</td>\n",
       "      <td>1</td>\n",
       "      <td>4.340263</td>\n",
       "    </tr>\n",
       "    <tr>\n",
       "      <th>4</th>\n",
       "      <td>5</td>\n",
       "      <td>66092.91</td>\n",
       "      <td>2</td>\n",
       "      <td>4.820155</td>\n",
       "    </tr>\n",
       "  </tbody>\n",
       "</table>\n",
       "</div>"
      ],
      "text/plain": [
       "    num_of_family        E0   A0    log_E0\n",
       "0               1  24297.69    9  4.385565\n",
       "1               2  40165.46    2  4.603853\n",
       "2               3  60512.43    9  4.781845\n",
       "3               4  21890.88    1  4.340263\n",
       "4               5  66092.91    2  4.820155"
      ]
     },
     "execution_count": 7,
     "metadata": {},
     "output_type": "execute_result"
    }
   ],
   "source": [
    "newE.head()"
   ]
  },
  {
   "cell_type": "code",
   "execution_count": 8,
   "metadata": {},
   "outputs": [
    {
     "data": {
      "text/plain": [
       "6.443077805507344"
      ]
     },
     "execution_count": 8,
     "metadata": {},
     "output_type": "execute_result"
    }
   ],
   "source": [
    "newE['log_E0'].max()"
   ]
  },
  {
   "cell_type": "markdown",
   "metadata": {},
   "source": [
    "### Сравним два банка и выберем границу для разделения частиц по энергиям"
   ]
  },
  {
   "cell_type": "code",
   "execution_count": 9,
   "metadata": {},
   "outputs": [],
   "source": [
    "def Two_banks( dataS1, dataS2, L, R, Some1, Some2, title, w, tit, density=False):\n",
    "    \n",
    "    title = f\"{title}_{Some1}\"\n",
    "    \n",
    "    bins = np.linspace(L, R, 50)\n",
    "    \n",
    "    x1, bins1, p1 = plt.hist(dataS1, bins, density = density, histtype=f'{w}', alpha=0.5, label=f'old_mc0', color=\"green\", log = True)\n",
    "    x2, bins2, p2 = plt.hist(dataS2, bins, density = density, histtype=f'{w}', alpha=0.5,  label=f'new_mc0', color=\"orange\", log = True)\n",
    "    # density = True это нормировка\n",
    "    # log - логарифмирование шкалы\n",
    "    \n",
    "    box_1 = {'facecolor':'white',    #  цвет области\n",
    "       'edgecolor': 'red',     #  цвет крайней линии\n",
    "       'boxstyle': 'round'}\n",
    "    \n",
    "    box_str = f'{Some1}_mean: old = {round(np.mean(dataS1), 2)} new = {round(np.mean(dataS2), 2)} '\n",
    "    \n",
    "    \n",
    "    plt.xlabel(box_str, size = 13)\n",
    "    \n",
    "    plt.legend(loc='upper right')\n",
    "    plt.title(title, fontsize=16)\n",
    "    plt.style.use('seaborn-deep')\n",
    "    plt.savefig(f'images/distributions/{tit}.png')\n",
    "    plt.show()\n",
    "    \n",
    "    "
   ]
  },
  {
   "cell_type": "code",
   "execution_count": 10,
   "metadata": {},
   "outputs": [
    {
     "data": {
      "image/png": "[encoded data removed]",
      "text/plain": [
       "<Figure size 432x288 with 1 Axes>"
      ]
     },
     "metadata": {},
     "output_type": "display_data"
    }
   ],
   "source": [
    "# Сравнение логарифмированных\n",
    "file_name = 'Сравнение_первичных_энергий_банков'\n",
    "n = 'log_E0'\n",
    "l = 2.8\n",
    "r = 6.5\n",
    "Two_banks(oldE[n], newE[n],l, r, n, n, 'E', 'barstacked', file_name)"
   ]
  },
  {
   "cell_type": "code",
   "execution_count": 11,
   "metadata": {},
   "outputs": [
    {
     "name": "stdout",
     "output_type": "stream",
     "text": [
      "left threshold =  3.832633759665275\n",
      "pvalue =  0.4740409485695565\n"
     ]
    },
    {
     "data": {
      "image/png": "[encoded data removed]",
      "text/plain": [
       "<Figure size 432x288 with 1 Axes>"
      ]
     },
     "metadata": {},
     "output_type": "display_data"
    }
   ],
   "source": [
    "# нам нужна именно нижняя граница для разделения\n",
    "left_thr = min(np.log10(oldE[n]))\n",
    "right_thr = 5.5 # из вида гистограммы\n",
    "pvalue = stats.mannwhitneyu(np.log10(oldE[n]), np.log10(newE[n])).pvalue\n",
    "\n",
    "while left_thr < right_thr:\n",
    "    left_thr += 0.05\n",
    "    \n",
    "    one = oldE[(oldE[n]>left_thr) & (oldE[n]<right_thr)][n].values\n",
    "    two = newE[newE[n]<right_thr][n].values\n",
    "    \n",
    "    if len(one)!=0 and len(two)!=0:\n",
    "        pvalue = stats.mannwhitneyu(one, two).pvalue\n",
    "    \n",
    "    if pvalue > 0.05:\n",
    "        print('left threshold = ', left_thr)\n",
    "        print('pvalue = ', pvalue)\n",
    "        Two_banks(one, two,l, r, n, n, 'E', 'barstacked', file_name)\n",
    "        break"
   ]
  },
  {
   "cell_type": "code",
   "execution_count": 12,
   "metadata": {},
   "outputs": [],
   "source": [
    "# Семейства, которые мы хотим взять из старого банка с малыми энергиями.\n",
    "old_families = oldE[(oldE[n]<left_thr)][' num_of_family'].values"
   ]
  },
  {
   "cell_type": "code",
   "execution_count": 13,
   "metadata": {},
   "outputs": [],
   "source": [
    "# Семейства, которые мы хотим взять из нового банка с большими энергиями.\n",
    "new_families = newE[(newE[n]>left_thr)][' num_of_family'].values"
   ]
  },
  {
   "cell_type": "code",
   "execution_count": 14,
   "metadata": {},
   "outputs": [
    {
     "name": "stdout",
     "output_type": "stream",
     "text": [
      "2311\n",
      "91\n"
     ]
    }
   ],
   "source": [
    "# есть пересечения в нумерации семейств,поэтому нужно их перенумеровать\n",
    "print(len(old_families)+len(new_families))\n",
    "print(len(list(set(old_families)-set(new_families))))"
   ]
  },
  {
   "cell_type": "code",
   "execution_count": 15,
   "metadata": {},
   "outputs": [
    {
     "data": {
      "image/png": "[encoded data removed]",
      "text/plain": [
       "<Figure size 432x288 with 1 Axes>"
      ]
     },
     "metadata": {},
     "output_type": "display_data"
    }
   ],
   "source": [
    "file_name = 'Сравнение_первичных_энергий_обрезанных_банков'\n",
    "n = 'log_E0'\n",
    "l = 2.8\n",
    "r = 6.5\n",
    "Two_banks(oldE[(oldE[n]<left_thr)][n], newE[(newE[n]>left_thr)][n],l, r, n, n, 'E', 'barstacked', file_name)"
   ]
  },
  {
   "cell_type": "markdown",
   "metadata": {},
   "source": [
    "### Объединение банков"
   ]
  },
  {
   "cell_type": "code",
   "execution_count": 9,
   "metadata": {},
   "outputs": [],
   "source": [
    "# Старый не обработанный банк событий.\n",
    "# Объединяем его с A0 и E0.\n",
    "olddata = pd.read_csv('data/AllMc0.csv')\n",
    "olddata = olddata.loc[olddata[' num_of_family']<1299].copy() # убираем дублирование семейств\n",
    "olddata = olddata.merge(oldE, left_on=' num_of_family', right_on=' num_of_family')"
   ]
  },
  {
   "cell_type": "code",
   "execution_count": 10,
   "metadata": {},
   "outputs": [
    {
     "data": {
      "text/html": [
       "<div>\n",
       "<style scoped>\n",
       "    .dataframe tbody tr th:only-of-type {\n",
       "        vertical-align: middle;\n",
       "    }\n",
       "\n",
       "    .dataframe tbody tr th {\n",
       "        vertical-align: top;\n",
       "    }\n",
       "\n",
       "    .dataframe thead th {\n",
       "        text-align: right;\n",
       "    }\n",
       "</style>\n",
       "<table border=\"1\" class=\"dataframe\">\n",
       "  <thead>\n",
       "    <tr style=\"text-align: right;\">\n",
       "      <th></th>\n",
       "      <th>num_of_family</th>\n",
       "      <th>j</th>\n",
       "      <th>X(J)</th>\n",
       "      <th>Y(J)</th>\n",
       "      <th>E(J)</th>\n",
       "      <th>H(J)</th>\n",
       "      <th>E0</th>\n",
       "      <th>A0</th>\n",
       "      <th>log_E0</th>\n",
       "    </tr>\n",
       "  </thead>\n",
       "  <tbody>\n",
       "    <tr>\n",
       "      <th>0</th>\n",
       "      <td>1</td>\n",
       "      <td>1</td>\n",
       "      <td>-3.013189</td>\n",
       "      <td>-7.227429</td>\n",
       "      <td>4.611031</td>\n",
       "      <td>1255.250</td>\n",
       "      <td>3366.712</td>\n",
       "      <td>1</td>\n",
       "      <td>3.527206</td>\n",
       "    </tr>\n",
       "    <tr>\n",
       "      <th>1</th>\n",
       "      <td>1</td>\n",
       "      <td>2</td>\n",
       "      <td>-1.310529</td>\n",
       "      <td>-2.563248</td>\n",
       "      <td>12.047700</td>\n",
       "      <td>1545.054</td>\n",
       "      <td>3366.712</td>\n",
       "      <td>1</td>\n",
       "      <td>3.527206</td>\n",
       "    </tr>\n",
       "    <tr>\n",
       "      <th>2</th>\n",
       "      <td>1</td>\n",
       "      <td>3</td>\n",
       "      <td>-2.178048</td>\n",
       "      <td>-2.144561</td>\n",
       "      <td>5.401844</td>\n",
       "      <td>3044.520</td>\n",
       "      <td>3366.712</td>\n",
       "      <td>1</td>\n",
       "      <td>3.527206</td>\n",
       "    </tr>\n",
       "    <tr>\n",
       "      <th>3</th>\n",
       "      <td>1</td>\n",
       "      <td>4</td>\n",
       "      <td>-0.965465</td>\n",
       "      <td>-0.082880</td>\n",
       "      <td>5.325506</td>\n",
       "      <td>4715.523</td>\n",
       "      <td>3366.712</td>\n",
       "      <td>1</td>\n",
       "      <td>3.527206</td>\n",
       "    </tr>\n",
       "    <tr>\n",
       "      <th>4</th>\n",
       "      <td>1</td>\n",
       "      <td>5</td>\n",
       "      <td>-1.621645</td>\n",
       "      <td>0.079540</td>\n",
       "      <td>15.935060</td>\n",
       "      <td>3044.520</td>\n",
       "      <td>3366.712</td>\n",
       "      <td>1</td>\n",
       "      <td>3.527206</td>\n",
       "    </tr>\n",
       "  </tbody>\n",
       "</table>\n",
       "</div>"
      ],
      "text/plain": [
       "    num_of_family   j      X(J)      Y(J)       E(J)      H(J)        E0   A0  \\\n",
       "0               1   1 -3.013189 -7.227429   4.611031  1255.250  3366.712    1   \n",
       "1               1   2 -1.310529 -2.563248  12.047700  1545.054  3366.712    1   \n",
       "2               1   3 -2.178048 -2.144561   5.401844  3044.520  3366.712    1   \n",
       "3               1   4 -0.965465 -0.082880   5.325506  4715.523  3366.712    1   \n",
       "4               1   5 -1.621645  0.079540  15.935060  3044.520  3366.712    1   \n",
       "\n",
       "     log_E0  \n",
       "0  3.527206  \n",
       "1  3.527206  \n",
       "2  3.527206  \n",
       "3  3.527206  \n",
       "4  3.527206  "
      ]
     },
     "execution_count": 10,
     "metadata": {},
     "output_type": "execute_result"
    }
   ],
   "source": [
    "olddata.head()"
   ]
  },
  {
   "cell_type": "code",
   "execution_count": 18,
   "metadata": {},
   "outputs": [
    {
     "data": {
      "text/plain": [
       "5.908713311976288"
      ]
     },
     "execution_count": 18,
     "metadata": {},
     "output_type": "execute_result"
    }
   ],
   "source": [
    "olddata['log_E0'].max()"
   ]
  },
  {
   "cell_type": "code",
   "execution_count": 19,
   "metadata": {},
   "outputs": [],
   "source": [
    "# Сохраняем старую дату для дальнейшего сравнения (!) до обрезания семейсв (!).\n",
    "# olddata.to_csv('datachanged/AllMc0COld', sep = '\\t', index = False)"
   ]
  },
  {
   "cell_type": "code",
   "execution_count": 21,
   "metadata": {},
   "outputs": [
    {
     "name": "stdout",
     "output_type": "stream",
     "text": [
      "28449 9117\n"
     ]
    }
   ],
   "source": [
    "all_len_old = len(olddata)\n",
    "new_len_old = len(olddata[olddata[' num_of_family'].isin(old_families)])\n",
    "print(all_len_old, new_len_old)"
   ]
  },
  {
   "cell_type": "code",
   "execution_count": 22,
   "metadata": {},
   "outputs": [],
   "source": [
    "# Берем в старомм банке только выбранные семейства по нижним границам энергий.\n",
    "olddata = olddata[olddata[' num_of_family'].isin(old_families)].copy()"
   ]
  },
  {
   "cell_type": "code",
   "execution_count": 23,
   "metadata": {},
   "outputs": [
    {
     "name": "stdout",
     "output_type": "stream",
     "text": [
      "last_value =  620\n"
     ]
    }
   ],
   "source": [
    "# Перенумеровка семейств. Выводим последний номер семейства.\n",
    "nums = list(set(olddata[' num_of_family']))\n",
    "df_old = []\n",
    "last_value = len(nums)+1\n",
    "print('last_value = ', last_value)\n",
    "\n",
    "for i in range(1, len(nums)+1):\n",
    "    df = olddata[olddata[' num_of_family']==nums[i-1]][[' j', 'X(J)', 'Y(J)', 'E(J)', 'H(J)', ' E0', ' A0', 'log_E0']].copy()\n",
    "    df['num'] = i\n",
    "    df_old.append(df)\n",
    "df_old = pd.concat(df_old)"
   ]
  },
  {
   "cell_type": "code",
   "execution_count": 11,
   "metadata": {},
   "outputs": [],
   "source": [
    "# новый банк событий.\n",
    "# Объединяем его с A0 и E0.\n",
    "newdata = pd.read_csv('newdata/outBCR.txt')\n",
    "newdata_num = pd.read_csv('newdata/out_num_of_family_BCR.txt')\n",
    "newdata[' num_of_family'] = newdata_num[' num_of_family']\n",
    "#newdata = newdata.merge(oldE, left_on=' num_of_family', right_on=' num_of_family')\n",
    "newdata = newdata.merge(newE, on=' num_of_family', how = 'left')"
   ]
  },
  {
   "cell_type": "code",
   "execution_count": 25,
   "metadata": {},
   "outputs": [
    {
     "name": "stdout",
     "output_type": "stream",
     "text": [
      "115542 106990\n"
     ]
    }
   ],
   "source": [
    "all_len_new = len(newdata)\n",
    "new_len_new = len(newdata[newdata[' num_of_family'].isin(new_families)])\n",
    "print(all_len_new, new_len_new)"
   ]
  },
  {
   "cell_type": "code",
   "execution_count": 26,
   "metadata": {},
   "outputs": [],
   "source": [
    "# Берём в новом банке только выбранные семейства по верхней границе.\n",
    "newdata = newdata[newdata[' num_of_family'].isin(new_families)].copy()"
   ]
  },
  {
   "cell_type": "code",
   "execution_count": 27,
   "metadata": {},
   "outputs": [
    {
     "name": "stdout",
     "output_type": "stream",
     "text": [
      "last_value_new =  2312\n"
     ]
    }
   ],
   "source": [
    "nums = list(set(newdata[' num_of_family']))\n",
    "df_new = []\n",
    "print('last_value_new = ', len(nums)+last_value)\n",
    "\n",
    "for i in range(last_value, len(nums)+last_value):\n",
    "    df = newdata[newdata[' num_of_family']==nums[i-last_value]][[' j', 'X(J)', 'Y(J)', 'E(J)', 'H(J)', ' E0', ' A0', 'log_E0']].copy()\n",
    "    df['num'] = i\n",
    "    df_new.append(df)\n",
    "df_new = pd.concat(df_new)"
   ]
  },
  {
   "cell_type": "code",
   "execution_count": 28,
   "metadata": {},
   "outputs": [],
   "source": [
    "AllMc0 = pd.concat([df_old,df_new])"
   ]
  },
  {
   "cell_type": "code",
   "execution_count": 29,
   "metadata": {},
   "outputs": [],
   "source": [
    "#AllMc0.to_csv('newdata/newbankmc0', sep = '\\t', index = False)"
   ]
  },
  {
   "cell_type": "code",
   "execution_count": 30,
   "metadata": {},
   "outputs": [],
   "source": [
    "# Вычисляем расстояние до энергитического центра\n",
    "def Create_Distance(X, Y):\n",
    "    R = (X*X+Y*Y)**0.5\n",
    "    return R"
   ]
  },
  {
   "cell_type": "code",
   "execution_count": null,
   "metadata": {},
   "outputs": [],
   "source": [
    "# Удаление семейств, где количество частиц меньше или равно 3\n",
    "def Amount(df, name):\n",
    "    # Group values for Series and add 'cnt' column with count\n",
    "    df['cnt'] = df.groupby([name])[name].transform('count')\n",
    "    # Drop indexes for count value == 1, and dropping 'cnt' column\n",
    "    df = df.drop(df[df.cnt<=2].index)\n",
    "    return df"
   ]
  },
  {
   "cell_type": "code",
   "execution_count": 31,
   "metadata": {},
   "outputs": [],
   "source": [
    "AllMc0['R'] = Create_Distance(AllMc0['X(J)'].values, AllMc0['Y(J)'].values)"
   ]
  },
  {
   "cell_type": "code",
   "execution_count": 32,
   "metadata": {},
   "outputs": [
    {
     "data": {
      "text/plain": [
       "(116107, 113159)"
      ]
     },
     "execution_count": 32,
     "metadata": {},
     "output_type": "execute_result"
    }
   ],
   "source": [
    "len(AllMc0), len(AllMc0[AllMc0['R']<15])"
   ]
  },
  {
   "cell_type": "code",
   "execution_count": 33,
   "metadata": {},
   "outputs": [],
   "source": [
    "AllMc0 = AllMc0[AllMc0['R']<15].copy()\n",
    "AllMc0 = Amount(AllMc0, 'num').copy()"
   ]
  },
  {
   "cell_type": "code",
   "execution_count": 34,
   "metadata": {},
   "outputs": [],
   "source": [
    "AllMc0['ER']=AllMc0['E(J)']*AllMc0['R']"
   ]
  },
  {
   "cell_type": "code",
   "execution_count": 35,
   "metadata": {},
   "outputs": [],
   "source": [
    "# Функция считает сумму энергий для всех частиц на пленке \n",
    "# Печатает номер семейства, в котором суммарная энергия меньше 100, такие мы не рассматриваем\n",
    "def sum_energy(data, Some, name):\n",
    "    \n",
    "    Sum_of_E = []\n",
    "    Sum_of_E_New = []\n",
    "    \n",
    "    Num = set(data[name])\n",
    "\n",
    "    \n",
    "    \n",
    "    for i in Num: \n",
    "        OneFamily = pd.DataFrame( data.loc[lambda data: data[name] == i, :] ).copy()\n",
    "        s = OneFamily[Some].sum()\n",
    "        \n",
    "        for j in range(len(OneFamily)):\n",
    "            Sum_of_E_New.append( s ) \n",
    "        if s < 100:\n",
    "            print(i)\n",
    "        \n",
    "        Sum_of_E.append( OneFamily[Some].sum() )    \n",
    "    \n",
    "    return Sum_of_E, Sum_of_E_New"
   ]
  },
  {
   "cell_type": "code",
   "execution_count": 36,
   "metadata": {},
   "outputs": [
    {
     "name": "stdout",
     "output_type": "stream",
     "text": [
      "37\n",
      "52\n",
      "106\n",
      "114\n",
      "159\n",
      "193\n",
      "267\n",
      "318\n",
      "335\n",
      "353\n",
      "357\n",
      "412\n",
      "477\n",
      "588\n",
      "594\n",
      "725\n",
      "746\n",
      "880\n",
      "968\n",
      "1012\n",
      "1041\n",
      "1099\n",
      "1282\n",
      "1300\n",
      "1561\n",
      "1595\n",
      "1641\n",
      "1685\n",
      "1691\n",
      "1741\n",
      "1797\n",
      "1939\n",
      "1990\n",
      "2179\n",
      "2192\n",
      "2197\n",
      "2241\n",
      "2245\n"
     ]
    }
   ],
   "source": [
    "Sum_EM,  Sum_of_EM_New = sum_energy(AllMc0, 'E(J)', 'num')"
   ]
  },
  {
   "cell_type": "code",
   "execution_count": 37,
   "metadata": {},
   "outputs": [],
   "source": [
    "AllMc0['sum_energy'] = Sum_of_EM_New\n",
    "AllMc0 = AllMc0[AllMc0['sum_energy']>100].copy()"
   ]
  },
  {
   "cell_type": "code",
   "execution_count": 38,
   "metadata": {},
   "outputs": [],
   "source": [
    "AllMc0['lg_r'] = np.log10(AllMc0['R'].values)\n",
    "AllMc0['lg_e_r'] = np.log10(AllMc0['ER'].values)"
   ]
  },
  {
   "cell_type": "code",
   "execution_count": 138,
   "metadata": {},
   "outputs": [],
   "source": [
    "# Сохранение обработанных файлов в папку datachanged\n",
    "# AllMc0.to_csv('datachanged/AllMc0CNewBank', sep = '\\t', index = False)"
   ]
  },
  {
   "cell_type": "code",
   "execution_count": 39,
   "metadata": {},
   "outputs": [],
   "source": [
    "olddata = pd.read_csv('datachanged/AllMc0COld', sep = '\\t')"
   ]
  },
  {
   "cell_type": "code",
   "execution_count": 40,
   "metadata": {},
   "outputs": [],
   "source": [
    "olddata['R'] = Create_Distance(olddata['X(J)'].values, olddata['Y(J)'].values)"
   ]
  },
  {
   "cell_type": "code",
   "execution_count": 41,
   "metadata": {},
   "outputs": [],
   "source": [
    "olddata = olddata[olddata['R']<15].copy()"
   ]
  },
  {
   "cell_type": "code",
   "execution_count": 42,
   "metadata": {},
   "outputs": [],
   "source": [
    "olddata['ER']=olddata['E(J)']*olddata['R']"
   ]
  },
  {
   "cell_type": "code",
   "execution_count": 43,
   "metadata": {},
   "outputs": [
    {
     "name": "stdout",
     "output_type": "stream",
     "text": [
      "52\n",
      "55\n",
      "70\n",
      "95\n",
      "113\n",
      "214\n",
      "225\n",
      "226\n",
      "239\n",
      "263\n",
      "308\n",
      "309\n",
      "312\n",
      "323\n",
      "349\n",
      "434\n",
      "492\n",
      "539\n",
      "554\n",
      "564\n",
      "573\n",
      "667\n",
      "675\n",
      "704\n",
      "754\n",
      "762\n",
      "772\n",
      "782\n",
      "784\n",
      "831\n",
      "862\n",
      "893\n",
      "988\n",
      "1016\n",
      "1114\n",
      "1157\n",
      "1160\n",
      "1166\n",
      "1193\n",
      "1229\n",
      "1240\n",
      "1250\n",
      "1259\n",
      "1288\n",
      "1289\n"
     ]
    }
   ],
   "source": [
    "Sum_EM,  Sum_of_EM_New = sum_energy(olddata, 'E(J)', ' num_of_family')"
   ]
  },
  {
   "cell_type": "code",
   "execution_count": 44,
   "metadata": {},
   "outputs": [],
   "source": [
    "olddata['sum_energy'] = Sum_of_EM_New\n",
    "olddata = olddata[olddata['sum_energy']>100].copy()"
   ]
  },
  {
   "cell_type": "code",
   "execution_count": 45,
   "metadata": {},
   "outputs": [],
   "source": [
    "# Сохранение обработанных файлов в папку AllMc0COld\n",
    "# olddata.to_csv('datachanged/AllMc0COld', sep = '\\t', index = False)"
   ]
  },
  {
   "cell_type": "markdown",
   "metadata": {},
   "source": [
    "### Распределение по высотам "
   ]
  },
  {
   "cell_type": "code",
   "execution_count": 310,
   "metadata": {},
   "outputs": [],
   "source": [
    "AllMc0 = pd.read_csv('datachanged/AllMc0CNewBank', sep = '\\t')\n",
    "olddata = pd.read_csv('datachanged/AllMc0COld', sep = '\\t')"
   ]
  },
  {
   "cell_type": "code",
   "execution_count": 311,
   "metadata": {},
   "outputs": [
    {
     "data": {
      "image/png": "[encoded data removed]",
      "text/plain": [
       "<Figure size 432x288 with 1 Axes>"
      ]
     },
     "metadata": {},
     "output_type": "display_data"
    }
   ],
   "source": [
    "file_name = 'сравенение_объединённого_нового_банка_и_старого'\n",
    "n = 'log_E0'\n",
    "l = 2.8\n",
    "r = 6.5\n",
    "Two_banks(olddata[n], AllMc0[n],l, r, n, n, 'E', 'barstacked', file_name, True)"
   ]
  },
  {
   "cell_type": "code",
   "execution_count": 312,
   "metadata": {},
   "outputs": [
    {
     "data": {
      "image/png": "[encoded data removed]",
      "text/plain": [
       "<Figure size 432x288 with 1 Axes>"
      ]
     },
     "metadata": {},
     "output_type": "display_data"
    }
   ],
   "source": [
    "# Распределение по высотам\n",
    "tit = 'Распределение_по_высотам'\n",
    "plt.title(tit)\n",
    "plt.hist(AllMc0['H(J)'], bins = 50, density = True, color  = 'blue', label = 'new_mc0')\n",
    "plt.hist(olddata['H(J)'], bins = 50, density = True, alpha = 0.5, color = 'pink', label = 'old_mc0')\n",
    "plt.savefig(f'images/distributions/{tit}.png')\n",
    "plt.legend()\n",
    "plt.show()"
   ]
  },
  {
   "cell_type": "code",
   "execution_count": 86,
   "metadata": {},
   "outputs": [
    {
     "data": {
      "text/plain": [
       "MannwhitneyuResult(statistic=1603268641.0, pvalue=0.44913433300119787)"
      ]
     },
     "execution_count": 86,
     "metadata": {},
     "output_type": "execute_result"
    }
   ],
   "source": [
    "stats.mannwhitneyu(AllMc0['H(J)'], olddata['H(J)'])"
   ]
  },
  {
   "cell_type": "code",
   "execution_count": 313,
   "metadata": {},
   "outputs": [
    {
     "data": {
      "image/png": "[encoded data removed]",
      "text/plain": [
       "<Figure size 432x288 with 1 Axes>"
      ]
     },
     "metadata": {},
     "output_type": "display_data"
    }
   ],
   "source": [
    "tit = 'логарифмированное_распределение_по_высотам_объединённого_банка'\n",
    "s = 'H(J)'\n",
    "plt.title(tit)\n",
    "plt.hist(np.log10(AllMc0[s]), bins = 50, density = True, log=True, color  = 'blue', label = 'new_mc0')\n",
    "box_str = f'mean: {round(np.mean(np.log10(AllMc0[s])), 2)}    median : {round(np.median(np.log10(AllMc0[s])), 2)}'\n",
    "plt.xlabel(box_str, size = 13)\n",
    "plt.savefig(f'images/distributions/{tit}.png')\n",
    "plt.legend()\n",
    "plt.show()"
   ]
  },
  {
   "cell_type": "code",
   "execution_count": 85,
   "metadata": {},
   "outputs": [
    {
     "data": {
      "image/png": "[encoded data removed]",
      "text/plain": [
       "<Figure size 432x288 with 1 Axes>"
      ]
     },
     "metadata": {},
     "output_type": "display_data"
    }
   ],
   "source": [
    "#посмотреть выброс высоты\n",
    "plt.hist(olddata[olddata['H(J)']>44000]['H(J)'], bins = 10, density = False, color = 'pink', label = 'old_mc0')\n",
    "plt.show()"
   ]
  },
  {
   "cell_type": "code",
   "execution_count": 91,
   "metadata": {},
   "outputs": [],
   "source": [
    "def return_dom_h_family(data, name):\n",
    "    nums = list(set(data[name]))\n",
    "    Dom_H = []\n",
    "\n",
    "    for num in nums:\n",
    "        value = data[data[name]==num]['H(J)'].value_counts().head(1)\n",
    "        Dom_H.append(value.index[0])\n",
    "    return Dom_H"
   ]
  },
  {
   "cell_type": "code",
   "execution_count": null,
   "metadata": {},
   "outputs": [],
   "source": [
    "# Распределение по доминирующим высотам в семействе\n",
    "dom_h_new = return_dom_h_family(AllMc0, 'num')\n",
    "dom_h_old = return_dom_h_family(olddata, ' num_of_family')"
   ]
  },
  {
   "cell_type": "code",
   "execution_count": 314,
   "metadata": {},
   "outputs": [
    {
     "data": {
      "image/png": "[encoded data removed]",
      "text/plain": [
       "<Figure size 432x288 with 1 Axes>"
      ]
     },
     "metadata": {},
     "output_type": "display_data"
    }
   ],
   "source": [
    "tit = 'распред_по_доминирующ_высоте_в_СЕМЕЙСТВЕ_объединённого_банка'\n",
    "plt.title(tit)\n",
    "plt.hist(dom_h_new, bins = 50, density = True, color = 'blue', label = 'new_mc0')\n",
    "plt.hist(dom_h_old, bins = 50, density = True,alpha = 0.5,  color  = 'pink', label = 'old_mc0')\n",
    "plt.savefig(f'images/distributions/{tit}.png')\n",
    "plt.legend()\n",
    "plt.show()"
   ]
  },
  {
   "cell_type": "code",
   "execution_count": 333,
   "metadata": {},
   "outputs": [
    {
     "data": {
      "image/png": "[encoded data removed]",
      "text/plain": [
       "<Figure size 432x288 with 1 Axes>"
      ]
     },
     "metadata": {},
     "output_type": "display_data"
    }
   ],
   "source": [
    "tit = 'логарифм_распред_по_доминирующ_высоте_в_СЕМЕЙСТВЕ_объединённого_банка'\n",
    "s = 'H(J)'\n",
    "plt.title(tit)\n",
    "plt.hist(np.log10(dom_h_new), bins = 50, density = True, log = True, alpha = 0.7, color = 'blue', label = 'new_mc0')\n",
    "box_str = f'mean: {round(np.mean(np.log10(dom_h_new)), 2)}   median : {round(np.median(np.log10(dom_h_new)), 2)}'\n",
    "plt.xlabel(box_str, size = 13)\n",
    "plt.savefig(f'images/distributions/{tit}.png')\n",
    "plt.legend()\n",
    "plt.show()"
   ]
  },
  {
   "cell_type": "code",
   "execution_count": 104,
   "metadata": {},
   "outputs": [
    {
     "data": {
      "text/plain": [
       "(6029.126253246695, 3.5377866428729443)"
      ]
     },
     "execution_count": 104,
     "metadata": {},
     "output_type": "execute_result"
    }
   ],
   "source": [
    "np.mean(dom_h_new), np.mean(np.log10(dom_h_new)) "
   ]
  },
  {
   "cell_type": "code",
   "execution_count": 105,
   "metadata": {},
   "outputs": [
    {
     "data": {
      "text/plain": [
       "(4053.4184999999998, 3.607821348922532)"
      ]
     },
     "execution_count": 105,
     "metadata": {},
     "output_type": "execute_result"
    }
   ],
   "source": [
    "np.median(dom_h_new), np.median(np.log10(dom_h_new)) "
   ]
  },
  {
   "cell_type": "code",
   "execution_count": 106,
   "metadata": {},
   "outputs": [
    {
     "data": {
      "text/plain": [
       "MannwhitneyuResult(statistic=1362932.5, pvalue=9.731111180068137e-05)"
      ]
     },
     "execution_count": 106,
     "metadata": {},
     "output_type": "execute_result"
    }
   ],
   "source": [
    "stats.mannwhitneyu(dom_h_old, dom_h_new)"
   ]
  },
  {
   "cell_type": "markdown",
   "metadata": {},
   "source": [
    "Вывод:  \n",
    "Распределение по всем высотам в первой версии смоделированных данных очень похоже на распределение во втором случае.  \n",
    "Распределение по доминирующим высотам в первой версии смоделированных данных не похоже на распределение во втором случае."
   ]
  },
  {
   "cell_type": "code",
   "execution_count": 108,
   "metadata": {},
   "outputs": [],
   "source": [
    "def unique_h(data, name):\n",
    "    nums = list(set(data[name]))\n",
    "    Unique_H = []\n",
    "    not_big = []\n",
    "    \n",
    "    for num in nums:\n",
    "        value = len(data[data[name]==num]['H(J)'].unique())\n",
    "        if value < 50:\n",
    "            not_big.append(num)\n",
    "#         else:\n",
    "#             print(num)\n",
    "            \n",
    "        Unique_H.append(value)\n",
    "        \n",
    "    return Unique_H, not_big"
   ]
  },
  {
   "cell_type": "code",
   "execution_count": 42,
   "metadata": {},
   "outputs": [
    {
     "data": {
      "text/plain": [
       "59"
      ]
     },
     "execution_count": 42,
     "metadata": {},
     "output_type": "execute_result"
    }
   ],
   "source": [
    "# Пример большого семейства с большим числом различных высот.\n",
    "len(AllMc0[AllMc0['num']==645]['H(J)'].unique())"
   ]
  },
  {
   "cell_type": "code",
   "execution_count": 334,
   "metadata": {},
   "outputs": [],
   "source": [
    "# Распределение по числу уникальных высот в семействе\n",
    "uni_h_new, not_big_new = unique_h(AllMc0, 'num')\n",
    "uni_h_old, not_big_old = unique_h(olddata, ' num_of_family')"
   ]
  },
  {
   "cell_type": "code",
   "execution_count": 335,
   "metadata": {},
   "outputs": [
    {
     "data": {
      "image/png": "[encoded data removed]",
      "text/plain": [
       "<Figure size 720x360 with 2 Axes>"
      ]
     },
     "metadata": {},
     "output_type": "display_data"
    }
   ],
   "source": [
    "tit = 'распред_по_уникальным_высотам_в_СЕМЕЙСТВАХ_объединённого_старого_банков'\n",
    "\n",
    "\n",
    "f, (ax1, ax2) = plt.subplots(1, 2, figsize = (10, 5))\n",
    "ax1.hist(uni_h_new, bins = 60, color  = 'blue', label = 'new_mc0')\n",
    "ax1.set_xlim([0, 100])\n",
    "ax1.legend()\n",
    "\n",
    "ax2.hist(uni_h_old, bins = 10, alpha = 0.5, color = 'pink', label = 'old_mc0')\n",
    "ax2.set_xlim([0, 50])\n",
    "ax2.legend()\n",
    "\n",
    "plt.suptitle(tit, size = 14)\n",
    "plt.savefig(f'images/distributions/{tit}.png')\n",
    "plt.show()"
   ]
  },
  {
   "cell_type": "code",
   "execution_count": 336,
   "metadata": {},
   "outputs": [
    {
     "data": {
      "image/png": "[encoded data removed]",
      "text/plain": [
       "<Figure size 432x288 with 1 Axes>"
      ]
     },
     "metadata": {},
     "output_type": "display_data"
    }
   ],
   "source": [
    "tit = 'логарифм_распред_по_уникальной_высоте_в_СЕМЕЙСТВЕ_объединённого_банка'\n",
    "s = 'H(J)'\n",
    "plt.title(tit)\n",
    "plt.hist(np.log10(uni_h_new), bins = 50, density = True, log = True, alpha = 0.7, color = 'blue', label = 'new_mc0')\n",
    "box_str = f'mean: {round(np.mean(np.log10(dom_h_new)), 2)}   median : {round(np.median(np.log10(dom_h_new)), 2)}'\n",
    "plt.xlabel(box_str, size = 13)\n",
    "plt.savefig(f'images/distributions/{tit}.png')\n",
    "plt.legend()\n",
    "plt.show()"
   ]
  },
  {
   "cell_type": "code",
   "execution_count": 111,
   "metadata": {},
   "outputs": [
    {
     "data": {
      "image/png": "[encoded data removed]",
      "text/plain": [
       "<Figure size 720x360 with 2 Axes>"
      ]
     },
     "metadata": {},
     "output_type": "display_data"
    }
   ],
   "source": [
    "# Распределение по числу уникальных высот в семействе\n",
    "uni_h_new, _ = unique_h(AllMc0[AllMc0['num'].isin(not_big_new)], 'num')\n",
    "uni_h_old, _ = unique_h(olddata[olddata[' num_of_family'].isin(not_big_old)], ' num_of_family')\n",
    "\n",
    "f, (ax1, ax2) = plt.subplots(1, 2, figsize = (10, 5))\n",
    "ax1.hist(uni_h_new, bins = 10, color  = 'blue', label = 'new_mc0')\n",
    "ax1.set_xlim([0, 50])\n",
    "ax1.legend()\n",
    "\n",
    "ax2.hist(uni_h_old, bins = 10, alpha = 0.5, color = 'pink', label = 'old_mc0')\n",
    "ax2.set_xlim([0, 50])\n",
    "ax2.legend()\n",
    "plt.show()"
   ]
  },
  {
   "cell_type": "code",
   "execution_count": 112,
   "metadata": {},
   "outputs": [
    {
     "data": {
      "text/plain": [
       "MannwhitneyuResult(statistic=1015667.0, pvalue=7.8019833834775145e-47)"
      ]
     },
     "execution_count": 112,
     "metadata": {},
     "output_type": "execute_result"
    }
   ],
   "source": [
    "stats.mannwhitneyu(uni_h_old, uni_h_new)"
   ]
  },
  {
   "cell_type": "markdown",
   "metadata": {},
   "source": [
    "Вывод:  \n",
    "Распределения сильно отличаются. В новом банке есть семейства с очень большим количеством различных высот, больше 50, в отличие от старого банка. Такие семейства появляются в результате добавления семейств с высокой первичной энергией частицы E0. "
   ]
  },
  {
   "cell_type": "markdown",
   "metadata": {},
   "source": [
    "## Кластеризация \n",
    "Алгоритм, сохранение в csv."
   ]
  },
  {
   "cell_type": "code",
   "execution_count": 145,
   "metadata": {},
   "outputs": [],
   "source": [
    "# Новый модельный банк.\n",
    "AllMc0 = pd.read_csv('datachanged/AllMc0CNewBank', sep = '\\t')\n",
    "# Старый модельный банк.\n",
    "olddata = pd.read_csv('datachanged/AllMc0COld', sep = '\\t')"
   ]
  },
  {
   "cell_type": "code",
   "execution_count": 156,
   "metadata": {},
   "outputs": [],
   "source": [
    "# Экспериментальные данные.\n",
    "AllExp = pd.read_csv('datachanged/AllExpC')\n",
    "AllExp = AllExp.drop(['Unnamed: 0'], axis = 1)"
   ]
  },
  {
   "cell_type": "markdown",
   "metadata": {},
   "source": [
    "### Распределение кластеризованных данных.   \n",
    "#### Сравнивать нужно с экспериментальными данными. "
   ]
  },
  {
   "cell_type": "code",
   "execution_count": 3,
   "metadata": {},
   "outputs": [],
   "source": [
    "clustered_df = pd.read_csv('clusterdata/clusteredDF', sep = '\\t')\n",
    "coef_df = pd.read_csv('clusterdata/coefDF', sep = '\\t')"
   ]
  },
  {
   "cell_type": "code",
   "execution_count": 4,
   "metadata": {},
   "outputs": [],
   "source": [
    "clustered_df_old = pd.read_csv('clusterdata/clusteredDFold', sep = '\\t')\n",
    "coef_df_old = pd.read_csv('clusterdata/coefDFold', sep = '\\t')"
   ]
  },
  {
   "cell_type": "code",
   "execution_count": 5,
   "metadata": {},
   "outputs": [],
   "source": [
    "clustered_df_exp = pd.read_csv('clusterdata/clusteredDFexp', sep = '\\t')"
   ]
  },
  {
   "cell_type": "code",
   "execution_count": 122,
   "metadata": {},
   "outputs": [
    {
     "data": {
      "text/html": [
       "<div>\n",
       "<style scoped>\n",
       "    .dataframe tbody tr th:only-of-type {\n",
       "        vertical-align: middle;\n",
       "    }\n",
       "\n",
       "    .dataframe tbody tr th {\n",
       "        vertical-align: top;\n",
       "    }\n",
       "\n",
       "    .dataframe thead th {\n",
       "        text-align: right;\n",
       "    }\n",
       "</style>\n",
       "<table border=\"1\" class=\"dataframe\">\n",
       "  <thead>\n",
       "    <tr style=\"text-align: right;\">\n",
       "      <th></th>\n",
       "      <th>num_of_fam</th>\n",
       "      <th>P</th>\n",
       "      <th>S</th>\n",
       "      <th>I</th>\n",
       "      <th>E</th>\n",
       "      <th>M</th>\n",
       "      <th>V</th>\n",
       "    </tr>\n",
       "    <tr>\n",
       "      <th>Name</th>\n",
       "      <th></th>\n",
       "      <th></th>\n",
       "      <th></th>\n",
       "      <th></th>\n",
       "      <th></th>\n",
       "      <th></th>\n",
       "      <th></th>\n",
       "    </tr>\n",
       "  </thead>\n",
       "  <tbody>\n",
       "    <tr>\n",
       "      <th>aglclust</th>\n",
       "      <td>1157.825551</td>\n",
       "      <td>0.770089</td>\n",
       "      <td>0.917371</td>\n",
       "      <td>0.498367</td>\n",
       "      <td>0.853009</td>\n",
       "      <td>0.759708</td>\n",
       "      <td>0.045638</td>\n",
       "    </tr>\n",
       "  </tbody>\n",
       "</table>\n",
       "</div>"
      ],
      "text/plain": [
       "           num_of_fam         P         S         I         E         M  \\\n",
       "Name                                                                      \n",
       "aglclust  1157.825551  0.770089  0.917371  0.498367  0.853009  0.759708   \n",
       "\n",
       "                 V  \n",
       "Name                \n",
       "aglclust  0.045638  "
      ]
     },
     "execution_count": 122,
     "metadata": {},
     "output_type": "execute_result"
    }
   ],
   "source": [
    "coef_df[coef_df['Name']=='aglclust'].groupby('Name').mean()"
   ]
  },
  {
   "cell_type": "code",
   "execution_count": 123,
   "metadata": {},
   "outputs": [
    {
     "data": {
      "text/html": [
       "<div>\n",
       "<style scoped>\n",
       "    .dataframe tbody tr th:only-of-type {\n",
       "        vertical-align: middle;\n",
       "    }\n",
       "\n",
       "    .dataframe tbody tr th {\n",
       "        vertical-align: top;\n",
       "    }\n",
       "\n",
       "    .dataframe thead th {\n",
       "        text-align: right;\n",
       "    }\n",
       "</style>\n",
       "<table border=\"1\" class=\"dataframe\">\n",
       "  <thead>\n",
       "    <tr style=\"text-align: right;\">\n",
       "      <th></th>\n",
       "      <th>num_of_fam</th>\n",
       "      <th>P</th>\n",
       "      <th>S</th>\n",
       "      <th>I</th>\n",
       "      <th>E</th>\n",
       "      <th>M</th>\n",
       "      <th>V</th>\n",
       "    </tr>\n",
       "    <tr>\n",
       "      <th>Name</th>\n",
       "      <th></th>\n",
       "      <th></th>\n",
       "      <th></th>\n",
       "      <th></th>\n",
       "      <th></th>\n",
       "      <th></th>\n",
       "      <th></th>\n",
       "    </tr>\n",
       "  </thead>\n",
       "  <tbody>\n",
       "    <tr>\n",
       "      <th>dbscan</th>\n",
       "      <td>1157.825551</td>\n",
       "      <td>0.819774</td>\n",
       "      <td>0.865078</td>\n",
       "      <td>0.476674</td>\n",
       "      <td>0.768412</td>\n",
       "      <td>0.732494</td>\n",
       "      <td>0.04676</td>\n",
       "    </tr>\n",
       "  </tbody>\n",
       "</table>\n",
       "</div>"
      ],
      "text/plain": [
       "         num_of_fam         P         S         I         E         M        V\n",
       "Name                                                                          \n",
       "dbscan  1157.825551  0.819774  0.865078  0.476674  0.768412  0.732494  0.04676"
      ]
     },
     "execution_count": 123,
     "metadata": {},
     "output_type": "execute_result"
    }
   ],
   "source": [
    "coef_df[coef_df['Name']=='dbscan'].groupby('Name').mean()"
   ]
  },
  {
   "cell_type": "markdown",
   "metadata": {},
   "source": [
    "### Распределение по количеству выделенных кластеров в модели и в эксперименте. "
   ]
  },
  {
   "cell_type": "code",
   "execution_count": 142,
   "metadata": {},
   "outputs": [],
   "source": [
    "def unique_clust(data, name, clust):\n",
    "    nums = list(set(data[name]))\n",
    "    Unique_H = []\n",
    "    \n",
    "    for num in nums:\n",
    "        value = len(data[data[name]==num][clust].unique())\n",
    "        Unique_H.append(value)\n",
    "        \n",
    "    return Unique_H"
   ]
  },
  {
   "cell_type": "code",
   "execution_count": 321,
   "metadata": {},
   "outputs": [],
   "source": [
    "# Распределение по количеству выделенных кластеров\n",
    "\n",
    "uniq_h_new = unique_clust(clustered_df, 'num', 'cluster_agl')\n",
    "uniq_h_old = unique_clust(clustered_df_old, ' num_of_family', 'cluster_agl')\n",
    "uniq_h_exp = unique_clust(clustered_df_exp, ' num_of_fam', 'cluster_agl')"
   ]
  },
  {
   "cell_type": "code",
   "execution_count": 322,
   "metadata": {},
   "outputs": [
    {
     "data": {
      "image/png": "[encoded data removed]",
      "text/plain": [
       "<Figure size 1080x360 with 3 Axes>"
      ]
     },
     "metadata": {},
     "output_type": "display_data"
    }
   ],
   "source": [
    "f, (ax1, ax2, ax3) = plt.subplots(1, 3, figsize = (15, 5))\n",
    "\n",
    "tit = 'Распределения_по_числу_выделенных_кластеров_aglclust'\n",
    "plt.suptitle(tit, size = 16)\n",
    "\n",
    "ax1.hist(uniq_h_old, bins = 20, color = 'pink', label = 'old_mc0')\n",
    "ax1.set_xlim([0, 50])\n",
    "ax1.legend()\n",
    "\n",
    "ax2.hist(uniq_h_new, bins = 50, color  = 'blue', label = 'new_mc0')\n",
    "ax2.set_xlim([0, 50])\n",
    "ax2.legend()\n",
    "\n",
    "ax3.hist(uniq_h_exp, bins = 20, color = 'green', label = 'experiment')\n",
    "ax3.set_xlim([0, 50])\n",
    "ax3.legend()\n",
    "\n",
    "plt.savefig(f'images/distributions/{tit}.png')\n",
    "plt.show()"
   ]
  },
  {
   "cell_type": "code",
   "execution_count": 323,
   "metadata": {},
   "outputs": [
    {
     "data": {
      "image/png": "[encoded data removed]",
      "text/plain": [
       "<Figure size 432x288 with 1 Axes>"
      ]
     },
     "metadata": {},
     "output_type": "display_data"
    }
   ],
   "source": [
    "# Распределение по высотам\n",
    "tit = 'Распределение_по_числу_выделенных_кластеров_модель_эксперимент_aglclust'\n",
    "plt.title(tit)\n",
    "plt.hist(uniq_h_new, bins = 50, density = True, alpha = 0.5, color  = 'blue', label = 'new_mc0')\n",
    "plt.hist(uniq_h_exp, bins = 50, density = True, alpha = 0.9, color = 'green', label = 'experiment')\n",
    "plt.savefig(f'images/distributions/{tit}.png')\n",
    "plt.xlim([0,30])\n",
    "plt.legend()\n",
    "plt.show()"
   ]
  },
  {
   "cell_type": "code",
   "execution_count": 280,
   "metadata": {},
   "outputs": [],
   "source": [
    "# Распределение по количеству выделенных кластеров\n",
    "\n",
    "uniq_h_new = unique_clust(clustered_df, 'num', 'cluster_db')\n",
    "uniq_h_old = unique_clust(clustered_df_old, ' num_of_family', 'cluster_db')\n",
    "uniq_h_exp = unique_clust(clustered_df_exp, ' num_of_fam', 'cluster_db')"
   ]
  },
  {
   "cell_type": "code",
   "execution_count": 324,
   "metadata": {},
   "outputs": [
    {
     "data": {
      "image/png": "[encoded data removed]",
      "text/plain": [
       "<Figure size 1080x360 with 3 Axes>"
      ]
     },
     "metadata": {},
     "output_type": "display_data"
    }
   ],
   "source": [
    "f, (ax1, ax2, ax3) = plt.subplots(1, 3, figsize = (15, 5))\n",
    "\n",
    "tit = 'Распределения_по_числу_выделенных_кластеров_dbscan'\n",
    "plt.suptitle(tit)\n",
    "\n",
    "ax1.hist(uniq_h_old, bins = 20, color = 'pink', label = 'old_mc0')\n",
    "ax1.set_xlim([0, 50])\n",
    "ax1.legend()\n",
    "\n",
    "ax2.hist(uniq_h_new, bins = 50, color  = 'blue', label = 'new_mc0')\n",
    "ax2.set_xlim([0, 50])\n",
    "ax2.legend()\n",
    "\n",
    "ax3.hist(uniq_h_exp, bins = 20, color = 'green', label = 'experiment')\n",
    "ax3.set_xlim([0, 50])\n",
    "ax3.legend()\n",
    "\n",
    "plt.savefig(f'images/distributions/{tit}.png')\n",
    "plt.show()"
   ]
  },
  {
   "cell_type": "code",
   "execution_count": 325,
   "metadata": {},
   "outputs": [
    {
     "data": {
      "image/png": "[encoded data removed]",
      "text/plain": [
       "<Figure size 432x288 with 1 Axes>"
      ]
     },
     "metadata": {},
     "output_type": "display_data"
    }
   ],
   "source": [
    "# Распределение по высотам\n",
    "tit = 'Распределение_по_числу_выделенных_кластеров_модель_эксперимент_dbscan'\n",
    "plt.title(tit)\n",
    "plt.hist(uniq_h_new, bins = 50, density = True, alpha = 0.5, color  = 'blue', label = 'new_mc0')\n",
    "plt.hist(uniq_h_exp, bins = 50, density = True, alpha = 0.9, color = 'green', label = 'experiment')\n",
    "plt.savefig(f'images/distributions/{tit}.png')\n",
    "plt.xlim([0,30])\n",
    "plt.legend()\n",
    "plt.show()"
   ]
  },
  {
   "cell_type": "markdown",
   "metadata": {},
   "source": [
    "### Доминирующие высоты в старом банке и в новом банке.\n",
    "  \n",
    "Мы не знаем, какое распределение доминирующих высот в экспериментальных данных, потому что мы не знаем высоты в экспериментальных данных.   "
   ]
  },
  {
   "cell_type": "code",
   "execution_count": 4,
   "metadata": {},
   "outputs": [],
   "source": [
    "clustered_df = pd.read_csv('clusterdata/clusteredDF', sep = '\\t')\n",
    "coef_df = pd.read_csv('clusterdata/coefDF', sep = '\\t')"
   ]
  },
  {
   "cell_type": "code",
   "execution_count": 6,
   "metadata": {},
   "outputs": [],
   "source": [
    "def return_dom_h(data, name, clust):\n",
    "    nums = list(set(data[name]))\n",
    "    Dom_H = []\n",
    "\n",
    "    for num in nums:\n",
    "        \n",
    "#         if num%1000==0:\n",
    "#             print(num)\n",
    "\n",
    "        one = data[data[name]==num].copy()\n",
    "        \n",
    "        clusters = one[clust].unique()\n",
    "        dom_h_one = []\n",
    "        \n",
    "        for c in clusters:\n",
    "            value = one[one[clust]==c]['H(J)'].value_counts().head(1)\n",
    "            dom_h_one.append(value.index[0])\n",
    "        \n",
    "        Dom_H = Dom_H + dom_h_one\n",
    "            \n",
    "    return Dom_H"
   ]
  },
  {
   "cell_type": "code",
   "execution_count": 7,
   "metadata": {},
   "outputs": [],
   "source": [
    "dom_h_new = return_dom_h(clustered_df, 'num', 'cluster_agl')\n",
    "dom_h_old = return_dom_h(clustered_df_old, ' num_of_family', 'cluster_agl')"
   ]
  },
  {
   "cell_type": "code",
   "execution_count": 329,
   "metadata": {},
   "outputs": [
    {
     "data": {
      "image/png": "[encoded data removed]",
      "text/plain": [
       "<Figure size 720x360 with 2 Axes>"
      ]
     },
     "metadata": {},
     "output_type": "display_data"
    }
   ],
   "source": [
    "tit = 'Распределение_по_доминирующим_высотам_в_старой_новой_моделях_aglclust'\n",
    "\n",
    "f, (ax1, ax2) = plt.subplots(1, 2, figsize = (10, 5))\n",
    "ax1.hist(dom_h_new, bins = 100, color  = 'blue', label = 'new_mc0')\n",
    "#ax1.set_xlim([0, ])\n",
    "ax1.legend()\n",
    "\n",
    "ax2.hist(dom_h_old, bins = 100, color = 'pink', label = 'old_mc0')\n",
    "#ax2.set_xlim([0, ])\n",
    "ax2.legend()\n",
    "\n",
    "plt.suptitle(tit, size = 14)\n",
    "plt.savefig(f'images/distributions/{tit}.png', dpi=100)\n",
    "plt.show()"
   ]
  },
  {
   "cell_type": "code",
   "execution_count": null,
   "metadata": {},
   "outputs": [],
   "source": []
  },
  {
   "cell_type": "code",
   "execution_count": null,
   "metadata": {},
   "outputs": [],
   "source": [
    "# Что-то надо с этим сделать. \n",
    "# Может какая-то предобученныя моделька, которая предсказывает высоту.\n",
    "# dom_h_exp = return_dom_h(clustered_df_exp, ' num_of_fam', 'cluster_agl')"
   ]
  },
  {
   "cell_type": "markdown",
   "metadata": {},
   "source": [
    "### Корреляционный плот - число доминирующих высот - число кластеров"
   ]
  },
  {
   "cell_type": "code",
   "execution_count": 40,
   "metadata": {},
   "outputs": [],
   "source": [
    "clustered_df = pd.read_csv('clusterdata/clusteredDF', sep = '\\t')\n",
    "coef_df = pd.read_csv('clusterdata/coefDF', sep = '\\t')"
   ]
  },
  {
   "cell_type": "code",
   "execution_count": 22,
   "metadata": {},
   "outputs": [],
   "source": [
    "clustered_df = pd.read_csv('clusterdata/clusteredDFold', sep = '\\t')\n",
    "coef_df = pd.read_csv('clusterdata/coefDFold', sep = '\\t')"
   ]
  },
  {
   "cell_type": "code",
   "execution_count": 24,
   "metadata": {},
   "outputs": [
    {
     "data": {
      "text/html": [
       "<div>\n",
       "<style scoped>\n",
       "    .dataframe tbody tr th:only-of-type {\n",
       "        vertical-align: middle;\n",
       "    }\n",
       "\n",
       "    .dataframe tbody tr th {\n",
       "        vertical-align: top;\n",
       "    }\n",
       "\n",
       "    .dataframe thead th {\n",
       "        text-align: right;\n",
       "    }\n",
       "</style>\n",
       "<table border=\"1\" class=\"dataframe\">\n",
       "  <thead>\n",
       "    <tr style=\"text-align: right;\">\n",
       "      <th></th>\n",
       "      <th>num_of_family</th>\n",
       "      <th>j</th>\n",
       "      <th>X(J)</th>\n",
       "      <th>Y(J)</th>\n",
       "      <th>E(J)</th>\n",
       "      <th>H(J)</th>\n",
       "      <th>E0</th>\n",
       "      <th>A0</th>\n",
       "      <th>log_E0</th>\n",
       "      <th>R</th>\n",
       "      <th>ER</th>\n",
       "      <th>sum_energy</th>\n",
       "      <th>labels</th>\n",
       "      <th>cluster_agl</th>\n",
       "      <th>cluster_db</th>\n",
       "    </tr>\n",
       "  </thead>\n",
       "  <tbody>\n",
       "    <tr>\n",
       "      <th>0</th>\n",
       "      <td>1</td>\n",
       "      <td>1</td>\n",
       "      <td>-3.013189</td>\n",
       "      <td>-7.227429</td>\n",
       "      <td>4.611031</td>\n",
       "      <td>1255.250</td>\n",
       "      <td>3366.712</td>\n",
       "      <td>1</td>\n",
       "      <td>3.527206</td>\n",
       "      <td>7.830392</td>\n",
       "      <td>36.106180</td>\n",
       "      <td>370.199507</td>\n",
       "      <td>2</td>\n",
       "      <td>3</td>\n",
       "      <td>0</td>\n",
       "    </tr>\n",
       "    <tr>\n",
       "      <th>1</th>\n",
       "      <td>1</td>\n",
       "      <td>2</td>\n",
       "      <td>-1.310529</td>\n",
       "      <td>-2.563248</td>\n",
       "      <td>12.047700</td>\n",
       "      <td>1545.054</td>\n",
       "      <td>3366.712</td>\n",
       "      <td>1</td>\n",
       "      <td>3.527206</td>\n",
       "      <td>2.878841</td>\n",
       "      <td>34.683415</td>\n",
       "      <td>370.199507</td>\n",
       "      <td>3</td>\n",
       "      <td>0</td>\n",
       "      <td>0</td>\n",
       "    </tr>\n",
       "    <tr>\n",
       "      <th>2</th>\n",
       "      <td>1</td>\n",
       "      <td>3</td>\n",
       "      <td>-2.178048</td>\n",
       "      <td>-2.144561</td>\n",
       "      <td>5.401844</td>\n",
       "      <td>3044.520</td>\n",
       "      <td>3366.712</td>\n",
       "      <td>1</td>\n",
       "      <td>3.527206</td>\n",
       "      <td>3.056638</td>\n",
       "      <td>16.511481</td>\n",
       "      <td>370.199507</td>\n",
       "      <td>4</td>\n",
       "      <td>0</td>\n",
       "      <td>0</td>\n",
       "    </tr>\n",
       "    <tr>\n",
       "      <th>3</th>\n",
       "      <td>1</td>\n",
       "      <td>4</td>\n",
       "      <td>-0.965465</td>\n",
       "      <td>-0.082880</td>\n",
       "      <td>5.325506</td>\n",
       "      <td>4715.523</td>\n",
       "      <td>3366.712</td>\n",
       "      <td>1</td>\n",
       "      <td>3.527206</td>\n",
       "      <td>0.969016</td>\n",
       "      <td>5.160501</td>\n",
       "      <td>370.199507</td>\n",
       "      <td>6</td>\n",
       "      <td>0</td>\n",
       "      <td>0</td>\n",
       "    </tr>\n",
       "    <tr>\n",
       "      <th>4</th>\n",
       "      <td>1</td>\n",
       "      <td>5</td>\n",
       "      <td>-1.621645</td>\n",
       "      <td>0.079540</td>\n",
       "      <td>15.935060</td>\n",
       "      <td>3044.520</td>\n",
       "      <td>3366.712</td>\n",
       "      <td>1</td>\n",
       "      <td>3.527206</td>\n",
       "      <td>1.623595</td>\n",
       "      <td>25.872076</td>\n",
       "      <td>370.199507</td>\n",
       "      <td>4</td>\n",
       "      <td>0</td>\n",
       "      <td>0</td>\n",
       "    </tr>\n",
       "  </tbody>\n",
       "</table>\n",
       "</div>"
      ],
      "text/plain": [
       "    num_of_family   j      X(J)      Y(J)       E(J)      H(J)        E0   A0  \\\n",
       "0               1   1 -3.013189 -7.227429   4.611031  1255.250  3366.712    1   \n",
       "1               1   2 -1.310529 -2.563248  12.047700  1545.054  3366.712    1   \n",
       "2               1   3 -2.178048 -2.144561   5.401844  3044.520  3366.712    1   \n",
       "3               1   4 -0.965465 -0.082880   5.325506  4715.523  3366.712    1   \n",
       "4               1   5 -1.621645  0.079540  15.935060  3044.520  3366.712    1   \n",
       "\n",
       "     log_E0         R         ER  sum_energy  labels  cluster_agl  cluster_db  \n",
       "0  3.527206  7.830392  36.106180  370.199507       2            3           0  \n",
       "1  3.527206  2.878841  34.683415  370.199507       3            0           0  \n",
       "2  3.527206  3.056638  16.511481  370.199507       4            0           0  \n",
       "3  3.527206  0.969016   5.160501  370.199507       6            0           0  \n",
       "4  3.527206  1.623595  25.872076  370.199507       4            0           0  "
      ]
     },
     "execution_count": 24,
     "metadata": {},
     "output_type": "execute_result"
    }
   ],
   "source": [
    "clustered_df.head()"
   ]
  },
  {
   "cell_type": "code",
   "execution_count": 16,
   "metadata": {},
   "outputs": [],
   "source": [
    "def return_number_dom_h_cluster(data, name, clust):\n",
    "    \n",
    "    nums = list(set(data[name]))\n",
    "\n",
    "    number_dom_h = []\n",
    "    number_clusters = []\n",
    "    \n",
    "    for num in nums:\n",
    "\n",
    "        # Выделяем одно семейство\n",
    "        one = data[data[name]==num].copy()\n",
    "        \n",
    "        #смотрим кластеры\n",
    "        clusters = one[clust].unique()\n",
    "        number_clusters.append(len(clusters))        \n",
    "        \n",
    "        dom_h_one = []\n",
    "        \n",
    "        # идем по кластерам\n",
    "        for c in clusters:\n",
    "            value = one[one[clust]==c]['H(J)'].value_counts().head(1) # находим доминирующую высоту\n",
    "            \n",
    "            dom_h_one.append(value.index[0]) # добавляем ее в перечень высот\n",
    "        \n",
    "        number_dom_h_one = len(list(set(dom_h_one))) \n",
    "        number_dom_h.append(number_dom_h_one)\n",
    "            \n",
    "    return pd.DataFrame({'num': nums,'number_dom_h':number_dom_h, 'number_clusters': number_clusters})"
   ]
  },
  {
   "cell_type": "code",
   "execution_count": 25,
   "metadata": {},
   "outputs": [],
   "source": [
    "plotdf = return_number_dom_h_cluster(clustered_df, 'num', 'cluster_agl')"
   ]
  },
  {
   "cell_type": "code",
   "execution_count": 7,
   "metadata": {},
   "outputs": [
    {
     "data": {
      "text/html": [
       "<div>\n",
       "<style scoped>\n",
       "    .dataframe tbody tr th:only-of-type {\n",
       "        vertical-align: middle;\n",
       "    }\n",
       "\n",
       "    .dataframe tbody tr th {\n",
       "        vertical-align: top;\n",
       "    }\n",
       "\n",
       "    .dataframe thead th {\n",
       "        text-align: right;\n",
       "    }\n",
       "</style>\n",
       "<table border=\"1\" class=\"dataframe\">\n",
       "  <thead>\n",
       "    <tr style=\"text-align: right;\">\n",
       "      <th></th>\n",
       "      <th>num</th>\n",
       "      <th>number_dom_h</th>\n",
       "      <th>number_clusters</th>\n",
       "    </tr>\n",
       "  </thead>\n",
       "  <tbody>\n",
       "    <tr>\n",
       "      <th>0</th>\n",
       "      <td>1</td>\n",
       "      <td>4</td>\n",
       "      <td>4</td>\n",
       "    </tr>\n",
       "    <tr>\n",
       "      <th>1</th>\n",
       "      <td>2</td>\n",
       "      <td>3</td>\n",
       "      <td>3</td>\n",
       "    </tr>\n",
       "    <tr>\n",
       "      <th>2</th>\n",
       "      <td>3</td>\n",
       "      <td>4</td>\n",
       "      <td>4</td>\n",
       "    </tr>\n",
       "    <tr>\n",
       "      <th>3</th>\n",
       "      <td>4</td>\n",
       "      <td>2</td>\n",
       "      <td>2</td>\n",
       "    </tr>\n",
       "    <tr>\n",
       "      <th>4</th>\n",
       "      <td>5</td>\n",
       "      <td>3</td>\n",
       "      <td>3</td>\n",
       "    </tr>\n",
       "  </tbody>\n",
       "</table>\n",
       "</div>"
      ],
      "text/plain": [
       "   num  number_dom_h  number_clusters\n",
       "0    1             4                4\n",
       "1    2             3                3\n",
       "2    3             4                4\n",
       "3    4             2                2\n",
       "4    5             3                3"
      ]
     },
     "execution_count": 7,
     "metadata": {},
     "output_type": "execute_result"
    }
   ],
   "source": [
    "plotdf.head()"
   ]
  },
  {
   "cell_type": "markdown",
   "metadata": {},
   "source": [
    "Одно семейства:  \n",
    "    Три кластера. У них максимум три самых частых высоты.  \n",
    "    Если у нас две доминирующих высоты, то в двух кластерах у нас определяется одна высота.  "
   ]
  },
  {
   "cell_type": "code",
   "execution_count": 10,
   "metadata": {},
   "outputs": [
    {
     "data": {
      "text/plain": [
       "<seaborn.axisgrid.JointGrid at 0x2066ae66088>"
      ]
     },
     "execution_count": 10,
     "metadata": {},
     "output_type": "execute_result"
    },
    {
     "data": {
      "image/png": "[encoded data removed]",
      "text/plain": [
       "<Figure size 432x432 with 3 Axes>"
      ]
     },
     "metadata": {},
     "output_type": "display_data"
    }
   ],
   "source": [
    "sns.jointplot(x = plotdf['number_clusters'], y = plotdf['number_dom_h'],  kind='scatter')"
   ]
  },
  {
   "cell_type": "code",
   "execution_count": null,
   "metadata": {},
   "outputs": [],
   "source": [
    "# Фиксированное число кластера: (1, 2) - число доминирующих высот по кластерам."
   ]
  },
  {
   "cell_type": "code",
   "execution_count": 39,
   "metadata": {},
   "outputs": [],
   "source": [
    "# Возращает распределение семейство - число \n",
    "\n",
    "def return_number_h_cluster(data, name, clust):\n",
    "    \n",
    "    nums = list(set(data[name]))\n",
    "\n",
    "    number_dom_h = []\n",
    "    number_clusters = []\n",
    "    \n",
    "    for num in nums:\n",
    "\n",
    "        # Выделяем одно семейство\n",
    "        one = data[data[name]==num].copy()\n",
    "        \n",
    "        clusters = []\n",
    "        dom_h_one = []\n",
    "                    \n",
    "        # число кластеров  \n",
    "        number_clusters.append(len(one[clust].unique()))\n",
    "        \n",
    "        # число высот в семействе         \n",
    "        number_h_one = len(one['H(J)'].unique())\n",
    "        number_dom_h.append(number_h_one)\n",
    "            \n",
    "    return pd.DataFrame({'num': nums,'number_h':number_dom_h, 'number_clusters': number_clusters})"
   ]
  },
  {
   "cell_type": "code",
   "execution_count": 41,
   "metadata": {},
   "outputs": [
    {
     "name": "stdout",
     "output_type": "stream",
     "text": [
      "Wall time: 3.24 s\n"
     ]
    },
    {
     "data": {
      "text/plain": [
       "<seaborn.axisgrid.JointGrid at 0x21174b2b508>"
      ]
     },
     "execution_count": 41,
     "metadata": {},
     "output_type": "execute_result"
    },
    {
     "data": {
      "image/png": "[encoded data removed]",
      "text/plain": [
       "<Figure size 432x432 with 3 Axes>"
      ]
     },
     "metadata": {},
     "output_type": "display_data"
    }
   ],
   "source": [
    "%%time\n",
    "# Новый модельный банк\n",
    "plotdf = return_number_h_cluster(clustered_df, 'num', 'cluster_agl')\n",
    "\n",
    "newdf = plotdf[plotdf['number_clusters']<50].copy()\n",
    "newdf = newdf[newdf['number_h']<50].copy()\n",
    "newdf = newdf.groupby('number_clusters').mean().reset_index()\n",
    "\n",
    "sns.jointplot(x = newdf['number_clusters'], y = newdf['number_h'],  kind='scatter')"
   ]
  },
  {
   "cell_type": "code",
   "execution_count": 38,
   "metadata": {},
   "outputs": [
    {
     "name": "stdout",
     "output_type": "stream",
     "text": [
      "Wall time: 1.44 s\n"
     ]
    },
    {
     "data": {
      "text/plain": [
       "<seaborn.axisgrid.JointGrid at 0x211748a0fc8>"
      ]
     },
     "execution_count": 38,
     "metadata": {},
     "output_type": "execute_result"
    },
    {
     "data": {
      "image/png": "[encoded data removed]",
      "text/plain": [
       "<Figure size 432x432 with 3 Axes>"
      ]
     },
     "metadata": {},
     "output_type": "display_data"
    }
   ],
   "source": [
    "%%time\n",
    "plotdf = return_number_h_cluster(clustered_df, ' num_of_family', 'cluster_agl')\n",
    "\n",
    "#newdf = plotdf[plotdf['number_clusters']<50].copy()\n",
    "newdf = newdf.groupby('number_clusters').mean().reset_index()\n",
    "\n",
    "sns.jointplot(x = newdf['number_clusters'], y = newdf['number_h'],  kind='scatter')"
   ]
  },
  {
   "cell_type": "code",
   "execution_count": 42,
   "metadata": {},
   "outputs": [
    {
     "name": "stdout",
     "output_type": "stream",
     "text": [
      "Wall time: 2.82 s\n"
     ]
    },
    {
     "data": {
      "text/plain": [
       "<seaborn.axisgrid.JointGrid at 0x21174b35508>"
      ]
     },
     "execution_count": 42,
     "metadata": {},
     "output_type": "execute_result"
    },
    {
     "data": {
      "image/png": "[encoded data removed]",
      "text/plain": [
       "<Figure size 432x432 with 3 Axes>"
      ]
     },
     "metadata": {},
     "output_type": "display_data"
    }
   ],
   "source": [
    "%%time\n",
    "plotdf = return_number_h_cluster(clustered_df, 'num', 'cluster_db')\n",
    "\n",
    "newdf = plotdf[plotdf['number_clusters']<50].copy()\n",
    "newdf = newdf[newdf['number_h']<50].copy()\n",
    "newdf = newdf.groupby('number_clusters').mean().reset_index()\n",
    "\n",
    "sns.jointplot(x = newdf['number_clusters'], y = newdf['number_h'],  kind='scatter')"
   ]
  },
  {
   "cell_type": "code",
   "execution_count": 33,
   "metadata": {},
   "outputs": [
    {
     "name": "stdout",
     "output_type": "stream",
     "text": [
      "Wall time: 6.56 s\n"
     ]
    },
    {
     "data": {
      "text/plain": [
       "<seaborn.axisgrid.JointGrid at 0x21173baf8c8>"
      ]
     },
     "execution_count": 33,
     "metadata": {},
     "output_type": "execute_result"
    },
    {
     "data": {
      "image/png": "[encoded data removed]",
      "text/plain": [
       "<Figure size 432x432 with 3 Axes>"
      ]
     },
     "metadata": {},
     "output_type": "display_data"
    }
   ],
   "source": [
    "%%time\n",
    "plotdf = return_number_h_cluster(clustered_df, ' num_of_family', 'cluster_db')\n",
    "\n",
    "#newdf = plotdf[plotdf['number_clusters']<50].copy()\n",
    "newdf = newdf.groupby('number_clusters').mean().reset_index()\n",
    "\n",
    "sns.jointplot(x = newdf['number_clusters'], y = newdf['number_h'],  kind='scatter')"
   ]
  },
  {
   "cell_type": "code",
   "execution_count": 43,
   "metadata": {},
   "outputs": [
    {
     "name": "stdout",
     "output_type": "stream",
     "text": [
      "Wall time: 2.67 s\n"
     ]
    },
    {
     "data": {
      "text/plain": [
       "<seaborn.axisgrid.JointGrid at 0x21174d96f08>"
      ]
     },
     "execution_count": 43,
     "metadata": {},
     "output_type": "execute_result"
    },
    {
     "data": {
      "image/png": "[encoded data removed]",
      "text/plain": [
       "<Figure size 432x432 with 3 Axes>"
      ]
     },
     "metadata": {},
     "output_type": "display_data"
    }
   ],
   "source": [
    "%%time\n",
    "plotdf = return_number_h_cluster(clustered_df, 'num', 'cluster_op')\n",
    "\n",
    "newdf = plotdf[plotdf['number_clusters']<50].copy()\n",
    "newdf = newdf[newdf['number_clusters']<50].copy()\n",
    "newdf = newdf.groupby('number_clusters').mean().reset_index()\n",
    "\n",
    "sns.jointplot(x = newdf['number_clusters'], y = newdf['number_h'],  kind='scatter')"
   ]
  },
  {
   "cell_type": "code",
   "execution_count": 62,
   "metadata": {},
   "outputs": [
    {
     "data": {
      "text/plain": [
       "<AxesSubplot:>"
      ]
     },
     "execution_count": 62,
     "metadata": {},
     "output_type": "execute_result"
    },
    {
     "data": {
      "image/png": "[encoded data removed]",
      "text/plain": [
       "<Figure size 432x288 with 1 Axes>"
      ]
     },
     "metadata": {},
     "output_type": "display_data"
    }
   ],
   "source": [
    "newdf['number_clusters'].hist(bins = 50)"
   ]
  },
  {
   "cell_type": "code",
   "execution_count": 63,
   "metadata": {},
   "outputs": [
    {
     "data": {
      "text/plain": [
       "<AxesSubplot:>"
      ]
     },
     "execution_count": 63,
     "metadata": {},
     "output_type": "execute_result"
    },
    {
     "data": {
      "image/png": "[encoded data removed]",
      "text/plain": [
       "<Figure size 432x288 with 1 Axes>"
      ]
     },
     "metadata": {},
     "output_type": "display_data"
    }
   ],
   "source": [
    "newdf['number_h'].hist(bins = 50)"
   ]
  },
  {
   "cell_type": "code",
   "execution_count": null,
   "metadata": {},
   "outputs": [],
   "source": [
    "# Регрессия число кластеров - число высот. Кобзарь 653 - робастная. "
   ]
  },
  {
   "cell_type": "markdown",
   "metadata": {},
   "source": [
    "### Распределение по расстояниям от энергетического центра кластера"
   ]
  },
  {
   "cell_type": "code",
   "execution_count": 291,
   "metadata": {},
   "outputs": [],
   "source": [
    "# Функция возвращает датафрейм со значением rc для частицы\n",
    "# rc - расстояние между энергетически взвешенным центром выделенного алгоритмом кластера до частицы в кластере.\n",
    "\n",
    "def return_rcall_df(clustered_df, name, alg):\n",
    "    \n",
    "    nums = clustered_df[name].unique()\n",
    "    rcall_df = []\n",
    "    \n",
    "    for num in nums:\n",
    "        if num%1000==0:\n",
    "            print(num)\n",
    "\n",
    "        df = clustered_df[clustered_df[name]==num].copy()\n",
    "        clusters = df[f'cluster_{alg}'].unique()\n",
    "\n",
    "        rc_df = []\n",
    "\n",
    "        for c in clusters:\n",
    "            one = df[df[f'cluster_{alg}']==c].copy()\n",
    "\n",
    "            # энергетически взвешенный центр\n",
    "            center_x = (one['X(J)']*one['E(J)']).sum()/one['E(J)'].sum()\n",
    "            center_y = (one['Y(J)']*one['E(J)']).sum()/one['E(J)'].sum()\n",
    "\n",
    "            one[f'rc_{alg}'] = ((center_x-one['X(J)'])**2 + (center_y - one['Y(J)'])**2)**0.5\n",
    "\n",
    "            rc_df.append(one)\n",
    "\n",
    "        rc_df = pd.concat(rc_df)\n",
    "        rcall_df.append(rc_df)\n",
    "    \n",
    "    rcall_df = pd.concat(rcall_df)\n",
    "    \n",
    "    return rcall_df"
   ]
  },
  {
   "cell_type": "code",
   "execution_count": 292,
   "metadata": {},
   "outputs": [
    {
     "name": "stdout",
     "output_type": "stream",
     "text": [
      "1000\n",
      "2000\n",
      "Wall time: 1min 7s\n"
     ]
    }
   ],
   "source": [
    "%%time\n",
    "rcall_df_new = return_rcall_df(clustered_df, 'num', 'agl')"
   ]
  },
  {
   "cell_type": "code",
   "execution_count": 293,
   "metadata": {},
   "outputs": [
    {
     "name": "stdout",
     "output_type": "stream",
     "text": [
      "1000\n",
      "2000\n",
      "Wall time: 1min 17s\n"
     ]
    }
   ],
   "source": [
    "%%time\n",
    "rcall_df_new = return_rcall_df(rcall_df_new, 'num', 'db')"
   ]
  },
  {
   "cell_type": "code",
   "execution_count": 294,
   "metadata": {},
   "outputs": [],
   "source": [
    "%%time\n",
    "rcall_df_exp = return_rcall_df(clustered_df_exp, ' num_of_fam', 'agl')"
   ]
  },
  {
   "cell_type": "code",
   "execution_count": 295,
   "metadata": {},
   "outputs": [],
   "source": [
    "%%time\n",
    "rcall_df_exp = return_rcall_df(rcall_df_exp, ' num_of_fam', 'db')"
   ]
  },
  {
   "cell_type": "code",
   "execution_count": 296,
   "metadata": {},
   "outputs": [],
   "source": [
    "# Сохранение обработанных файлов в папку datachanged\n",
    "#rcall_df.to_csv('clusterdata/clusteredDF', sep = '\\t', index = False)"
   ]
  },
  {
   "cell_type": "code",
   "execution_count": 297,
   "metadata": {},
   "outputs": [],
   "source": [
    "# Сохранение обработанных файлов в папку datachanged\n",
    "#rcall_df_exp.to_csv('clusterdata/clusteredDFexp', sep = '\\t', index = False)"
   ]
  },
  {
   "cell_type": "code",
   "execution_count": 195,
   "metadata": {},
   "outputs": [],
   "source": [
    "rcall_df = pd.read_csv('clusterdata/clusteredDF', sep = '\\t')\n",
    "rcall_df_exp = pd.read_csv('clusterdata/clusteredDFexp', sep = '\\t')"
   ]
  },
  {
   "cell_type": "code",
   "execution_count": 300,
   "metadata": {},
   "outputs": [
    {
     "data": {
      "image/png": "[encoded data removed]",
      "text/plain": [
       "<Figure size 432x288 with 1 Axes>"
      ]
     },
     "metadata": {},
     "output_type": "display_data"
    }
   ],
   "source": [
    "# Распределение по высотам\n",
    "tit = 'Распределение_по_rc_модель_эксперимент_aglclust'\n",
    "plt.title(tit)\n",
    "plt.hist(rcall_df['rc'], bins = 50, density = True, alpha = 0.5, color  = 'blue', label = 'new_mc0')\n",
    "plt.hist(rcall_df_exp['rc_agl'], bins = 50, density = True, alpha = 0.5, color = 'green', label = 'experiment')\n",
    "\n",
    "plt.savefig(f'images/distributions/{tit}.png')\n",
    "plt.xlim([0,6])\n",
    "plt.legend()\n",
    "plt.show()"
   ]
  },
  {
   "cell_type": "code",
   "execution_count": 330,
   "metadata": {},
   "outputs": [
    {
     "data": {
      "image/png": "[encoded data removed]",
      "text/plain": [
       "<Figure size 432x288 with 1 Axes>"
      ]
     },
     "metadata": {},
     "output_type": "display_data"
    }
   ],
   "source": [
    "# Распределение по высотам\n",
    "tit = 'Логарифм_Распределение_по_rc_модель_эксперимент_aglclust'\n",
    "plt.title(tit)\n",
    "\n",
    "mc0_rc = np.abs(rcall_df['rc'])\n",
    "exp_rc = np.abs(rcall_df_exp['rc_agl'])\n",
    "\n",
    "mc0_rc = np.log10(np.where(mc0_rc!=0.0, mc0_rc, 1))\n",
    "exp_rc = np.log10(np.where(exp_rc!=0.0, exp_rc, 1))\n",
    "\n",
    "plt.hist(mc0_rc, bins = 50, density = True, log =True, alpha = 0.5, color  = 'blue', label = 'new_mc0')\n",
    "plt.hist(exp_rc, bins = 50, density = True, log = True, alpha = 0.5, color = 'green', label = 'experiment')\n",
    "\n",
    "plt.savefig(f'images/distributions/{tit}.png')\n",
    "#plt.xlim([0,1.5])\n",
    "plt.legend()\n",
    "plt.show()"
   ]
  },
  {
   "cell_type": "markdown",
   "metadata": {},
   "source": [
    "### Распределение по расстоянию от центра события"
   ]
  },
  {
   "cell_type": "code",
   "execution_count": 302,
   "metadata": {},
   "outputs": [
    {
     "data": {
      "image/png": "[encoded data removed]",
      "text/plain": [
       "<Figure size 432x288 with 1 Axes>"
      ]
     },
     "metadata": {},
     "output_type": "display_data"
    }
   ],
   "source": [
    "# Распределение по высотам\n",
    "tit = 'Распределение_по_R_модель_эксперимент_aglclust'\n",
    "plt.title(tit)\n",
    "plt.hist(rcall_df['R'], bins = 50, density = True, alpha = 0.5, color  = 'blue', label = 'new_mc0')\n",
    "plt.hist(rcall_df_exp['R'], bins = 50, density = True, alpha = 0.5, color = 'green', label = 'experiment')\n",
    "\n",
    "plt.savefig(f'images/distributions/{tit}.png')\n",
    "#plt.xlim([0,6])\n",
    "plt.legend()\n",
    "plt.show()"
   ]
  },
  {
   "cell_type": "code",
   "execution_count": 331,
   "metadata": {},
   "outputs": [
    {
     "data": {
      "image/png": "[encoded data removed]",
      "text/plain": [
       "<Figure size 432x288 with 1 Axes>"
      ]
     },
     "metadata": {},
     "output_type": "display_data"
    }
   ],
   "source": [
    "tit = 'Логарифм_Распределение_по_R_модель_эксперимент_aglclust'\n",
    "plt.title(tit)\n",
    "\n",
    "mc0_rc = np.log10(rcall_df['R'])\n",
    "exp_rc = np.log10(rcall_df_exp['R'])\n",
    "\n",
    "\n",
    "plt.hist(mc0_rc, bins = 50, density = True, log =True, alpha = 0.5, color  = 'blue', label = 'new_mc0')\n",
    "plt.hist(exp_rc, bins = 50, density = True, log = True, alpha = 0.5, color = 'green', label = 'experiment')\n",
    "\n",
    "plt.savefig(f'images/distributions/{tit}.png')\n",
    "#plt.xlim([0,1.5])\n",
    "plt.legend()\n",
    "plt.show()"
   ]
  },
  {
   "cell_type": "code",
   "execution_count": null,
   "metadata": {},
   "outputs": [],
   "source": []
  }
 ],
 "metadata": {
  "kernelspec": {
   "display_name": "Python 3",
   "language": "python",
   "name": "python3"
  },
  "language_info": {
   "codemirror_mode": {
    "name": "ipython",
    "version": 3
   },
   "file_extension": ".py",
   "mimetype": "text/x-python",
   "name": "python",
   "nbconvert_exporter": "python",
   "pygments_lexer": "ipython3",
   "version": "3.7.9"
  }
 },
 "nbformat": 4,
 "nbformat_minor": 4
}
