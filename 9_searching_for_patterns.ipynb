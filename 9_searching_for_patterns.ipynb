{
 "cells": [
  {
   "cell_type": "markdown",
   "metadata": {},
   "source": [
    "# Первоначальная частица. \n",
    "Поиск зависимостей для выявления первоначальной частицы.  \n",
    "Что если попробовать просто на модельных данных предсказать тип частицы, которая участвовала во взаимодействии."
   ]
  },
  {
   "cell_type": "code",
   "execution_count": 1,
   "metadata": {},
   "outputs": [],
   "source": [
    "import pandas as pd\n",
    "import numpy as np\n",
    "from matplotlib import pyplot as plt\n",
    "import matplotlib as mpl\n",
    "import seaborn as sns\n",
    "import numpy as np\n",
    "from scipy import stats\n",
    "import datetime\n",
    "import math"
   ]
  },
  {
   "cell_type": "code",
   "execution_count": 2,
   "metadata": {},
   "outputs": [],
   "source": [
    "from sklearn.neighbors import KNeighborsClassifier\n",
    "from sklearn.metrics import classification_report\n",
    "from sklearn.ensemble import GradientBoostingClassifier\n",
    "from sklearn.metrics import mean_absolute_error, mean_squared_error, r2_score\n",
    "from sklearn.ensemble import GradientBoostingRegressor\n",
    "from sklearn.model_selection import train_test_split"
   ]
  },
  {
   "cell_type": "code",
   "execution_count": null,
   "metadata": {},
   "outputs": [],
   "source": [
    "# # Экспериментальные данные.\n",
    "# AllExp = pd.read_csv('datachanged/AllExpC')\n",
    "# AllExp = AllExp.drop(['Unnamed: 0'], axis = 1)\n",
    "# AllExp.columns\n",
    "# AllExpNew = pandas.read_csv('datachanged/AllExpNewL')"
   ]
  },
  {
   "cell_type": "code",
   "execution_count": 242,
   "metadata": {},
   "outputs": [
    {
     "name": "stdout",
     "output_type": "stream",
     "text": [
      "Index([' j', 'X(J)', 'Y(J)', 'E(J)', 'H(J)', ' E0', ' A0', 'log_E0', 'num',\n",
      "       'R', 'ER', 'sum_energy', 'lg_r', 'lg_e_r', 'cnt', 'n_gamma',\n",
      "       'n_gamma_thr', 'sum_energy_thr'],\n",
      "      dtype='object')\n"
     ]
    },
    {
     "data": {
      "text/plain": [
       "1    69331\n",
       "2    18964\n",
       "9    10197\n",
       "6     5088\n",
       "4     2685\n",
       "5     2466\n",
       "7     2046\n",
       "8     1620\n",
       "3      370\n",
       "Name:  A0, dtype: int64"
      ]
     },
     "execution_count": 242,
     "metadata": {},
     "output_type": "execute_result"
    }
   ],
   "source": [
    "# Новый модельный банк.\n",
    "AllMc0 = pd.read_csv('datachanged/AllMc0CNewBank', sep = '\\t')\n",
    "# Семейчтва в новом банке были перенумерованы, поэтому объединять нужно по-другому\n",
    "newE = AllMc0[['num', ' E0', ' A0', 'cnt']].drop_duplicates()\n",
    "AllMc0New = pd.read_csv('datachanged/AllMc0NewLNewBank').\\\n",
    "    drop(['Unnamed: 0'], axis = 1)[['num', 'n_gamma', 'n_gamma_thr', 'sum_energy_thr']]\n",
    "AllMc0 = AllMc0.merge(AllMc0New, left_on='num', right_on='num')\n",
    "print(AllMc0.columns)\n",
    "AllMc0[' A0'].value_counts()"
   ]
  },
  {
   "cell_type": "markdown",
   "metadata": {},
   "source": [
    "# Старый модельный банк."
   ]
  },
  {
   "cell_type": "code",
   "execution_count": 266,
   "metadata": {},
   "outputs": [
    {
     "data": {
      "text/plain": [
       "Index([' num_of_family', ' j', 'X(J)', 'Y(J)', 'E(J)', 'H(J)', ' E0', ' A0',\n",
       "       'log_E0', 'R', 'ER', 'sum_energy'],\n",
       "      dtype='object')"
      ]
     },
     "execution_count": 266,
     "metadata": {},
     "output_type": "execute_result"
    }
   ],
   "source": [
    "# # Старый модельный банк.\n",
    "AllMc0 = pd.read_csv('datachanged/AllMc0COld', sep = '\\t')\n",
    "AllMc0.columns"
   ]
  },
  {
   "cell_type": "code",
   "execution_count": 116,
   "metadata": {},
   "outputs": [],
   "source": [
    "AllMc0['lg_r'] = np.log(AllMc0['R'])\n",
    "AllMc0['lg_e_r'] = np.log(AllMc0['ER'])\n",
    "AllMc0['cnt'] = AllMc0.groupby([' num_of_family'])[' num_of_family'].transform('count')"
   ]
  },
  {
   "cell_type": "code",
   "execution_count": 117,
   "metadata": {},
   "outputs": [
    {
     "data": {
      "text/plain": [
       "Index([' num_of_family', ' j', 'X(J)', 'Y(J)', 'E(J)', 'H(J)', ' E0', ' A0',\n",
       "       'log_E0', 'R', 'ER', 'sum_energy', 'lg_r', 'lg_e_r', 'cnt'],\n",
       "      dtype='object')"
      ]
     },
     "execution_count": 117,
     "metadata": {},
     "output_type": "execute_result"
    }
   ],
   "source": [
    "AllMc0.columns"
   ]
  },
  {
   "cell_type": "code",
   "execution_count": 265,
   "metadata": {},
   "outputs": [
    {
     "data": {
      "text/plain": [
       "Index([' num_of_family', 'n_gamma', 'n_gamma_thr', 'sum_energy_thr'], dtype='object')"
      ]
     },
     "execution_count": 265,
     "metadata": {},
     "output_type": "execute_result"
    }
   ],
   "source": [
    "AllMc0New = pd.read_csv('datachanged/AllMc0NewL').\\\n",
    "    drop(['Unnamed: 0'], axis = 1)[[' num_of_family', 'n_gamma', 'n_gamma_thr', 'sum_energy_thr']]\n",
    "AllMc0New.columns"
   ]
  },
  {
   "cell_type": "code",
   "execution_count": 190,
   "metadata": {},
   "outputs": [
    {
     "data": {
      "text/plain": [
       "Index([' num_of_family', ' j', 'X(J)', 'Y(J)', 'E(J)', 'H(J)', ' E0', ' A0',\n",
       "       'log_E0', 'R', 'ER', 'sum_energy', 'lg_r', 'lg_e_r', 'cnt', 'n_gamma',\n",
       "       'n_gamma_thr', 'sum_energy_thr'],\n",
       "      dtype='object')"
      ]
     },
     "execution_count": 190,
     "metadata": {},
     "output_type": "execute_result"
    }
   ],
   "source": [
    "AllMc0 = AllMc0.merge(AllMc0New, left_on=' num_of_family', right_on=' num_of_family')\n",
    "AllMc0.columns"
   ]
  },
  {
   "cell_type": "code",
   "execution_count": 191,
   "metadata": {},
   "outputs": [
    {
     "data": {
      "text/html": [
       "<div>\n",
       "<style scoped>\n",
       "    .dataframe tbody tr th:only-of-type {\n",
       "        vertical-align: middle;\n",
       "    }\n",
       "\n",
       "    .dataframe tbody tr th {\n",
       "        vertical-align: top;\n",
       "    }\n",
       "\n",
       "    .dataframe thead th {\n",
       "        text-align: right;\n",
       "    }\n",
       "</style>\n",
       "<table border=\"1\" class=\"dataframe\">\n",
       "  <thead>\n",
       "    <tr style=\"text-align: right;\">\n",
       "      <th></th>\n",
       "      <th>num_of_family</th>\n",
       "      <th>j</th>\n",
       "      <th>X(J)</th>\n",
       "      <th>Y(J)</th>\n",
       "      <th>E(J)</th>\n",
       "      <th>H(J)</th>\n",
       "      <th>E0</th>\n",
       "      <th>A0</th>\n",
       "      <th>log_E0</th>\n",
       "      <th>R</th>\n",
       "      <th>ER</th>\n",
       "      <th>sum_energy</th>\n",
       "      <th>lg_r</th>\n",
       "      <th>lg_e_r</th>\n",
       "      <th>cnt</th>\n",
       "      <th>n_gamma</th>\n",
       "      <th>n_gamma_thr</th>\n",
       "      <th>sum_energy_thr</th>\n",
       "    </tr>\n",
       "  </thead>\n",
       "  <tbody>\n",
       "    <tr>\n",
       "      <th>0</th>\n",
       "      <td>1</td>\n",
       "      <td>1</td>\n",
       "      <td>-3.013189</td>\n",
       "      <td>-7.227429</td>\n",
       "      <td>4.611031</td>\n",
       "      <td>1255.250</td>\n",
       "      <td>3366.712</td>\n",
       "      <td>1</td>\n",
       "      <td>3.527206</td>\n",
       "      <td>7.830392</td>\n",
       "      <td>36.106180</td>\n",
       "      <td>370.199507</td>\n",
       "      <td>2.058013</td>\n",
       "      <td>3.586464</td>\n",
       "      <td>26</td>\n",
       "      <td>26</td>\n",
       "      <td>4</td>\n",
       "      <td>239</td>\n",
       "    </tr>\n",
       "    <tr>\n",
       "      <th>1</th>\n",
       "      <td>1</td>\n",
       "      <td>2</td>\n",
       "      <td>-1.310529</td>\n",
       "      <td>-2.563248</td>\n",
       "      <td>12.047700</td>\n",
       "      <td>1545.054</td>\n",
       "      <td>3366.712</td>\n",
       "      <td>1</td>\n",
       "      <td>3.527206</td>\n",
       "      <td>2.878841</td>\n",
       "      <td>34.683415</td>\n",
       "      <td>370.199507</td>\n",
       "      <td>1.057388</td>\n",
       "      <td>3.546262</td>\n",
       "      <td>26</td>\n",
       "      <td>26</td>\n",
       "      <td>4</td>\n",
       "      <td>239</td>\n",
       "    </tr>\n",
       "    <tr>\n",
       "      <th>2</th>\n",
       "      <td>1</td>\n",
       "      <td>3</td>\n",
       "      <td>-2.178048</td>\n",
       "      <td>-2.144561</td>\n",
       "      <td>5.401844</td>\n",
       "      <td>3044.520</td>\n",
       "      <td>3366.712</td>\n",
       "      <td>1</td>\n",
       "      <td>3.527206</td>\n",
       "      <td>3.056638</td>\n",
       "      <td>16.511481</td>\n",
       "      <td>370.199507</td>\n",
       "      <td>1.117316</td>\n",
       "      <td>2.804056</td>\n",
       "      <td>26</td>\n",
       "      <td>26</td>\n",
       "      <td>4</td>\n",
       "      <td>239</td>\n",
       "    </tr>\n",
       "    <tr>\n",
       "      <th>3</th>\n",
       "      <td>1</td>\n",
       "      <td>4</td>\n",
       "      <td>-0.965465</td>\n",
       "      <td>-0.082880</td>\n",
       "      <td>5.325506</td>\n",
       "      <td>4715.523</td>\n",
       "      <td>3366.712</td>\n",
       "      <td>1</td>\n",
       "      <td>3.527206</td>\n",
       "      <td>0.969016</td>\n",
       "      <td>5.160501</td>\n",
       "      <td>370.199507</td>\n",
       "      <td>-0.031474</td>\n",
       "      <td>1.641034</td>\n",
       "      <td>26</td>\n",
       "      <td>26</td>\n",
       "      <td>4</td>\n",
       "      <td>239</td>\n",
       "    </tr>\n",
       "    <tr>\n",
       "      <th>4</th>\n",
       "      <td>1</td>\n",
       "      <td>5</td>\n",
       "      <td>-1.621645</td>\n",
       "      <td>0.079540</td>\n",
       "      <td>15.935060</td>\n",
       "      <td>3044.520</td>\n",
       "      <td>3366.712</td>\n",
       "      <td>1</td>\n",
       "      <td>3.527206</td>\n",
       "      <td>1.623595</td>\n",
       "      <td>25.872076</td>\n",
       "      <td>370.199507</td>\n",
       "      <td>0.484643</td>\n",
       "      <td>3.253164</td>\n",
       "      <td>26</td>\n",
       "      <td>26</td>\n",
       "      <td>4</td>\n",
       "      <td>239</td>\n",
       "    </tr>\n",
       "  </tbody>\n",
       "</table>\n",
       "</div>"
      ],
      "text/plain": [
       "    num_of_family   j      X(J)      Y(J)       E(J)      H(J)        E0   A0  \\\n",
       "0               1   1 -3.013189 -7.227429   4.611031  1255.250  3366.712    1   \n",
       "1               1   2 -1.310529 -2.563248  12.047700  1545.054  3366.712    1   \n",
       "2               1   3 -2.178048 -2.144561   5.401844  3044.520  3366.712    1   \n",
       "3               1   4 -0.965465 -0.082880   5.325506  4715.523  3366.712    1   \n",
       "4               1   5 -1.621645  0.079540  15.935060  3044.520  3366.712    1   \n",
       "\n",
       "     log_E0         R         ER  sum_energy      lg_r    lg_e_r  cnt  \\\n",
       "0  3.527206  7.830392  36.106180  370.199507  2.058013  3.586464   26   \n",
       "1  3.527206  2.878841  34.683415  370.199507  1.057388  3.546262   26   \n",
       "2  3.527206  3.056638  16.511481  370.199507  1.117316  2.804056   26   \n",
       "3  3.527206  0.969016   5.160501  370.199507 -0.031474  1.641034   26   \n",
       "4  3.527206  1.623595  25.872076  370.199507  0.484643  3.253164   26   \n",
       "\n",
       "   n_gamma  n_gamma_thr  sum_energy_thr  \n",
       "0       26            4             239  \n",
       "1       26            4             239  \n",
       "2       26            4             239  \n",
       "3       26            4             239  \n",
       "4       26            4             239  "
      ]
     },
     "execution_count": 191,
     "metadata": {},
     "output_type": "execute_result"
    }
   ],
   "source": [
    "AllMc0.head()"
   ]
  },
  {
   "cell_type": "code",
   "execution_count": 60,
   "metadata": {},
   "outputs": [],
   "source": [
    "# proton = AllMc0[AllMc0[' A0'] == 1].copy() # протоны\n",
    "# ferrum = AllMc0[AllMc0[' A0'] == 9].copy() # железо\n",
    "# CNO = AllMc0[(AllMc0[' A0']>=6)&(AllMc0[' A0'] <= 8)].copy() # CNO которое на самом деле MgSi"
   ]
  },
  {
   "cell_type": "markdown",
   "metadata": {},
   "source": [
    "## Можно ли считать A0 для конкретной частицы."
   ]
  },
  {
   "cell_type": "code",
   "execution_count": 243,
   "metadata": {},
   "outputs": [
    {
     "name": "stdout",
     "output_type": "stream",
     "text": [
      "shape 1 train: 41496 test: 27835\n",
      "shape 2 train: 11048 test: 7916\n",
      "shape 4 train: 1582 test: 1103\n",
      "shape 3 train: 188 test: 182\n",
      "shape 9 train: 6053 test: 4144\n",
      "shape 5 train: 1284 test: 1182\n",
      "shape 6 train: 2596 test: 2492\n",
      "shape 7 train: 1212 test: 834\n",
      "shape 8 train: 435 test: 1185\n"
     ]
    }
   ],
   "source": [
    "# Нужно разделить так, чтобы частицы из одного семейства не заглядывали в частицы из другого семейства\n",
    "num_name = ' num_of_family'\n",
    "num_name = 'num'\n",
    "\n",
    "particles = AllMc0[' A0'].unique()\n",
    "\n",
    "train = []\n",
    "test = []\n",
    "\n",
    "for particle in particles:\n",
    "    # Выделяем тип частицы\n",
    "    df_tmp = AllMc0[AllMc0[' A0']==particle].copy()\n",
    "    df_tmp = df_tmp.sort_values(by = [num_name, ' j'])\n",
    "    sample = int(len(df_tmp)*0.6)\n",
    "    split = max(df_tmp[:sample][num_name])\n",
    "    df_train = df_tmp[df_tmp[num_name]<split].copy()\n",
    "    df_test = df_tmp[df_tmp[num_name]>=split].copy()\n",
    "    print(f'shape {particle} train: {len(df_train)} test: {len(df_test)}')\n",
    "    train.append(df_train)\n",
    "    test.append(df_test)\n",
    "train = pd.concat(train)\n",
    "test = pd.concat(test)"
   ]
  },
  {
   "cell_type": "code",
   "execution_count": 245,
   "metadata": {},
   "outputs": [
    {
     "name": "stdout",
     "output_type": "stream",
     "text": [
      "shape 1 train: 1006 test: 1005\n",
      "shape 2 train: 1048 test: 1010\n",
      "shape 4 train: 1000 test: 1009\n",
      "shape 3 train: 188 test: 182\n",
      "shape 9 train: 1064 test: 1008\n",
      "shape 5 train: 1016 test: 1025\n",
      "shape 6 train: 1211 test: 2063\n",
      "shape 7 train: 1018 test: 834\n",
      "shape 8 train: 435 test: 1185\n"
     ]
    }
   ],
   "source": [
    "# Нужно разделить так, чтобы частицы из одного семейства не заглядывали в частицы из другого семейства\n",
    "num_name = ' num_of_family'\n",
    "num_name = 'num'\n",
    "particles = AllMc0[' A0'].unique()\n",
    "\n",
    "train = []\n",
    "test = []\n",
    "\n",
    "for particle in particles:\n",
    "    # Выделяем тип частицы\n",
    "    df_tmp = AllMc0[AllMc0[' A0']==particle].copy()\n",
    "    df_tmp = df_tmp.sort_values(by = [num_name, ' j'])\n",
    "    sample = int(len(df_tmp)*0.6)\n",
    "    split = max(df_tmp[:sample][num_name])\n",
    "    df_train = df_tmp[df_tmp[num_name]<split].copy()\n",
    "    df_test = df_tmp[df_tmp[num_name]>=split].copy()\n",
    "    \n",
    "    split2 = max(df_train[:1000][num_name])\n",
    "    df_train = df_train[df_train[num_name]<=split2].copy()\n",
    "    \n",
    "    split2 = max(df_test[:1000][num_name])\n",
    "    df_test = df_test[df_test[num_name]<=split2].copy()\n",
    "    \n",
    "    print(f'shape {particle} train: {len(df_train)} test: {len(df_test)}')\n",
    "    train.append(df_train)\n",
    "    test.append(df_test)\n",
    "train = pd.concat(train)\n",
    "test = pd.concat(test)"
   ]
  },
  {
   "cell_type": "code",
   "execution_count": 247,
   "metadata": {},
   "outputs": [],
   "source": [
    "X_train = train.drop([num_name, ' j', ' A0', ' E0', 'log_E0', 'H(J)'], axis = 1).copy()\n",
    "X_test = test.drop([num_name, ' j', ' A0', ' E0', 'log_E0', 'H(J)'], axis = 1).copy()\n",
    "y_train = train[' A0'].values\n",
    "y_test = test[' A0'].values\n",
    "num_train = train[num_name]\n",
    "num_test = test[num_name]"
   ]
  },
  {
   "cell_type": "code",
   "execution_count": 248,
   "metadata": {},
   "outputs": [
    {
     "name": "stdout",
     "output_type": "stream",
     "text": [
      "              precision    recall  f1-score   support\n",
      "\n",
      "           1       0.26      0.09      0.13      1005\n",
      "           2       0.00      0.00      0.00      1010\n",
      "           3       0.00      0.00      0.00       182\n",
      "           4       0.15      0.18      0.17      1009\n",
      "           5       0.02      0.03      0.02      1025\n",
      "           6       0.48      1.00      0.65      2063\n",
      "           7       0.11      0.04      0.06       834\n",
      "           8       0.00      0.00      0.00      1185\n",
      "           9       0.17      0.16      0.17      1008\n",
      "\n",
      "    accuracy                           0.27      9321\n",
      "   macro avg       0.13      0.17      0.13      9321\n",
      "weighted avg       0.18      0.27      0.20      9321\n",
      "\n",
      "Wall time: 27.3 s\n"
     ]
    }
   ],
   "source": [
    "%%time\n",
    "clf = GradientBoostingClassifier(random_state=0)\n",
    "clf.fit(X_train, y_train)\n",
    "y_pred = clf.predict(X_test) \n",
    "\n",
    "print(classification_report(y_test, y_pred, zero_division = 0))"
   ]
  },
  {
   "cell_type": "code",
   "execution_count": 249,
   "metadata": {},
   "outputs": [],
   "source": [
    "df_test = test[[num_name, ' A0']].copy()\n",
    "df_test['y_pred'] = y_pred"
   ]
  },
  {
   "cell_type": "code",
   "execution_count": 250,
   "metadata": {},
   "outputs": [
    {
     "data": {
      "text/plain": [
       "array([1588, 1598, 1603, 1592, 1643, 1689, 1707, 1760, 1865, 1879, 1902,\n",
       "       1970, 1983, 2000, 2015, 2054, 2084, 2156, 2194, 2196, 2198, 2204,\n",
       "       2237, 2256, 2266, 2274, 1347, 1577, 1719, 1725, 1852, 2219, 1627,\n",
       "       1649, 1651, 1659, 1661, 1665, 1666, 1674, 1681, 1684, 1690, 1715,\n",
       "       1727, 1729, 1754, 1664, 1722, 1749, 1759, 1779, 1786, 1789, 1830,\n",
       "       1922, 1994, 2023, 2079, 2140, 2144, 2146, 2174, 2230, 2246, 1755,\n",
       "       1981, 1996, 2036, 2042, 2053, 2085, 2087, 2091, 2155, 2166, 2182,\n",
       "       2265, 2281, 2202], dtype=int64)"
      ]
     },
     "execution_count": 250,
     "metadata": {},
     "output_type": "execute_result"
    }
   ],
   "source": [
    "df_test[df_test[' A0']!=1][num_name].unique()"
   ]
  },
  {
   "cell_type": "code",
   "execution_count": 252,
   "metadata": {},
   "outputs": [],
   "source": [
    "XX = test.groupby(num_name).mean().reset_index()\n",
    "yy = XX[' A0'].values\n",
    "num_yy = XX[num_name].values\n",
    "XX = XX.drop([' j', num_name,' A0', ' E0', 'log_E0', 'H(J)'], axis = 1).copy()"
   ]
  },
  {
   "cell_type": "code",
   "execution_count": 253,
   "metadata": {},
   "outputs": [
    {
     "name": "stdout",
     "output_type": "stream",
     "text": [
      "              precision    recall  f1-score   support\n",
      "\n",
      "         1.0       0.21      0.16      0.18        19\n",
      "         2.0       0.00      0.00      0.00         3\n",
      "         3.0       0.00      0.00      0.00         6\n",
      "         4.0       0.27      0.17      0.21        23\n",
      "         5.0       0.05      0.06      0.05        18\n",
      "         6.0       0.17      1.00      0.29         1\n",
      "         7.0       0.00      0.00      0.00        13\n",
      "         8.0       0.00      0.00      0.00         1\n",
      "         9.0       0.11      0.13      0.12        15\n",
      "\n",
      "    accuracy                           0.11        99\n",
      "   macro avg       0.09      0.17      0.09        99\n",
      "weighted avg       0.13      0.11      0.11        99\n",
      "\n"
     ]
    }
   ],
   "source": [
    "yy_pred = clf.predict(XX) \n",
    "print(classification_report(yy, yy_pred, zero_division = 0))"
   ]
  },
  {
   "cell_type": "code",
   "execution_count": 258,
   "metadata": {},
   "outputs": [],
   "source": [
    "df = XX.copy()\n",
    "df[num_name] = num_yy\n",
    "df[' A0'] = np.int32(yy)\n",
    "df['y_pred'] = yy_pred"
   ]
  },
  {
   "cell_type": "code",
   "execution_count": 256,
   "metadata": {},
   "outputs": [],
   "source": [
    "df[df[num_name]==705][[' A0', 'y_pred']]"
   ]
  },
  {
   "cell_type": "code",
   "execution_count": 259,
   "metadata": {},
   "outputs": [
    {
     "data": {
      "text/html": [
       "<div>\n",
       "<style scoped>\n",
       "    .dataframe tbody tr th:only-of-type {\n",
       "        vertical-align: middle;\n",
       "    }\n",
       "\n",
       "    .dataframe tbody tr th {\n",
       "        vertical-align: top;\n",
       "    }\n",
       "\n",
       "    .dataframe thead th {\n",
       "        text-align: right;\n",
       "    }\n",
       "</style>\n",
       "<table border=\"1\" class=\"dataframe\">\n",
       "  <thead>\n",
       "    <tr style=\"text-align: right;\">\n",
       "      <th></th>\n",
       "      <th>A0</th>\n",
       "      <th>y_pred</th>\n",
       "    </tr>\n",
       "  </thead>\n",
       "  <tbody>\n",
       "    <tr>\n",
       "      <th>82</th>\n",
       "      <td>7</td>\n",
       "      <td>6</td>\n",
       "    </tr>\n",
       "  </tbody>\n",
       "</table>\n",
       "</div>"
      ],
      "text/plain": [
       "     A0  y_pred\n",
       "82    7       6"
      ]
     },
     "execution_count": 259,
     "metadata": {},
     "output_type": "execute_result"
    }
   ],
   "source": [
    "df[df[num_name]==2166][[' A0', 'y_pred']]"
   ]
  },
  {
   "cell_type": "code",
   "execution_count": 260,
   "metadata": {},
   "outputs": [
    {
     "data": {
      "text/html": [
       "<div>\n",
       "<style scoped>\n",
       "    .dataframe tbody tr th:only-of-type {\n",
       "        vertical-align: middle;\n",
       "    }\n",
       "\n",
       "    .dataframe tbody tr th {\n",
       "        vertical-align: top;\n",
       "    }\n",
       "\n",
       "    .dataframe thead th {\n",
       "        text-align: right;\n",
       "    }\n",
       "</style>\n",
       "<table border=\"1\" class=\"dataframe\">\n",
       "  <thead>\n",
       "    <tr style=\"text-align: right;\">\n",
       "      <th></th>\n",
       "      <th>A0</th>\n",
       "      <th>y_pred</th>\n",
       "    </tr>\n",
       "  </thead>\n",
       "  <tbody>\n",
       "  </tbody>\n",
       "</table>\n",
       "</div>"
      ],
      "text/plain": [
       "Empty DataFrame\n",
       "Columns: [ A0, y_pred]\n",
       "Index: []"
      ]
     },
     "execution_count": 260,
     "metadata": {},
     "output_type": "execute_result"
    }
   ],
   "source": [
    "df[df[num_name]==873][[' A0', 'y_pred']]"
   ]
  },
  {
   "cell_type": "code",
   "execution_count": 262,
   "metadata": {},
   "outputs": [
    {
     "data": {
      "text/html": [
       "<div>\n",
       "<style scoped>\n",
       "    .dataframe tbody tr th:only-of-type {\n",
       "        vertical-align: middle;\n",
       "    }\n",
       "\n",
       "    .dataframe tbody tr th {\n",
       "        vertical-align: top;\n",
       "    }\n",
       "\n",
       "    .dataframe thead th {\n",
       "        text-align: right;\n",
       "    }\n",
       "</style>\n",
       "<table border=\"1\" class=\"dataframe\">\n",
       "  <thead>\n",
       "    <tr style=\"text-align: right;\">\n",
       "      <th></th>\n",
       "      <th>A0</th>\n",
       "      <th>y_pred</th>\n",
       "    </tr>\n",
       "  </thead>\n",
       "  <tbody>\n",
       "    <tr>\n",
       "      <th>37</th>\n",
       "      <td>4</td>\n",
       "      <td>5</td>\n",
       "    </tr>\n",
       "  </tbody>\n",
       "</table>\n",
       "</div>"
      ],
      "text/plain": [
       "     A0  y_pred\n",
       "37    4       5"
      ]
     },
     "execution_count": 262,
     "metadata": {},
     "output_type": "execute_result"
    }
   ],
   "source": [
    "df[df[num_name]==1689][[' A0', 'y_pred']]"
   ]
  },
  {
   "cell_type": "code",
   "execution_count": 261,
   "metadata": {},
   "outputs": [
    {
     "data": {
      "text/html": [
       "<div>\n",
       "<style scoped>\n",
       "    .dataframe tbody tr th:only-of-type {\n",
       "        vertical-align: middle;\n",
       "    }\n",
       "\n",
       "    .dataframe tbody tr th {\n",
       "        vertical-align: top;\n",
       "    }\n",
       "\n",
       "    .dataframe thead th {\n",
       "        text-align: right;\n",
       "    }\n",
       "</style>\n",
       "<table border=\"1\" class=\"dataframe\">\n",
       "  <thead>\n",
       "    <tr style=\"text-align: right;\">\n",
       "      <th></th>\n",
       "      <th>A0</th>\n",
       "      <th>y_pred</th>\n",
       "    </tr>\n",
       "  </thead>\n",
       "  <tbody>\n",
       "  </tbody>\n",
       "</table>\n",
       "</div>"
      ],
      "text/plain": [
       "Empty DataFrame\n",
       "Columns: [ A0, y_pred]\n",
       "Index: []"
      ]
     },
     "execution_count": 261,
     "metadata": {},
     "output_type": "execute_result"
    }
   ],
   "source": [
    "df[df[num_name]==885][[' A0', 'y_pred']]"
   ]
  },
  {
   "cell_type": "code",
   "execution_count": 263,
   "metadata": {},
   "outputs": [
    {
     "data": {
      "text/html": [
       "<div>\n",
       "<style scoped>\n",
       "    .dataframe tbody tr th:only-of-type {\n",
       "        vertical-align: middle;\n",
       "    }\n",
       "\n",
       "    .dataframe tbody tr th {\n",
       "        vertical-align: top;\n",
       "    }\n",
       "\n",
       "    .dataframe thead th {\n",
       "        text-align: right;\n",
       "    }\n",
       "</style>\n",
       "<table border=\"1\" class=\"dataframe\">\n",
       "  <thead>\n",
       "    <tr style=\"text-align: right;\">\n",
       "      <th></th>\n",
       "      <th>A0</th>\n",
       "      <th>y_pred</th>\n",
       "    </tr>\n",
       "  </thead>\n",
       "  <tbody>\n",
       "    <tr>\n",
       "      <th>73</th>\n",
       "      <td>4</td>\n",
       "      <td>1</td>\n",
       "    </tr>\n",
       "  </tbody>\n",
       "</table>\n",
       "</div>"
      ],
      "text/plain": [
       "     A0  y_pred\n",
       "73    4       1"
      ]
     },
     "execution_count": 263,
     "metadata": {},
     "output_type": "execute_result"
    }
   ],
   "source": [
    "df[df[num_name]==2084][[' A0', 'y_pred']]"
   ]
  },
  {
   "cell_type": "markdown",
   "metadata": {},
   "source": [
    "## A0 для семейства"
   ]
  },
  {
   "cell_type": "code",
   "execution_count": 269,
   "metadata": {},
   "outputs": [
    {
     "data": {
      "text/plain": [
       "Index(['num', 'sum_energy', 'mean_r', 'mean_e_r', 'lg_mean_r', 'lg_mean_er',\n",
       "       'n_gamma', 'n_gamma_thr', 'sum_energy_thr', ' E0', ' A0', 'cnt'],\n",
       "      dtype='object')"
      ]
     },
     "execution_count": 269,
     "metadata": {},
     "output_type": "execute_result"
    }
   ],
   "source": [
    "# Новый модельный банк.\n",
    "AllMc0 = pd.read_csv('datachanged/AllMc0CNewBank', sep = '\\t')\n",
    "# Семейчтва в новом банке были перенумерованы, поэтому объединять нужно по-другому\n",
    "newE = AllMc0[['num', ' E0', ' A0', 'cnt']].drop_duplicates()\n",
    "AllMc0New = pd.read_csv('datachanged/AllMc0NewLNewBank').\\\n",
    "    drop(['Unnamed: 0'], axis = 1)\n",
    "AllMc0New = AllMc0New.merge(newE, left_on='num', right_on='num')\n",
    "AllMc0New.columns"
   ]
  },
  {
   "cell_type": "code",
   "execution_count": 62,
   "metadata": {},
   "outputs": [
    {
     "data": {
      "text/plain": [
       "Index([' num_of_family', 'sum_energy', 'mean_r', 'mean_e_r', 'lg_mean_r',\n",
       "       'lg_mean_er', 'n_gamma', 'n_gamma_thr', 'sum_energy_thr', ' E0', ' A0'],\n",
       "      dtype='object')"
      ]
     },
     "execution_count": 62,
     "metadata": {},
     "output_type": "execute_result"
    }
   ],
   "source": [
    "# Первичная энергия событий в старой базе\n",
    "oldE = pd.read_csv('newdata/E0_BCR.txt')\n",
    "oldE = oldE.loc[oldE[' num_of_family']<1299].copy() # убираем дубли\n",
    "AllMc0New = pd.read_csv('datachanged/AllMc0NewL').drop(['Unnamed: 0'], axis = 1)\n",
    "AllMc0New = AllMc0New.merge(oldE, left_on=' num_of_family', right_on=' num_of_family')\n",
    "AllMc0New.columns"
   ]
  },
  {
   "cell_type": "code",
   "execution_count": 284,
   "metadata": {},
   "outputs": [
    {
     "name": "stdout",
     "output_type": "stream",
     "text": [
      "shape 1 train: 300 test: 300\n",
      "shape 2 train: 210 test: 143\n",
      "shape 4 train: 39 test: 29\n",
      "shape 3 train: 6 test: 7\n",
      "shape 9 train: 95 test: 65\n",
      "shape 5 train: 33 test: 25\n",
      "shape 6 train: 30 test: 23\n",
      "shape 7 train: 30 test: 23\n",
      "shape 8 train: 7 test: 7\n"
     ]
    }
   ],
   "source": [
    "# Разделение такое, чтобы семейств с 1 было не слишком много\n",
    "num_name = ' num_of_family'\n",
    "num_name = 'num'\n",
    "particles = AllMc0New[' A0'].unique()\n",
    "\n",
    "train = []\n",
    "test = []\n",
    "\n",
    "for particle in particles:\n",
    "    # Выделяем тип частицы\n",
    "    df_tmp = AllMc0New[AllMc0New[' A0']==particle].copy()\n",
    "    df_tmp = df_tmp.sort_values(by = [num_name])\n",
    "    sample = int(len(df_tmp)*0.6)\n",
    "    split = max(df_tmp[:sample][num_name])\n",
    "    df_train = df_tmp[df_tmp[num_name]<split].copy()\n",
    "    df_test = df_tmp[df_tmp[num_name]>=split].copy()\n",
    "    \n",
    "    split2 = max(df_train[:300][num_name])\n",
    "    df_train = df_train[df_train[num_name]<=split2].copy()\n",
    "    \n",
    "    split2 = max(df_test[:300][num_name])\n",
    "    df_test = df_test[df_test[num_name]<=split2].copy()\n",
    "    \n",
    "    print(f'shape {particle} train: {len(df_train)} test: {len(df_test)}')\n",
    "    train.append(df_train)\n",
    "    test.append(df_test)\n",
    "train = pd.concat(train)\n",
    "test = pd.concat(test)"
   ]
  },
  {
   "cell_type": "code",
   "execution_count": 280,
   "metadata": {},
   "outputs": [],
   "source": [
    "X_train = train.drop([num_name, ' A0', ' E0'], axis = 1).copy()\n",
    "X_test = test.drop([num_name, ' A0', ' E0'], axis = 1).copy()\n",
    "y_train = train[' A0'].values\n",
    "y_test = test[' A0'].values\n",
    "num_train = train[num_name]\n",
    "num_test = test[num_name]"
   ]
  },
  {
   "cell_type": "code",
   "execution_count": 281,
   "metadata": {},
   "outputs": [
    {
     "name": "stdout",
     "output_type": "stream",
     "text": [
      "              precision    recall  f1-score   support\n",
      "\n",
      "           1       0.37      0.12      0.18       200\n",
      "           2       0.31      0.68      0.42       143\n",
      "           3       0.00      0.00      0.00         7\n",
      "           4       0.00      0.00      0.00        29\n",
      "           5       0.00      0.00      0.00        25\n",
      "           6       0.08      0.04      0.06        23\n",
      "           7       0.09      0.04      0.06        23\n",
      "           8       0.00      0.00      0.00         7\n",
      "           9       0.36      0.49      0.42        65\n",
      "\n",
      "    accuracy                           0.30       522\n",
      "   macro avg       0.13      0.15      0.13       522\n",
      "weighted avg       0.28      0.30      0.24       522\n",
      "\n"
     ]
    }
   ],
   "source": [
    "clf2 = GradientBoostingClassifier(random_state=0)\n",
    "clf2.fit(X_train, y_train)\n",
    "y_pred = clf2.predict(X_test) \n",
    "\n",
    "print(classification_report(y_test, y_pred, zero_division = 0))"
   ]
  },
  {
   "cell_type": "code",
   "execution_count": null,
   "metadata": {},
   "outputs": [],
   "source": []
  },
  {
   "cell_type": "markdown",
   "metadata": {},
   "source": [
    "Результаты показывают, что данных по частицам недостаточно для того чтобы предположить к какому типу относится частица.  "
   ]
  },
  {
   "cell_type": "code",
   "execution_count": null,
   "metadata": {},
   "outputs": [],
   "source": []
  }
 ],
 "metadata": {
  "kernelspec": {
   "display_name": "Python 3",
   "language": "python",
   "name": "python3"
  },
  "language_info": {
   "codemirror_mode": {
    "name": "ipython",
    "version": 3
   },
   "file_extension": ".py",
   "mimetype": "text/x-python",
   "name": "python",
   "nbconvert_exporter": "python",
   "pygments_lexer": "ipython3",
   "version": "3.7.9"
  }
 },
 "nbformat": 4,
 "nbformat_minor": 4
}
