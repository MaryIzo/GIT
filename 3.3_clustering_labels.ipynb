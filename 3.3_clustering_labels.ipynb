{
 "cells": [
  {
   "cell_type": "code",
   "execution_count": null,
   "metadata": {},
   "outputs": [],
   "source": []
  },
  {
   "cell_type": "code",
   "execution_count": 20,
   "metadata": {},
   "outputs": [],
   "source": [
    "import pandas as pd\n",
    "import numpy as np\n",
    "from matplotlib import pyplot as plt\n",
    "import matplotlib as mpl\n",
    "import seaborn as sns\n",
    "import numpy as np\n",
    "from scipy import stats\n",
    "import datetime\n",
    "import math"
   ]
  },
  {
   "cell_type": "code",
   "execution_count": 3,
   "metadata": {},
   "outputs": [],
   "source": [
    "from sklearn.preprocessing import LabelEncoder\n",
    "from sklearn.cluster import DBSCAN\n",
    "from sklearn.cluster import OPTICS\n",
    "from sklearn.cluster import AffinityPropagation\n",
    "from sklearn.cluster import MeanShift\n",
    "from sklearn.cluster import AgglomerativeClustering\n",
    "import hdbscan\n",
    "le_h = LabelEncoder()"
   ]
  },
  {
   "cell_type": "code",
   "execution_count": 4,
   "metadata": {},
   "outputs": [],
   "source": [
    "def noise_cluster(labels):\n",
    "    \n",
    "    if -1 not in labels:\n",
    "        return labels\n",
    "    \n",
    "    coef = len(set(labels))-1\n",
    "    for i in range(len(labels)):  \n",
    "        if labels[i] == -1:\n",
    "            coef+=1\n",
    "            labels[i] = labels[i]+coef\n",
    "    return labels"
   ]
  },
  {
   "cell_type": "code",
   "execution_count": 5,
   "metadata": {},
   "outputs": [],
   "source": [
    "# Функция вычисления матрицы расстояния для одного датафрейма по формуле физиков.\n",
    "def Matrix_of_Distance(X, Y, E, label):\n",
    "    Distance =[]\n",
    "    for i in range(len(X)):\n",
    "        Distance.append([])\n",
    "        for j in range(len(Y)):\n",
    "            \n",
    "            if label == 1:\n",
    "                Coef = 1\n",
    "            elif label==2:\n",
    "                Coef = math.sqrt(E[i]*E[j])\n",
    "            elif label ==3:\n",
    "                Coef=( E[i]*E[j])/(E[i] + E[j])\n",
    "            \n",
    "            r = Coef*(math.sqrt( math.pow((X[i]-X[j]),2) + math.pow((Y[i]-Y[j]),2) )  )\n",
    "    \n",
    "            Distance[i].append(r)\n",
    "    \n",
    "    return pd.DataFrame(Distance)"
   ]
  },
  {
   "cell_type": "code",
   "execution_count": 9,
   "metadata": {},
   "outputs": [],
   "source": [
    "def CoefPFI(OneFamily, num, name = 'cluster'):\n",
    "    P = 0\n",
    "    E = 0\n",
    "    DomH = [] #доминирующие высоты в кластерах\n",
    "    N_c = len(OneFamily)\n",
    "    \n",
    "    labels = OneFamily[name]\n",
    "    n_clusters_ = len(set(labels)) - (1 if -1 in labels else 0)\n",
    "    \n",
    "    for i in range(n_clusters_):\n",
    "        value = OneFamily[OneFamily[name]==i]['labels'].value_counts()\n",
    "        n_d = value[:1].values\n",
    "        n_c = len(OneFamily[OneFamily[name]==i][name])\n",
    "        P_i = n_d[0]/n_c\n",
    "        P = P + P_i\n",
    "        \n",
    "        x = value[:1].index[0]\n",
    "        n_t = len(OneFamily[OneFamily['labels']==x])\n",
    "        E_i = n_d[0]/n_t\n",
    "        E = E + E_i\n",
    "        \n",
    "        DomH.append(x)\n",
    "    \n",
    "    purity = P/n_clusters_ #1\n",
    "    \n",
    "    splitting = len(set(DomH))/n_clusters_ #2\n",
    "    \n",
    "    integrity = len(set(DomH))/len(set(OneFamily['labels'])) #3\n",
    "    \n",
    "    efficiency =  E/n_clusters_ #4\n",
    "    \n",
    "    #CoefS = f'P = {round(purity,3)}, S = {round(splitting,3)}, I = {round(integrity, 3)}, E = {round(efficiency, 3)}'\n",
    "   \n",
    "    \n",
    "    result = [num, round(purity,3), round(splitting,3), round(integrity,3), round(efficiency, 3) ]\n",
    "    mean = np.mean(result[1:])\n",
    "    var = np.var(result[1:])\n",
    "    compose = (purity+efficiency)*(integrity+splitting)/4\n",
    "    \n",
    "    result = result+[round(mean,3)]\n",
    "    result = result + [round(var,3)]\n",
    "    result = result + [round(compose,3)]\n",
    "    return result"
   ]
  },
  {
   "cell_type": "code",
   "execution_count": 10,
   "metadata": {},
   "outputs": [],
   "source": [
    "def ClusteringAGLCLUST(eps, X):\n",
    "    clustering = AgglomerativeClustering(n_clusters=None, affinity = 'precomputed', distance_threshold = eps, linkage = 'average').fit(X)\n",
    "    labels = clustering.labels_    \n",
    "    return labels"
   ]
  },
  {
   "cell_type": "code",
   "execution_count": 11,
   "metadata": {},
   "outputs": [],
   "source": [
    "def ClusteringDBSCAN(eps, X):\n",
    "    db = DBSCAN(eps=eps, min_samples = 1).fit(X)\n",
    "    labels = db.labels_\n",
    "    return noise_cluster(labels)"
   ]
  },
  {
   "cell_type": "code",
   "execution_count": 12,
   "metadata": {},
   "outputs": [],
   "source": [
    "def ClusteringMeanShift(eps, X):\n",
    "    clustering = MeanShift(bandwidth=eps).fit(X)\n",
    "    labels = clustering.labels_\n",
    "    return labels"
   ]
  },
  {
   "cell_type": "code",
   "execution_count": 13,
   "metadata": {},
   "outputs": [],
   "source": [
    "def ClusteringOptics(eps, X):\n",
    "    clustering = OPTICS(min_samples = 2).fit(X)\n",
    "    labels = clustering.labels_\n",
    "    return noise_cluster(labels)"
   ]
  },
  {
   "cell_type": "code",
   "execution_count": 14,
   "metadata": {},
   "outputs": [],
   "source": [
    "def ClusteringHdbscan(eps, X):\n",
    "    clustering = hdbscan.HDBSCAN(algorithm='best', alpha=1.0, approx_min_span_tree=True,\n",
    "                            gen_min_span_tree=False, leaf_size=1, min_cluster_size=2, min_samples=None, p=None).fit(X)\n",
    "    labels = clustering.labels_\n",
    "    return noise_cluster(labels)"
   ]
  },
  {
   "cell_type": "code",
   "execution_count": 15,
   "metadata": {},
   "outputs": [],
   "source": [
    "def ClusteringAffinity(eps, X):\n",
    "    clustering = AffinityPropagation(damping = 0.9, random_state=5).fit(X)\n",
    "    labels = clustering.labels_\n",
    "    return labels"
   ]
  },
  {
   "cell_type": "code",
   "execution_count": 16,
   "metadata": {},
   "outputs": [],
   "source": [
    "def clustering(data, name, exp = False):\n",
    "    \n",
    "    nums =list(set(data[name].values))\n",
    "    clustered_df = []\n",
    "    \n",
    "    print('start: ', datetime.datetime.now())\n",
    "    \n",
    "    for i in nums:\n",
    "        if i%100 == 0:\n",
    "            print(i, datetime.datetime.now())\n",
    "        \n",
    "        # Выделяем семмейство\n",
    "        df = data[data[name]==i].copy()\n",
    "        \n",
    "        # Строим матрицу расстояний со вторым коэффициентом расстояния\n",
    "        X = Matrix_of_Distance(df['X(J)'].values, df['Y(J)'].values, df['E(J)'].values, 2)\n",
    "        \n",
    "        eps = np.percentile(df['ER'], 80)\n",
    "        df['cluster_agl'] = ClusteringAGLCLUST(eps, X)\n",
    "                \n",
    "        eps = np.percentile(df['ER'], 100)\n",
    "        df['cluster_db'] = ClusteringDBSCAN(eps, X)\n",
    "        \n",
    "        eps = np.percentile(df['ER'], 100)\n",
    "        df['cluster_ms'] = ClusteringMeanShift(eps, X)\n",
    "        \n",
    "        df['cluster_op'] = ClusteringOptics(eps, X)\n",
    "        \n",
    "        df['cluster_hd'] = ClusteringHdbscan(eps, X)\n",
    "        \n",
    "        df['cluster_af'] = ClusteringAffinity(eps, X)\n",
    "        \n",
    "        clustered_df.append(df)\n",
    "        \n",
    "    \n",
    "    clustered_df = pd.concat(clustered_df)\n",
    "\n",
    "    return clustered_df"
   ]
  },
  {
   "cell_type": "code",
   "execution_count": 17,
   "metadata": {},
   "outputs": [],
   "source": [
    "# Новый модельный банк.\n",
    "AllMc0 = pd.read_csv('datachanged/AllMc0CNewBank', sep = '\\t')\n",
    "# Старый модельный банк.\n",
    "#olddata = pd.read_csv('datachanged/AllMc0COld', sep = '\\t')"
   ]
  },
  {
   "cell_type": "code",
   "execution_count": 18,
   "metadata": {},
   "outputs": [],
   "source": [
    "# Экспериментальные данные.\n",
    "AllExp = pd.read_csv('datachanged/AllExpC')\n",
    "AllExp = AllExp.drop(['Unnamed: 0'], axis = 1)"
   ]
  },
  {
   "cell_type": "code",
   "execution_count": 21,
   "metadata": {},
   "outputs": [
    {
     "name": "stdout",
     "output_type": "stream",
     "text": [
      "start:  2022-01-05 14:30:38.539864\n",
      "100 2022-01-05 14:30:45.009570\n",
      "200 2022-01-05 14:30:51.048454\n",
      "300 2022-01-05 14:30:57.295727\n",
      "400 2022-01-05 14:31:02.978729\n",
      "500 2022-01-05 14:31:09.511346\n",
      "600 2022-01-05 14:31:17.659540\n",
      "700 2022-01-05 14:31:58.763011\n",
      "800 2022-01-05 14:32:23.027146\n",
      "900 2022-01-05 14:35:43.757864\n",
      "1000 2022-01-05 14:36:12.925965\n",
      "1100 2022-01-05 14:36:34.919147\n",
      "1200 2022-01-05 14:37:29.625606\n",
      "1400 2022-01-05 14:39:54.932787\n",
      "1500 2022-01-05 15:09:08.685838\n",
      "1600 2022-01-05 15:11:27.937685\n",
      "1700 2022-01-05 15:12:04.132317\n",
      "1800 2022-01-05 15:36:01.007710\n",
      "1900 2022-01-05 15:36:34.163079\n",
      "2000 2022-01-05 15:39:39.865921\n",
      "2100 2022-01-05 15:42:17.836948\n",
      "2200 2022-01-05 15:51:48.584749\n",
      "2300 2022-01-05 15:57:42.837436\n",
      "Wall time: 1h 27min 10s\n"
     ]
    }
   ],
   "source": [
    "%%time\n",
    "clustered_df = clustering(AllMc0, 'num')"
   ]
  },
  {
   "cell_type": "code",
   "execution_count": 25,
   "metadata": {},
   "outputs": [
    {
     "data": {
      "text/html": [
       "<div>\n",
       "<style scoped>\n",
       "    .dataframe tbody tr th:only-of-type {\n",
       "        vertical-align: middle;\n",
       "    }\n",
       "\n",
       "    .dataframe tbody tr th {\n",
       "        vertical-align: top;\n",
       "    }\n",
       "\n",
       "    .dataframe thead th {\n",
       "        text-align: right;\n",
       "    }\n",
       "</style>\n",
       "<table border=\"1\" class=\"dataframe\">\n",
       "  <thead>\n",
       "    <tr style=\"text-align: right;\">\n",
       "      <th></th>\n",
       "      <th>j</th>\n",
       "      <th>X(J)</th>\n",
       "      <th>Y(J)</th>\n",
       "      <th>E(J)</th>\n",
       "      <th>H(J)</th>\n",
       "      <th>E0</th>\n",
       "      <th>A0</th>\n",
       "      <th>log_E0</th>\n",
       "      <th>num</th>\n",
       "      <th>R</th>\n",
       "      <th>ER</th>\n",
       "      <th>sum_energy</th>\n",
       "      <th>lg_r</th>\n",
       "      <th>lg_e_r</th>\n",
       "      <th>cluster_agl</th>\n",
       "      <th>cluster_db</th>\n",
       "      <th>cluster_ms</th>\n",
       "      <th>cluster_op</th>\n",
       "      <th>cluster_hd</th>\n",
       "      <th>cluster_af</th>\n",
       "    </tr>\n",
       "  </thead>\n",
       "  <tbody>\n",
       "    <tr>\n",
       "      <th>0</th>\n",
       "      <td>1</td>\n",
       "      <td>-3.013189</td>\n",
       "      <td>-7.227429</td>\n",
       "      <td>4.611031</td>\n",
       "      <td>1255.250</td>\n",
       "      <td>3366.712</td>\n",
       "      <td>1</td>\n",
       "      <td>3.527206</td>\n",
       "      <td>1</td>\n",
       "      <td>7.830392</td>\n",
       "      <td>36.106180</td>\n",
       "      <td>370.199507</td>\n",
       "      <td>0.893784</td>\n",
       "      <td>1.557582</td>\n",
       "      <td>3</td>\n",
       "      <td>0</td>\n",
       "      <td>0</td>\n",
       "      <td>7</td>\n",
       "      <td>2</td>\n",
       "      <td>0</td>\n",
       "    </tr>\n",
       "    <tr>\n",
       "      <th>1</th>\n",
       "      <td>2</td>\n",
       "      <td>-1.310529</td>\n",
       "      <td>-2.563248</td>\n",
       "      <td>12.047700</td>\n",
       "      <td>1545.054</td>\n",
       "      <td>3366.712</td>\n",
       "      <td>1</td>\n",
       "      <td>3.527206</td>\n",
       "      <td>1</td>\n",
       "      <td>2.878841</td>\n",
       "      <td>34.683415</td>\n",
       "      <td>370.199507</td>\n",
       "      <td>0.459218</td>\n",
       "      <td>1.540122</td>\n",
       "      <td>0</td>\n",
       "      <td>0</td>\n",
       "      <td>0</td>\n",
       "      <td>8</td>\n",
       "      <td>3</td>\n",
       "      <td>0</td>\n",
       "    </tr>\n",
       "    <tr>\n",
       "      <th>2</th>\n",
       "      <td>3</td>\n",
       "      <td>-2.178048</td>\n",
       "      <td>-2.144561</td>\n",
       "      <td>5.401844</td>\n",
       "      <td>3044.520</td>\n",
       "      <td>3366.712</td>\n",
       "      <td>1</td>\n",
       "      <td>3.527206</td>\n",
       "      <td>1</td>\n",
       "      <td>3.056638</td>\n",
       "      <td>16.511481</td>\n",
       "      <td>370.199507</td>\n",
       "      <td>0.485244</td>\n",
       "      <td>1.217786</td>\n",
       "      <td>0</td>\n",
       "      <td>0</td>\n",
       "      <td>0</td>\n",
       "      <td>9</td>\n",
       "      <td>1</td>\n",
       "      <td>0</td>\n",
       "    </tr>\n",
       "    <tr>\n",
       "      <th>3</th>\n",
       "      <td>4</td>\n",
       "      <td>-0.965465</td>\n",
       "      <td>-0.082880</td>\n",
       "      <td>5.325506</td>\n",
       "      <td>4715.523</td>\n",
       "      <td>3366.712</td>\n",
       "      <td>1</td>\n",
       "      <td>3.527206</td>\n",
       "      <td>1</td>\n",
       "      <td>0.969016</td>\n",
       "      <td>5.160501</td>\n",
       "      <td>370.199507</td>\n",
       "      <td>-0.013669</td>\n",
       "      <td>0.712692</td>\n",
       "      <td>0</td>\n",
       "      <td>0</td>\n",
       "      <td>0</td>\n",
       "      <td>2</td>\n",
       "      <td>1</td>\n",
       "      <td>0</td>\n",
       "    </tr>\n",
       "    <tr>\n",
       "      <th>4</th>\n",
       "      <td>5</td>\n",
       "      <td>-1.621645</td>\n",
       "      <td>0.079540</td>\n",
       "      <td>15.935060</td>\n",
       "      <td>3044.520</td>\n",
       "      <td>3366.712</td>\n",
       "      <td>1</td>\n",
       "      <td>3.527206</td>\n",
       "      <td>1</td>\n",
       "      <td>1.623595</td>\n",
       "      <td>25.872076</td>\n",
       "      <td>370.199507</td>\n",
       "      <td>0.210478</td>\n",
       "      <td>1.412831</td>\n",
       "      <td>0</td>\n",
       "      <td>0</td>\n",
       "      <td>0</td>\n",
       "      <td>10</td>\n",
       "      <td>1</td>\n",
       "      <td>0</td>\n",
       "    </tr>\n",
       "  </tbody>\n",
       "</table>\n",
       "</div>"
      ],
      "text/plain": [
       "    j      X(J)      Y(J)       E(J)      H(J)        E0   A0    log_E0  num  \\\n",
       "0   1 -3.013189 -7.227429   4.611031  1255.250  3366.712    1  3.527206    1   \n",
       "1   2 -1.310529 -2.563248  12.047700  1545.054  3366.712    1  3.527206    1   \n",
       "2   3 -2.178048 -2.144561   5.401844  3044.520  3366.712    1  3.527206    1   \n",
       "3   4 -0.965465 -0.082880   5.325506  4715.523  3366.712    1  3.527206    1   \n",
       "4   5 -1.621645  0.079540  15.935060  3044.520  3366.712    1  3.527206    1   \n",
       "\n",
       "          R         ER  sum_energy      lg_r    lg_e_r  cluster_agl  \\\n",
       "0  7.830392  36.106180  370.199507  0.893784  1.557582            3   \n",
       "1  2.878841  34.683415  370.199507  0.459218  1.540122            0   \n",
       "2  3.056638  16.511481  370.199507  0.485244  1.217786            0   \n",
       "3  0.969016   5.160501  370.199507 -0.013669  0.712692            0   \n",
       "4  1.623595  25.872076  370.199507  0.210478  1.412831            0   \n",
       "\n",
       "   cluster_db  cluster_ms  cluster_op  cluster_hd  cluster_af  \n",
       "0           0           0           7           2           0  \n",
       "1           0           0           8           3           0  \n",
       "2           0           0           9           1           0  \n",
       "3           0           0           2           1           0  \n",
       "4           0           0          10           1           0  "
      ]
     },
     "execution_count": 25,
     "metadata": {},
     "output_type": "execute_result"
    }
   ],
   "source": [
    "clustered_df.head()"
   ]
  },
  {
   "cell_type": "code",
   "execution_count": 24,
   "metadata": {},
   "outputs": [],
   "source": [
    "#%%time\n",
    "#clustered_df_old = clustering(olddata, ' num_of_family')"
   ]
  },
  {
   "cell_type": "code",
   "execution_count": 23,
   "metadata": {},
   "outputs": [
    {
     "name": "stdout",
     "output_type": "stream",
     "text": [
      "start:  2022-01-05 15:57:49.171775\n",
      "200 2022-01-05 15:58:11.943946\n",
      "300 2022-01-05 15:58:20.015370\n",
      "400 2022-01-05 15:58:32.265620\n",
      "500 2022-01-05 15:58:49.075196\n",
      "600 2022-01-05 15:59:00.828780\n",
      "700 2022-01-05 15:59:11.875248\n",
      "800 2022-01-05 15:59:22.841932\n",
      "900 2022-01-05 15:59:34.686270\n",
      "Wall time: 1min 48s\n"
     ]
    }
   ],
   "source": [
    "%%time\n",
    "clustered_df_exp = clustering(AllExp, ' num_of_fam')"
   ]
  },
  {
   "cell_type": "code",
   "execution_count": 26,
   "metadata": {},
   "outputs": [
    {
     "data": {
      "text/html": [
       "<div>\n",
       "<style scoped>\n",
       "    .dataframe tbody tr th:only-of-type {\n",
       "        vertical-align: middle;\n",
       "    }\n",
       "\n",
       "    .dataframe tbody tr th {\n",
       "        vertical-align: top;\n",
       "    }\n",
       "\n",
       "    .dataframe thead th {\n",
       "        text-align: right;\n",
       "    }\n",
       "</style>\n",
       "<table border=\"1\" class=\"dataframe\">\n",
       "  <thead>\n",
       "    <tr style=\"text-align: right;\">\n",
       "      <th></th>\n",
       "      <th>num_of_fam</th>\n",
       "      <th>j</th>\n",
       "      <th>X(J)</th>\n",
       "      <th>Y(J)</th>\n",
       "      <th>E(J)</th>\n",
       "      <th>R</th>\n",
       "      <th>cnt</th>\n",
       "      <th>ER</th>\n",
       "      <th>sum_energy</th>\n",
       "      <th>lg_r</th>\n",
       "      <th>lg_e_r</th>\n",
       "      <th>cluster_agl</th>\n",
       "      <th>cluster_db</th>\n",
       "      <th>cluster_ms</th>\n",
       "      <th>cluster_op</th>\n",
       "      <th>cluster_hd</th>\n",
       "      <th>cluster_af</th>\n",
       "    </tr>\n",
       "  </thead>\n",
       "  <tbody>\n",
       "    <tr>\n",
       "      <th>0</th>\n",
       "      <td>1</td>\n",
       "      <td>1</td>\n",
       "      <td>0.2513</td>\n",
       "      <td>-1.0370</td>\n",
       "      <td>20.896</td>\n",
       "      <td>1.067015</td>\n",
       "      <td>13</td>\n",
       "      <td>22.296342</td>\n",
       "      <td>145.8</td>\n",
       "      <td>0.028170</td>\n",
       "      <td>1.348234</td>\n",
       "      <td>0</td>\n",
       "      <td>0</td>\n",
       "      <td>0</td>\n",
       "      <td>0</td>\n",
       "      <td>2</td>\n",
       "      <td>0</td>\n",
       "    </tr>\n",
       "    <tr>\n",
       "      <th>1</th>\n",
       "      <td>1</td>\n",
       "      <td>2</td>\n",
       "      <td>0.6003</td>\n",
       "      <td>-0.5482</td>\n",
       "      <td>13.749</td>\n",
       "      <td>0.812947</td>\n",
       "      <td>13</td>\n",
       "      <td>11.177213</td>\n",
       "      <td>145.8</td>\n",
       "      <td>-0.089938</td>\n",
       "      <td>1.048334</td>\n",
       "      <td>0</td>\n",
       "      <td>0</td>\n",
       "      <td>0</td>\n",
       "      <td>4</td>\n",
       "      <td>1</td>\n",
       "      <td>0</td>\n",
       "    </tr>\n",
       "    <tr>\n",
       "      <th>2</th>\n",
       "      <td>1</td>\n",
       "      <td>3</td>\n",
       "      <td>0.3081</td>\n",
       "      <td>-1.0631</td>\n",
       "      <td>11.535</td>\n",
       "      <td>1.106846</td>\n",
       "      <td>13</td>\n",
       "      <td>12.767464</td>\n",
       "      <td>145.8</td>\n",
       "      <td>0.044087</td>\n",
       "      <td>1.106105</td>\n",
       "      <td>0</td>\n",
       "      <td>0</td>\n",
       "      <td>0</td>\n",
       "      <td>1</td>\n",
       "      <td>3</td>\n",
       "      <td>0</td>\n",
       "    </tr>\n",
       "    <tr>\n",
       "      <th>3</th>\n",
       "      <td>1</td>\n",
       "      <td>4</td>\n",
       "      <td>0.6618</td>\n",
       "      <td>-0.5704</td>\n",
       "      <td>6.129</td>\n",
       "      <td>0.873691</td>\n",
       "      <td>13</td>\n",
       "      <td>5.354850</td>\n",
       "      <td>145.8</td>\n",
       "      <td>-0.058642</td>\n",
       "      <td>0.728747</td>\n",
       "      <td>0</td>\n",
       "      <td>0</td>\n",
       "      <td>0</td>\n",
       "      <td>2</td>\n",
       "      <td>1</td>\n",
       "      <td>0</td>\n",
       "    </tr>\n",
       "    <tr>\n",
       "      <th>4</th>\n",
       "      <td>1</td>\n",
       "      <td>5</td>\n",
       "      <td>0.5843</td>\n",
       "      <td>-0.5611</td>\n",
       "      <td>8.619</td>\n",
       "      <td>0.810086</td>\n",
       "      <td>13</td>\n",
       "      <td>6.982133</td>\n",
       "      <td>145.8</td>\n",
       "      <td>-0.091469</td>\n",
       "      <td>0.843988</td>\n",
       "      <td>0</td>\n",
       "      <td>0</td>\n",
       "      <td>0</td>\n",
       "      <td>3</td>\n",
       "      <td>1</td>\n",
       "      <td>0</td>\n",
       "    </tr>\n",
       "  </tbody>\n",
       "</table>\n",
       "</div>"
      ],
      "text/plain": [
       "    num_of_fam  j    X(J)    Y(J)    E(J)         R  cnt         ER  \\\n",
       "0            1  1  0.2513 -1.0370  20.896  1.067015   13  22.296342   \n",
       "1            1  2  0.6003 -0.5482  13.749  0.812947   13  11.177213   \n",
       "2            1  3  0.3081 -1.0631  11.535  1.106846   13  12.767464   \n",
       "3            1  4  0.6618 -0.5704   6.129  0.873691   13   5.354850   \n",
       "4            1  5  0.5843 -0.5611   8.619  0.810086   13   6.982133   \n",
       "\n",
       "   sum_energy      lg_r    lg_e_r  cluster_agl  cluster_db  cluster_ms  \\\n",
       "0       145.8  0.028170  1.348234            0           0           0   \n",
       "1       145.8 -0.089938  1.048334            0           0           0   \n",
       "2       145.8  0.044087  1.106105            0           0           0   \n",
       "3       145.8 -0.058642  0.728747            0           0           0   \n",
       "4       145.8 -0.091469  0.843988            0           0           0   \n",
       "\n",
       "   cluster_op  cluster_hd  cluster_af  \n",
       "0           0           2           0  \n",
       "1           4           1           0  \n",
       "2           1           3           0  \n",
       "3           2           1           0  \n",
       "4           3           1           0  "
      ]
     },
     "execution_count": 26,
     "metadata": {},
     "output_type": "execute_result"
    }
   ],
   "source": [
    "clustered_df_exp.head()"
   ]
  },
  {
   "cell_type": "code",
   "execution_count": 27,
   "metadata": {},
   "outputs": [],
   "source": [
    "# Сохранение обработанных файлов в папку datachanged\n",
    "# clustered_df.to_csv('clusterdata/clusteredDF', sep = '\\t', index = False)"
   ]
  },
  {
   "cell_type": "code",
   "execution_count": null,
   "metadata": {},
   "outputs": [],
   "source": [
    "# Сохранение обработанных файлов в папку datachanged\n",
    "# clustered_df_old.to_csv('clusterdata/clusteredDFold', sep = '\\t', index = False)"
   ]
  },
  {
   "cell_type": "code",
   "execution_count": 28,
   "metadata": {},
   "outputs": [],
   "source": [
    "# Сохранение обработанных файлов в папку datachanged\n",
    "# clustered_df_exp.to_csv('clusterdata/clusteredDFexp', sep = '\\t', index = False)"
   ]
  },
  {
   "cell_type": "markdown",
   "metadata": {},
   "source": [
    "### Распределение по количеству выделенных кластеров в модели и в эксперименте."
   ]
  },
  {
   "cell_type": "code",
   "execution_count": null,
   "metadata": {},
   "outputs": [],
   "source": [
    "clustered_df = pd.read_csv('clusterdata/clusteredDF', sep = '\\t')\n",
    "clustered_df_exp = pd.read_csv('clusterdata/clusteredDFexp', sep = '\\t')\n",
    "#clustered_df_old = pd.read_csv('clusterdata/clusteredDFold', sep = '\\t')"
   ]
  },
  {
   "cell_type": "code",
   "execution_count": 29,
   "metadata": {},
   "outputs": [],
   "source": [
    "def unique_clust(data, name, clust):\n",
    "    nums = list(set(data[name]))\n",
    "    Unique_H = []\n",
    "    \n",
    "    for num in nums:\n",
    "        value = len(data[data[name]==num][clust].unique())\n",
    "        Unique_H.append(value)\n",
    "        \n",
    "    return Unique_H"
   ]
  },
  {
   "cell_type": "code",
   "execution_count": 37,
   "metadata": {},
   "outputs": [],
   "source": [
    "# Распределение по количеству выделенных кластеров\n",
    "\n",
    "uniq_h_new = unique_clust(clustered_df, 'num', 'cluster_agl')\n",
    "#uniq_h_old = unique_clust(clustered_df_old, ' num_of_family', 'cluster_agl')\n",
    "uniq_h_exp = unique_clust(clustered_df_exp, ' num_of_fam', 'cluster_agl')"
   ]
  },
  {
   "cell_type": "code",
   "execution_count": 44,
   "metadata": {},
   "outputs": [
    {
     "data": {
      "image/png": "[encoded data removed]",
      "text/plain": [
       "<Figure size 1200x400 with 1 Axes>"
      ]
     },
     "metadata": {
      "needs_background": "light"
     },
     "output_type": "display_data"
    }
   ],
   "source": [
    "# Распределение по высотам\n",
    "tit = 'Распределение_по_числу_выделенных_кластеров_модель_эксперимент_aglclust'\n",
    "fig = plt.figure(figsize=(15, 5), dpi=80)\n",
    "plt.title(tit)\n",
    "plt.hist(uniq_h_new, bins = 50, density = True, alpha = 0.4, color  = 'blue', label = 'new_mc0')\n",
    "plt.hist(uniq_h_exp, bins = 50, density = True, alpha = 0.9, color = 'green', label = 'experiment')\n",
    "#plt.savefig(f'images/distributions/{tit}.png')\n",
    "plt.xlim([0,30])\n",
    "plt.legend()\n",
    "plt.show()"
   ]
  },
  {
   "cell_type": "code",
   "execution_count": 51,
   "metadata": {},
   "outputs": [
    {
     "data": {
      "image/png": "[encoded data removed]",
      "text/plain": [
       "<Figure size 1200x400 with 6 Axes>"
      ]
     },
     "metadata": {
      "needs_background": "light"
     },
     "output_type": "display_data"
    }
   ],
   "source": [
    "algorithm = ['cluster_agl', 'cluster_db', 'cluster_ms', 'cluster_op', 'cluster_hd', 'cluster_af']\n",
    "\n",
    "fig = plt.figure(figsize=(15, 5), dpi=80)\n",
    "\n",
    "for i in range(6): \n",
    "    \n",
    "    uniq_h_new = unique_clust(clustered_df, 'num', algorithm[i])\n",
    "    uniq_h_exp = unique_clust(clustered_df_exp, ' num_of_fam', algorithm[i])\n",
    "\n",
    "    plt.subplot(2, 3, i+1)\n",
    "    plt.title(algorithm[i])\n",
    "    \n",
    "    plt.hist(uniq_h_new, bins = 50, density = True, alpha = 0.5, color  = 'blue', label = 'new_mc0')\n",
    "    plt.hist(uniq_h_exp, bins = 50, density = True, alpha = 0.9, color = 'green', label = 'experiment')\n",
    "    \n",
    "    plt.grid()\n",
    "    plt.legend()\n",
    "    plt.xlim([0, 50])\n",
    "    \n",
    "plt.tight_layout()"
   ]
  },
  {
   "cell_type": "markdown",
   "metadata": {},
   "source": [
    "### Корреляционный плот - число доминирующих высот - число кластеров"
   ]
  },
  {
   "cell_type": "code",
   "execution_count": 52,
   "metadata": {},
   "outputs": [],
   "source": [
    "def return_number_dom_h_cluster(data, name, clust):\n",
    "    \n",
    "    nums = list(set(data[name]))\n",
    "\n",
    "    number_dom_h = []\n",
    "    number_clusters = []\n",
    "    \n",
    "    for num in nums:\n",
    "\n",
    "        # Выделяем одно семейство\n",
    "        one = data[data[name]==num].copy()\n",
    "        \n",
    "        #смотрим кластеры\n",
    "        clusters = one[clust].unique()\n",
    "        number_clusters.append(len(clusters))        \n",
    "        \n",
    "        dom_h_one = []\n",
    "        \n",
    "        # идем по кластерам\n",
    "        for c in clusters:\n",
    "            value = one[one[clust]==c]['H(J)'].value_counts().head(1) # находим доминирующую высоту\n",
    "            \n",
    "            dom_h_one.append(value.index[0]) # добавляем ее в перечень высот\n",
    "        \n",
    "        number_dom_h_one = len(list(set(dom_h_one))) \n",
    "        number_dom_h.append(number_dom_h_one)\n",
    "            \n",
    "    return pd.DataFrame({'num': nums,'number_dom_h':number_dom_h, 'number_clusters': number_clusters})"
   ]
  },
  {
   "cell_type": "code",
   "execution_count": 56,
   "metadata": {},
   "outputs": [
    {
     "name": "stdout",
     "output_type": "stream",
     "text": [
      "0 cluster_agl\n"
     ]
    },
    {
     "data": {
      "image/png": "[encoded data removed]",
      "text/plain": [
       "<Figure size 432x432 with 3 Axes>"
      ]
     },
     "metadata": {
      "needs_background": "light"
     },
     "output_type": "display_data"
    },
    {
     "name": "stdout",
     "output_type": "stream",
     "text": [
      "1 cluster_db\n"
     ]
    },
    {
     "data": {
      "image/png": "[encoded data removed]",
      "text/plain": [
       "<Figure size 432x432 with 3 Axes>"
      ]
     },
     "metadata": {
      "needs_background": "light"
     },
     "output_type": "display_data"
    },
    {
     "name": "stdout",
     "output_type": "stream",
     "text": [
      "2 cluster_ms\n"
     ]
    },
    {
     "data": {
      "image/png": "[encoded data removed]",
      "text/plain": [
       "<Figure size 432x432 with 3 Axes>"
      ]
     },
     "metadata": {
      "needs_background": "light"
     },
     "output_type": "display_data"
    },
    {
     "name": "stdout",
     "output_type": "stream",
     "text": [
      "3 cluster_op\n"
     ]
    },
    {
     "data": {
      "image/png": "[encoded data removed]",
      "text/plain": [
       "<Figure size 432x432 with 3 Axes>"
      ]
     },
     "metadata": {
      "needs_background": "light"
     },
     "output_type": "display_data"
    },
    {
     "name": "stdout",
     "output_type": "stream",
     "text": [
      "4 cluster_hd\n"
     ]
    },
    {
     "data": {
      "image/png": "[encoded data removed]",
      "text/plain": [
       "<Figure size 432x432 with 3 Axes>"
      ]
     },
     "metadata": {
      "needs_background": "light"
     },
     "output_type": "display_data"
    },
    {
     "name": "stdout",
     "output_type": "stream",
     "text": [
      "5 cluster_af\n"
     ]
    },
    {
     "data": {
      "image/png": "[encoded data removed]",
      "text/plain": [
       "<Figure size 432x432 with 3 Axes>"
      ]
     },
     "metadata": {
      "needs_background": "light"
     },
     "output_type": "display_data"
    }
   ],
   "source": [
    "algorithm = ['cluster_agl', 'cluster_db', 'cluster_ms', 'cluster_op', 'cluster_hd', 'cluster_af']\n",
    "\n",
    "for i in range(6): \n",
    "    print(i, algorithm[i])\n",
    "    plotdf = return_number_dom_h_cluster(clustered_df, 'num', algorithm[i])    \n",
    "    sns.jointplot(x = plotdf['number_dom_h'], y = plotdf['number_clusters'],  kind='scatter')\n",
    "    plt.show()"
   ]
  },
  {
   "cell_type": "code",
   "execution_count": null,
   "metadata": {},
   "outputs": [],
   "source": []
  }
 ],
 "metadata": {
  "kernelspec": {
   "display_name": "Python 3",
   "language": "python",
   "name": "python3"
  },
  "language_info": {
   "codemirror_mode": {
    "name": "ipython",
    "version": 3
   },
   "file_extension": ".py",
   "mimetype": "text/x-python",
   "name": "python",
   "nbconvert_exporter": "python",
   "pygments_lexer": "ipython3",
   "version": "3.7.9"
  }
 },
 "nbformat": 4,
 "nbformat_minor": 4
}
